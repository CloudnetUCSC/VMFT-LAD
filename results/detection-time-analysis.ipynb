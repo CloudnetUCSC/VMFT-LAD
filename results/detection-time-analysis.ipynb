{
 "cells": [
  {
   "cell_type": "code",
   "execution_count": 1,
   "metadata": {},
   "outputs": [],
   "source": [
    "import os\n",
    "import pandas as pd\n",
    "import json\n",
    "from datetime import datetime"
   ]
  },
  {
   "cell_type": "code",
   "execution_count": 2,
   "metadata": {},
   "outputs": [],
   "source": [
    "probationary_period = 150\n",
    "thresholds = json.load(open(f\"./thresholds.json\"))"
   ]
  },
  {
   "cell_type": "code",
   "execution_count": 3,
   "metadata": {},
   "outputs": [],
   "source": [
    "\n",
    "# results_df = pd.DataFrame(columns=[\"Datafile\", \"fault_injection_timestamp\", \"vmft-lad_detection_idx\", \"vmft-lad_detection_time\", \n",
    "#                                    \"numenta_detection_idx\", \"numenta_detection_time\", \"failure_timestamp\", \n",
    "#                                    \"vmft-lad_time_before_failure\", \"numenta_time_before_failure\"\n",
    "#                                    ]).set_index(\"Datafile\", drop=True)\n",
    "\n",
    "# results = {}\n",
    "\n",
    "# for model_name in [\"vmft-lad\", \"numenta\"]:\n",
    "\n",
    "#     threshold = thresholds[model_name][\"standard\"][\"threshold\"]\n",
    "\n",
    "#     dataset_name = \"hdd\"\n",
    "\n",
    "#     dataset_dir = f\"../data/{dataset_name}\"\n",
    "#     dataset_metadata = json.load(\n",
    "#         open(f\"{dataset_dir}/dataset_metadata.json\"))\n",
    "\n",
    "#     for resultFile in os.scandir(f\"./{model_name}/{dataset_name}\"):\n",
    "#         if not resultFile.name.endswith(\".csv\"):\n",
    "#             continue\n",
    "\n",
    "#         dataset_result_df = pd.read_csv(resultFile.path, header=0)\n",
    "#         data_file_name = resultFile.name[len(model_name) + 1: -4]\n",
    "\n",
    "#         label_index = dataset_metadata[data_file_name][\"label_region\"] - 1\n",
    "#         failure_point_index = dataset_metadata[data_file_name][\"failure_point\"]\n",
    "\n",
    "#         fault_injection_timestamp = dataset_metadata[data_file_name][\"label_region_timestamp\"]\n",
    "#         failure_timestamp = dataset_metadata[data_file_name][\"failure_point_timestamp\"]\n",
    "\n",
    "#         try:\n",
    "#             results[data_file_name]\n",
    "#         except KeyError:\n",
    "#             results[data_file_name] = {}\n",
    "            \n",
    "#         results[data_file_name][\"fault_injection_timestamp\"] = fault_injection_timestamp\n",
    "#         results[data_file_name][\"failure_timestamp\"] = failure_timestamp\n",
    "\n",
    "#         fault_injection_time = None\n",
    "#         if not fault_injection_timestamp == \"\":\n",
    "#             fault_injection_time = pd.to_datetime(\n",
    "#                 fault_injection_timestamp)\n",
    "\n",
    "#         failure_time = None\n",
    "#         if not failure_timestamp == \"\":\n",
    "#             failure_time = pd.to_datetime(failure_timestamp)\n",
    "\n",
    "\n",
    "#         i = label_index  # iterator for the data points\n",
    "#         # # Benign region\n",
    "#         # while (i < label_index):\n",
    "#         #     anomaly_score = dataset_result_df.iloc[i][\"anomaly_score\"]\n",
    "#         #     if anomaly_score >= threshold:\n",
    "#         #         false_positive += 1\n",
    "#         #     else:\n",
    "#         #         true_negative += 1\n",
    "#         #     i += 1\n",
    "\n",
    "#         # Anomalous region\n",
    "#         while (i < failure_point_index):\n",
    "#             anomaly_score = dataset_result_df.iloc[i][\"anomaly_score\"]\n",
    "#             if anomaly_score >= threshold:  # Early detection\n",
    "#                 # early_detection_count += 1\n",
    "\n",
    "#                 results[data_file_name][f\"{model_name}_detection_idx\"] = i\n",
    "\n",
    "#                 detection_timestamp = dataset_result_df.iloc[i][\"timestamp\"]\n",
    "#                 detection_time = pd.to_datetime(detection_timestamp)\n",
    "\n",
    "#                 results[data_file_name][f\"{model_name}_detection_time\"] = detection_time\n",
    "\n",
    "#                 # time_to_detection = (\n",
    "#                 #     detection_time - fault_injection_time).milliseconds\n",
    "\n",
    "#                 time_before_failure = (failure_time - detection_time).seconds\n",
    "                \n",
    "#                 results[data_file_name][f\"{model_name}_time_before_failure\"] = round(time_before_failure/60, 3)\n",
    "\n",
    "#                 break\n",
    "#             i += 1"
   ]
  },
  {
   "cell_type": "code",
   "execution_count": 4,
   "metadata": {},
   "outputs": [],
   "source": [
    "# results_df = pd.DataFrame(results).T"
   ]
  },
  {
   "cell_type": "code",
   "execution_count": 5,
   "metadata": {},
   "outputs": [],
   "source": [
    "# results_df.to_csv(\"./results.csv\")"
   ]
  },
  {
   "cell_type": "code",
   "execution_count": 6,
   "metadata": {},
   "outputs": [],
   "source": [
    "def execute(model_name: str, llmOnly: bool = False):\n",
    "\n",
    "    threshold = thresholds[model_name][\"standard\"][\"threshold\"]\n",
    "    print(f\"Model: {model_name}, Threshold: {threshold}\")\n",
    "    # Average False positive rate\n",
    "    # Average time for first detection after fault injection\n",
    "    false_positive = 0\n",
    "    true_negative = 0\n",
    "\n",
    "    early_detection_count = 0\n",
    "    faulty_dataset_count = 0\n",
    "\n",
    "    average_time_to_detection = {}\n",
    "    average_detection_time_before_failure = {}\n",
    "\n",
    "    datasets = [\"benign\", \"hdd\", \"oom\", \"buffer-io\", \"cpu\"]\n",
    "\n",
    "    for dataset_name in datasets:\n",
    "        dataset_dir = f\"../data/{dataset_name}\"\n",
    "        dataset_metadata = json.load(open(f\"{dataset_dir}/dataset_metadata.json\"))\n",
    "\n",
    "        average_time_to_detection[dataset_name] = None\n",
    "        average_detection_time_before_failure[dataset_name] = None\n",
    "\n",
    "        datasetResultDir = (\n",
    "            f\"./LLM_only/{model_name}/{dataset_name}\"\n",
    "            if llmOnly\n",
    "            else f\"./{model_name}/{dataset_name}\"\n",
    "        )\n",
    "        for resultFile in os.scandir(datasetResultDir):\n",
    "            if not resultFile.name.endswith(\".csv\"):\n",
    "                continue\n",
    "\n",
    "            dataset_result_df = pd.read_csv(resultFile.path, header=0)\n",
    "            data_file_name = resultFile.name[len(model_name) + 1 : -4]\n",
    "\n",
    "            label_index = dataset_metadata[data_file_name][\"label_region\"] - 1\n",
    "            failure_point_index = dataset_metadata[data_file_name][\"failure_point\"]\n",
    "\n",
    "            fault_injection_timestamp = dataset_metadata[data_file_name][\n",
    "                \"label_region_timestamp\"\n",
    "            ]\n",
    "            failure_timestamp = dataset_metadata[data_file_name][\n",
    "                \"failure_point_timestamp\"\n",
    "            ]\n",
    "\n",
    "            fault_injection_time = None\n",
    "            if not fault_injection_timestamp == \"\":\n",
    "                fault_injection_time = pd.to_datetime(fault_injection_timestamp)\n",
    "\n",
    "            failure_time = None\n",
    "            if not failure_timestamp == \"\":\n",
    "                failure_time = pd.to_datetime(failure_timestamp)\n",
    "\n",
    "            # for benign datasets, the label_index is 0\n",
    "            if label_index <= 0:\n",
    "                label_index = len(dataset_result_df)\n",
    "                failure_point_index = len(dataset_result_df)\n",
    "            else:\n",
    "                faulty_dataset_count += 1\n",
    "\n",
    "            i = probationary_period + 1  # iterator for the data points\n",
    "            # Benign region\n",
    "            while i < label_index:\n",
    "                anomaly_score = dataset_result_df.iloc[i][\"anomaly_score\"]\n",
    "                if anomaly_score >= threshold:\n",
    "                    false_positive += 1\n",
    "                else:\n",
    "                    true_negative += 1\n",
    "                i += 1\n",
    "\n",
    "            # Anomalous region\n",
    "            while i < failure_point_index:\n",
    "                anomaly_score = dataset_result_df.iloc[i][\"anomaly_score\"]\n",
    "                if anomaly_score >= threshold:  # Early detection\n",
    "                    early_detection_count += 1\n",
    "\n",
    "                    detection_timestamp = dataset_result_df.iloc[i][\"timestamp\"]\n",
    "                    detection_time = pd.to_datetime(detection_timestamp)\n",
    "\n",
    "                    # print( \"Dataset: \", data_file_name, \"  Detection at: \", i, \"  Time: \", detection_time)\n",
    "\n",
    "                    time_to_detection = (\n",
    "                        detection_time - fault_injection_time\n",
    "                    ).microseconds / 1000\n",
    "                    time_before_failure = (failure_time - detection_time).seconds / 60\n",
    "\n",
    "                    # print(\"Time before failure: \", time_before_failure/60, \" minutes\")\n",
    "\n",
    "                    average_time_to_detection[dataset_name] = (\n",
    "                        time_to_detection\n",
    "                        if average_time_to_detection[dataset_name] is None\n",
    "                        else (\n",
    "                            average_time_to_detection[dataset_name] + time_to_detection\n",
    "                        )\n",
    "                        / 2\n",
    "                    )\n",
    "                    average_detection_time_before_failure[dataset_name] = (\n",
    "                        time_before_failure\n",
    "                        if average_detection_time_before_failure[dataset_name] is None\n",
    "                        else (\n",
    "                            average_detection_time_before_failure[dataset_name]\n",
    "                            + time_before_failure\n",
    "                        )\n",
    "                        / 2\n",
    "                    )\n",
    "                    break\n",
    "                i += 1\n",
    "\n",
    "    false_positive_rate = false_positive / (false_positive + true_negative)\n",
    "    print(f\"False positive count: {false_positive}\")\n",
    "    print(f\"False positive rate: {round(false_positive_rate, 4)}\")\n",
    "    print(\n",
    "        f\"Early detection rate: {round(early_detection_count/faulty_dataset_count, 4)}\"\n",
    "    )\n",
    "    print(f\"Average time to detection - milliseconds: {average_time_to_detection}\")\n",
    "    print(\n",
    "        f\"Average detection time before failure - minutes: {average_detection_time_before_failure}\"\n",
    "    )"
   ]
  },
  {
   "cell_type": "code",
   "execution_count": 6,
   "metadata": {},
   "outputs": [
    {
     "name": "stdout",
     "output_type": "stream",
     "text": [
      "Model: vmft-lad, Threshold: 1.0\n",
      "False positive count: 113\n",
      "False positive rate: 0.0002\n",
      "Early detection rate: 0.9628\n",
      "Average time to detection - milliseconds: {'benign': None, 'hdd': 968.7480775766085, 'oom': 468.7344080342906, 'buffer-io': 968.199120681212, 'cpu': 8.75600554431943}\n",
      "Average detection time before failure - minutes: {'benign': None, 'hdd': 15.651849923786019, 'oom': 3.0338102298355163, 'buffer-io': 13.33859723954551, 'cpu': 14.535446894853292}\n"
     ]
    }
   ],
   "source": [
    "execute(\"vmft-lad\")"
   ]
  },
  {
   "cell_type": "code",
   "execution_count": 8,
   "metadata": {},
   "outputs": [
    {
     "name": "stdout",
     "output_type": "stream",
     "text": [
      "Model: numenta, Threshold: 0.504963404813\n",
      "False positive count: 414\n",
      "False positive rate: 0.0007\n",
      "Early detection rate: 0.6208\n",
      "Average time to detection - milliseconds: {'benign': None, 'hdd': 517.5647055581534, 'oom': 904.6745581054687, 'buffer-io': 0.24440863060355014, 'cpu': 1.0}\n",
      "Average detection time before failure - minutes: {'benign': None, 'hdd': 15.675002919676338, 'oom': 1.5358723958333333, 'buffer-io': 13.354729834212039, 'cpu': 8.46253013934012}\n"
     ]
    }
   ],
   "source": [
    "execute(\"numenta\")"
   ]
  },
  {
   "cell_type": "code",
   "execution_count": 9,
   "metadata": {},
   "outputs": [
    {
     "name": "stdout",
     "output_type": "stream",
     "text": [
      "Model: knncad, Threshold: 1.0\n",
      "False positive count: 4570\n",
      "False positive rate: 0.0074\n",
      "Early detection rate: 0.7658\n",
      "Average time to detection - milliseconds: {'benign': None, 'hdd': 921.8663295289207, 'oom': 614.3773518218993, 'buffer-io': 999.9379649047843, 'cpu': 1.0}\n",
      "Average detection time before failure - minutes: {'benign': None, 'hdd': 15.901461066853159, 'oom': 2.0129403750101726, 'buffer-io': 12.073575605253577, 'cpu': 12.555667555433445}\n"
     ]
    }
   ],
   "source": [
    "execute(\"knncad\")"
   ]
  },
  {
   "cell_type": "code",
   "execution_count": 10,
   "metadata": {},
   "outputs": [
    {
     "name": "stdout",
     "output_type": "stream",
     "text": [
      "Model: ARTime, Threshold: 0.308129\n",
      "False positive count: 1485\n",
      "False positive rate: 0.0024\n",
      "Early detection rate: 0.7825\n",
      "Average time to detection - milliseconds: {'benign': None, 'hdd': 517.5690119895522, 'oom': 238.27074967507554, 'buffer-io': 997.9805484542189, 'cpu': 2.26953174360115}\n",
      "Average detection time before failure - minutes: {'benign': None, 'hdd': 15.674999271620011, 'oom': 4.057058896744176, 'buffer-io': 13.337871817296088, 'cpu': 13.120237247275885}\n"
     ]
    }
   ],
   "source": [
    "execute(\"ARTime\")"
   ]
  },
  {
   "cell_type": "code",
   "execution_count": 11,
   "metadata": {},
   "outputs": [
    {
     "name": "stdout",
     "output_type": "stream",
     "text": [
      "Model: expose, Threshold: 0.9720854386352024\n",
      "False positive count: 2377\n",
      "False positive rate: 0.0039\n",
      "Early detection rate: 0.8513\n",
      "Average time to detection - milliseconds: {'benign': None, 'hdd': 483.4261965567764, 'oom': 182.70244430208794, 'buffer-io': 999.999, 'cpu': 9.0}\n",
      "Average detection time before failure - minutes: {'benign': None, 'hdd': 15.658399279454928, 'oom': 3.1366656689038077, 'buffer-io': 11.864066392377282, 'cpu': 23.95914125818031}\n"
     ]
    }
   ],
   "source": [
    "execute(\"expose\")"
   ]
  },
  {
   "cell_type": "code",
   "execution_count": 7,
   "metadata": {},
   "outputs": [
    {
     "name": "stdout",
     "output_type": "stream",
     "text": [
      "Model: DeepLog, Threshold: 1.0\n",
      "False positive count: 2292\n",
      "False positive rate: 0.0037\n",
      "Early detection rate: 1.0\n",
      "Average time to detection - milliseconds: {'benign': None, 'hdd': 500.50304005984765, 'oom': 8.515709403009705, 'buffer-io': 0.48828076172585544, 'cpu': 9.0}\n",
      "Average detection time before failure - minutes: {'benign': None, 'hdd': 15.675287281052338, 'oom': 4.376496198794549, 'buffer-io': 13.354725769672456, 'cpu': 23.95914125818031}\n"
     ]
    }
   ],
   "source": [
    "execute(\"DeepLog\")"
   ]
  },
  {
   "cell_type": "code",
   "execution_count": 21,
   "metadata": {},
   "outputs": [
    {
     "name": "stdout",
     "output_type": "stream",
     "text": [
      "Model: LLM-BartLarge, Threshold: 1.0\n",
      "False positive count: 107515\n",
      "False positive rate: 0.1749\n",
      "Early detection rate: 1.0\n",
      "Average time to detection - milliseconds: {'benign': None, 'hdd': 960.9317632159788, 'oom': 8.257854224667707, 'buffer-io': 7.105421310963972e-12, 'cpu': 8.999999984633176}\n",
      "Average detection time before failure - minutes: {'benign': None, 'hdd': 15.651980195837822, 'oom': 4.376496198794549, 'buffer-io': 13.354733907693289, 'cpu': 23.959141258189042}\n"
     ]
    }
   ],
   "source": [
    "execute(\"LLM-BartLarge\", llmOnly=True)"
   ]
  },
  {
   "cell_type": "code",
   "execution_count": 22,
   "metadata": {},
   "outputs": [
    {
     "name": "stdout",
     "output_type": "stream",
     "text": [
      "Model: LLM-GPT3, Threshold: 1.0\n",
      "False positive count: 327\n",
      "False positive rate: 0.0005\n",
      "Early detection rate: 1.0\n",
      "Average time to detection - milliseconds: {'benign': None, 'hdd': 960.9317632159805, 'oom': 8.257854701504865, 'buffer-io': 7.105421310963972e-12, 'cpu': 9.0}\n",
      "Average detection time before failure - minutes: {'benign': None, 'hdd': 15.651980195837822, 'oom': 4.376496198794549, 'buffer-io': 13.354733907693289, 'cpu': 23.95914125818031}\n"
     ]
    }
   ],
   "source": [
    "execute(\"LLM-GPT3\", llmOnly=True)"
   ]
  },
  {
   "cell_type": "code",
   "execution_count": 7,
   "metadata": {},
   "outputs": [
    {
     "name": "stdout",
     "output_type": "stream",
     "text": [
      "Model: LLM-Cyrax7B, Threshold: 1.0\n",
      "False positive count: 53983\n",
      "False positive rate: 0.0878\n",
      "Early detection rate: 1.0\n",
      "Average time to detection - milliseconds: {'benign': None, 'hdd': 3.9291493913899584, 'oom': 3.3892366200352937, 'buffer-io': 7.1054204639318715e-12, 'cpu': 8.998046875}\n",
      "Average detection time before failure - minutes: {'benign': None, 'hdd': 15.68356352083972, 'oom': 4.376496198794549, 'buffer-io': 13.354733907693289, 'cpu': 23.959173810263643}\n"
     ]
    }
   ],
   "source": [
    "execute(\"LLM-Cyrax7B\", llmOnly=True)"
   ]
  },
  {
   "cell_type": "code",
   "execution_count": 8,
   "metadata": {},
   "outputs": [
    {
     "name": "stdout",
     "output_type": "stream",
     "text": [
      "Model: LLM-EmertonMonarch7B, Threshold: 1.0\n",
      "False positive count: 74216\n",
      "False positive rate: 0.1207\n",
      "Early detection rate: 1.0\n",
      "Average time to detection - milliseconds: {'benign': None, 'hdd': 3.9291493913899584, 'oom': 8.10044179246803, 'buffer-io': 7.1054204639318715e-12, 'cpu': 8.998046875}\n",
      "Average detection time before failure - minutes: {'benign': None, 'hdd': 15.68356352083972, 'oom': 4.424022240461215, 'buffer-io': 13.354733907693289, 'cpu': 23.959173810263643}\n"
     ]
    }
   ],
   "source": [
    "execute(\"LLM-EmertonMonarch7B\", llmOnly=True)"
   ]
  },
  {
   "cell_type": "code",
   "execution_count": 9,
   "metadata": {},
   "outputs": [
    {
     "name": "stdout",
     "output_type": "stream",
     "text": [
      "Model: LLM-Falcon7B, Threshold: 1.0\n",
      "False positive count: 48859\n",
      "False positive rate: 0.0795\n",
      "Early detection rate: 0.9907\n",
      "Average time to detection - milliseconds: {'benign': None, 'hdd': 960.9322400526192, 'oom': 5.846148464394352, 'buffer-io': 999.999, 'cpu': 8.998046875}\n",
      "Average detection time before failure - minutes: {'benign': None, 'hdd': 15.665530120045299, 'oom': 4.418162865461215, 'buffer-io': 12.25917505414257, 'cpu': 23.959173810263643}\n"
     ]
    }
   ],
   "source": [
    "execute(\"LLM-Falcon7B\", llmOnly=True)"
   ]
  }
 ],
 "metadata": {
  "kernelspec": {
   "display_name": "Python 3",
   "language": "python",
   "name": "python3"
  },
  "language_info": {
   "codemirror_mode": {
    "name": "ipython",
    "version": 3
   },
   "file_extension": ".py",
   "mimetype": "text/x-python",
   "name": "python",
   "nbconvert_exporter": "python",
   "pygments_lexer": "ipython3",
   "version": "3.8.10"
  }
 },
 "nbformat": 4,
 "nbformat_minor": 2
}
