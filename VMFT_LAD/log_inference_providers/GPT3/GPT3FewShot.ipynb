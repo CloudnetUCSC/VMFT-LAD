{
 "cells": [
  {
   "cell_type": "code",
   "execution_count": 1,
   "metadata": {},
   "outputs": [
    {
     "name": "stderr",
     "output_type": "stream",
     "text": [
      "c:\\Users\\prath\\OneDrive\\Desktop\\UCSC\\Research\\Cloudnet-Research-Project-Repo\\ml-models\\VMFT_LAD\\.venv\\lib\\site-packages\\tqdm\\auto.py:21: TqdmWarning: IProgress not found. Please update jupyter and ipywidgets. See https://ipywidgets.readthedocs.io/en/stable/user_install.html\n",
      "  from .autonotebook import tqdm as notebook_tqdm\n"
     ]
    }
   ],
   "source": [
    "from transformers import pipeline\n",
    "import pandas as pd\n",
    "from tqdm import tqdm\n",
    "from openai import OpenAI"
   ]
  },
  {
   "cell_type": "code",
   "execution_count": 19,
   "metadata": {},
   "outputs": [],
   "source": [
    "from env import OPENAI_API_KEY\n",
    "\n",
    "client = OpenAI(api_key=OPENAI_API_KEY)\n",
    "model = \"gpt-3.5-turbo\""
   ]
  },
  {
   "cell_type": "code",
   "execution_count": 20,
   "metadata": {},
   "outputs": [],
   "source": [
    "prompt_sample_logs = \"\"\"\n",
    "Following are some of the normal state logs, refer to them when deciding whether the given log template is a failure or normal.\n",
    "Normal state log templates:\n",
    "br0: port entered state,\n",
    "device promiscuous mode,\n",
    "delete user,\n",
    "Failed for invalid user from port ssh2,\n",
    "Could not find device,\n",
    "waiting for device initialization: No such device\",\n",
    "uid= euid=,\n",
    "Failed password for from port  ssh2,\n",
    "Received disconnect from port :: disconnected by user,\n",
    "tap1: Gained,\n",
    "Lost carrier,\n",
    "Stopped target,\n",
    "Disconnected from user port ,\n",
    "Stopped target Host and Network Name Lookups.,\n",
    "Finished Exit the Session.,\n",
    "Stopped User Manager for UID .,\n",
    "FAILED LOGIN () on '/dev/tty1' FOR 'UNKNOWN', Authentication failure,\n",
    "Stopping System Logging Service...\n",
    "\"\"\"\n",
    "\n",
    "def generate_prompt(log_line):\n",
    "  prompt_text = ('Classify the Log line into faulty or normal.\\n' +\n",
    "  'Log line: \"' + log_line + '\"\\n' +\n",
    "  prompt_sample_logs + '\\n'+\n",
    "  'Command: Classify only whether the given log line as faulty or normal in one word \\n' +\n",
    "  'Result: ')\n",
    "  messages = [{\"role\": \"user\", \"content\": prompt_text}]\n",
    "  return messages"
   ]
  },
  {
   "cell_type": "code",
   "execution_count": 21,
   "metadata": {},
   "outputs": [],
   "source": [
    "def infer_log_line(log_line: str) -> bool:\n",
    "  response = client.chat.completions.create(\n",
    "    model=model,\n",
    "    messages=generate_prompt(log_line)\n",
    "  )\n",
    "  generated_text = response.choices[0].message.content\n",
    "  return generated_text.lower().find(\"fault\") >= 0"
   ]
  },
  {
   "cell_type": "code",
   "execution_count": null,
   "metadata": {},
   "outputs": [],
   "source": [
    "infer_log_line('Using degraded feature set  for DNS server .')"
   ]
  },
  {
   "cell_type": "code",
   "execution_count": null,
   "metadata": {},
   "outputs": [],
   "source": [
    "drain3_state_df = pd.read_csv('../../../../preprocessing/drain3_state.csv', header=0)\n",
    "drain3_state_df"
   ]
  },
  {
   "cell_type": "code",
   "execution_count": null,
   "metadata": {},
   "outputs": [],
   "source": [
    "out_df = drain3_state_df.copy()\n",
    "labels = []\n",
    "\n",
    "for index, row in tqdm(drain3_state_df.iterrows()):\n",
    "    labels.append(infer_log_line(row[\"log_text\"]))\n",
    "\n",
    "out_df[\"label\"] = labels"
   ]
  },
  {
   "cell_type": "code",
   "execution_count": null,
   "metadata": {},
   "outputs": [],
   "source": [
    "out_df.to_csv(\"./GPT3_few_shot_out.csv\", index=False)"
   ]
  },
  {
   "cell_type": "code",
   "execution_count": 3,
   "metadata": {},
   "outputs": [],
   "source": [
    "import pandas as pd\n",
    "drain3_state_df = pd.read_csv('../../../../preprocessing/drain3_state.csv', header=0)\n",
    "out_df = drain3_state_df.copy()\n",
    "\n",
    "labels = []\n",
    "output = []\n",
    "f = open(\"./gpt3_out_raw.csv\", \"r\")\n",
    "for line in f:\n",
    "    result = line.strip().split(\",\")[1]\n",
    "    output.append(result)\n",
    "    labels.append(True if result.lower().strip() == \"faulty\" else False)\n",
    "\n",
    "label_df = pd.DataFrame({\"label\":labels, \"output\":output})"
   ]
  },
  {
   "cell_type": "code",
   "execution_count": 4,
   "metadata": {},
   "outputs": [],
   "source": [
    "out_df[\"label\"] = label_df[\"label\"]\n",
    "\n",
    "out_df.to_csv(\"./GPT3_few_shot_out.csv\", index=False)"
   ]
  }
 ],
 "metadata": {
  "kernelspec": {
   "display_name": ".venv",
   "language": "python",
   "name": "python3"
  },
  "language_info": {
   "codemirror_mode": {
    "name": "ipython",
    "version": 3
   },
   "file_extension": ".py",
   "mimetype": "text/x-python",
   "name": "python",
   "nbconvert_exporter": "python",
   "pygments_lexer": "ipython3",
   "version": "3.8.10"
  }
 },
 "nbformat": 4,
 "nbformat_minor": 2
}
