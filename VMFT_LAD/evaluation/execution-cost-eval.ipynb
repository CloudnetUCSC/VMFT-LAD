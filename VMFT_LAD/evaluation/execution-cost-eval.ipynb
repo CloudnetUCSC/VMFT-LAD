{
 "cells": [
  {
   "cell_type": "code",
   "execution_count": 6,
   "metadata": {},
   "outputs": [],
   "source": [
    "import psutil\n",
    "import os\n",
    "import pandas as pd\n",
    "from timeit import default_timer as timer\n",
    "\n",
    "from vmft_lad.BaseDetector import BaseDetector\n",
    "from heap_providers.SubsequenceMaxHeap import SubsequenceMaxHeap\n",
    "from heap_providers.ListProvider import ListMaxHeapProvider\n",
    "from log_inference_providers.FakeLogInferenceProvider import FakeLogInferenceProvider\n"
   ]
  },
  {
   "cell_type": "code",
   "execution_count": 7,
   "metadata": {},
   "outputs": [],
   "source": [
    "window_size = 4\n",
    "anomaly_threshold = 0.15\n",
    "subsequence_match_threshold = 0.05\n",
    "probationary_period = 150\n",
    "\n",
    "inference_provider = FakeLogInferenceProvider()"
   ]
  },
  {
   "cell_type": "code",
   "execution_count": 8,
   "metadata": {},
   "outputs": [],
   "source": [
    "def get_data():\n",
    "    for dataset_name in [\"benign\", \"hdd\", \"oom\", \"buffer-io\"]:\n",
    "        dataset_dir = f\"../../../data/{dataset_name}\"\n",
    "        datafile_count = 0\n",
    "        for datasetFile in os.scandir(dataset_dir):\n",
    "            if datafile_count >= 2:\n",
    "                break\n",
    "            if not datasetFile.name.endswith(\".csv\"):\n",
    "                continue\n",
    "            \n",
    "            dataset_df = pd.read_csv(datasetFile.path, header=0)\n",
    "            data = dataset_df[\"value\"].tolist()\n",
    "            datafile_count += 1\n",
    "            yield data"
   ]
  },
  {
   "cell_type": "code",
   "execution_count": 9,
   "metadata": {},
   "outputs": [],
   "source": [
    "# Execution time\n",
    "def eval_execution_time(max_heap_provider_class):\n",
    "    execution_time_min = float(\"inf\")\n",
    "    execution_time_max = 0\n",
    "    execution_time_avg = None\n",
    "    \n",
    "    for data in get_data():\n",
    "        max_heap_provider = max_heap_provider_class()\n",
    "\n",
    "        model = BaseDetector(\n",
    "            inferenceProvider=inference_provider,\n",
    "            maxHeapProvider=max_heap_provider,\n",
    "            data=data,\n",
    "            windowSize=window_size,\n",
    "            probationaryPeriod=probationary_period,\n",
    "            subsequenceMatchThreshold=subsequence_match_threshold,\n",
    "            anomalyThreshold=anomaly_threshold)\n",
    "        \n",
    "        for i in range(len(data)):\n",
    "            start = timer()\n",
    "            model.handleRecord(i)\n",
    "            end = timer()\n",
    "            execution_time = end - start\n",
    "            execution_time_min = min(execution_time_min, execution_time)\n",
    "            execution_time_max = max(execution_time_max, execution_time)\n",
    "            execution_time_avg = execution_time if execution_time_avg is None else (execution_time_avg + execution_time) / 2\n",
    "\n",
    "    # print(f\"Execution time (min): {execution_time_min*1000 }ms\")\n",
    "    # print(f\"Execution time (max): {execution_time_max*1000} ms\")\n",
    "    print(f\"Execution time (avg): {execution_time_avg*1000 } ms\")\n",
    "    return execution_time_avg*100\n"
   ]
  },
  {
   "cell_type": "code",
   "execution_count": 10,
   "metadata": {},
   "outputs": [
    {
     "name": "stdout",
     "output_type": "stream",
     "text": [
      "Execution time (avg): 0.21861921060071662 ms\n",
      "Execution time (avg): 0.21236385797950746 ms\n",
      "Average record handle time (list): 0.021861921060071662 ms\n",
      "Average record handle time (pq): 0.021236385797950744 ms\n",
      "Savings: 0.0006255352621209187 ms (2.861300525247017%)\n"
     ]
    }
   ],
   "source": [
    "avg_time_list = eval_execution_time(ListMaxHeapProvider)\n",
    "avg_time_pq = eval_execution_time(SubsequenceMaxHeap)\n",
    "\n",
    "print(f\"Average record handle time (list): {avg_time_list} ms\")\n",
    "print(f\"Average record handle time (pq): {avg_time_pq} ms\")\n",
    "\n",
    "print(f\"Savings: {avg_time_list - avg_time_pq} ms ({(avg_time_list - avg_time_pq) / avg_time_list * 100}%)\")"
   ]
  },
  {
   "cell_type": "code",
   "execution_count": null,
   "metadata": {},
   "outputs": [],
   "source": []
  }
 ],
 "metadata": {
  "kernelspec": {
   "display_name": ".venv",
   "language": "python",
   "name": "python3"
  },
  "language_info": {
   "codemirror_mode": {
    "name": "ipython",
    "version": 3
   },
   "file_extension": ".py",
   "mimetype": "text/x-python",
   "name": "python",
   "nbconvert_exporter": "python",
   "pygments_lexer": "ipython3",
   "version": "3.8.10"
  }
 },
 "nbformat": 4,
 "nbformat_minor": 2
}
