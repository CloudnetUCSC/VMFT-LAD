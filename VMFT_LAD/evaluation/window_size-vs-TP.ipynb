{
 "cells": [
  {
   "cell_type": "code",
   "execution_count": 40,
   "metadata": {},
   "outputs": [],
   "source": [
    "import os\n",
    "import pandas as pd\n",
    "import json\n",
    "import numpy as np\n",
    "import plotly.graph_objects as go\n",
    "from plotly.subplots import make_subplots\n",
    "from concurrent.futures.thread import ThreadPoolExecutor\n",
    "\n",
    "from vmft_lad.BaseDetector import BaseDetector\n",
    "from heap_providers.SubsequenceMaxHeap import SubsequenceMaxHeap\n",
    "from log_inference_providers.GPT3.FastGPT3FewShotLogInference import FastGPT3FewShotLogInference\n",
    "from log_inference_providers.FakeLogInferenceProvider import FakeLogInferenceProvider\n"
   ]
  },
  {
   "cell_type": "code",
   "execution_count": 41,
   "metadata": {},
   "outputs": [],
   "source": [
    "window_size = 4\n",
    "anomaly_threshold = 0.2\n",
    "subsequence_match_threshold = 0.05\n",
    "# probationary_period = 150\n",
    "benign_eval_window = 200\n",
    "\n",
    "# inference_provider = FastGPT3FewShotLogInference()\n",
    "inference_provider = FakeLogInferenceProvider()"
   ]
  },
  {
   "cell_type": "code",
   "execution_count": 42,
   "metadata": {},
   "outputs": [],
   "source": [
    "def get_data(dataset_dir):\n",
    "        datafile_count = 0\n",
    "        for datasetFile in os.scandir(dataset_dir):\n",
    "            if datafile_count >= 2:\n",
    "                break\n",
    "            if not datasetFile.name.endswith(\".csv\"):\n",
    "                continue\n",
    "\n",
    "            dataset_name = datasetFile.name.split(\".\")[0]\n",
    "            \n",
    "            dataset_df = pd.read_csv(datasetFile.path, header=0)\n",
    "            data = dataset_df[\"value\"].tolist()\n",
    "            datafile_count += 1\n",
    "            yield dataset_name, data"
   ]
  },
  {
   "cell_type": "code",
   "execution_count": 43,
   "metadata": {},
   "outputs": [],
   "source": [
    "def eval_window_size(window_size: int, fb_period:int, criteria_2: dict):\n",
    "\n",
    "    temp_results_criteria_2 = {\n",
    "        \"window_size\": window_size,\n",
    "        \"TP\": 0,\n",
    "        \"TN\": 0,\n",
    "        \"FP\": 0,\n",
    "        \"FN\": 0,\n",
    "    }\n",
    "\n",
    "    for dataset_name in [\"benign\", \"hdd\", \"oom\", \"buffer-io\", \"cpu\"]:\n",
    "        dataset_dir = f\"../../../data/{dataset_name}\"\n",
    "        dataset_metadata = json.load(open(f\"{dataset_dir}/dataset_metadata.json\"))\n",
    "\n",
    "        for dataset_name, data in get_data(dataset_dir):\n",
    "            label_index = dataset_metadata[dataset_name][\"label_region\"] - 1\n",
    "            failure_point_index = dataset_metadata[dataset_name][\"failure_point\"]\n",
    "\n",
    "            max_heap_provider = SubsequenceMaxHeap()\n",
    "\n",
    "            model = BaseDetector(\n",
    "                inferenceProvider=inference_provider,\n",
    "                maxHeapProvider=max_heap_provider,\n",
    "                data=data,\n",
    "                windowSize=window_size,\n",
    "                probationaryPeriod=fb_period,\n",
    "                subsequenceMatchThreshold=subsequence_match_threshold,\n",
    "                anomalyThreshold=anomaly_threshold)\n",
    "            \n",
    "            i = fb_period+1  # iterator for the data points\n",
    "            # Benign region\n",
    "            while (i < label_index):\n",
    "                anomaly_score_window = []\n",
    "                anomaly_score_window.append(model.handleRecord(i))\n",
    "                i += 1\n",
    "                while (i % benign_eval_window != 0 and i < label_index):\n",
    "                    anomaly_score_window.append(model.handleRecord(i))\n",
    "                    i += 1\n",
    "                detection_in_window = False\n",
    "                for anomaly_score in anomaly_score_window:\n",
    "                    if anomaly_score >= anomaly_threshold:\n",
    "                        detection_in_window = True\n",
    "                        break\n",
    "                if detection_in_window:\n",
    "                    temp_results_criteria_2[\"FP\"] += 1\n",
    "                else:\n",
    "                    temp_results_criteria_2[\"TN\"] += 1\n",
    "\n",
    "            # Anomalous region\n",
    "            positive_prediction = False\n",
    "            while (i < failure_point_index):\n",
    "                anomaly_score = model.handleRecord(i)\n",
    "                positive_prediction = anomaly_score >= anomaly_threshold\n",
    "                if positive_prediction:  # Early detection\n",
    "                    temp_results_criteria_2[\"TP\"] += 1\n",
    "                    break\n",
    "                i += 1\n",
    "\n",
    "            while (not positive_prediction and (i < len(data))):\n",
    "                anomaly_score = model.handleRecord(i)\n",
    "                positive_prediction = anomaly_score >= anomaly_threshold\n",
    "                if positive_prediction:  # Late detection\n",
    "                    temp_results_criteria_2[\"FN\"] += 1\n",
    "                    break\n",
    "                i += 1\n",
    "\n",
    "            if (not positive_prediction):\n",
    "                temp_results_criteria_2[\"FN\"] += 1\n",
    "\n",
    "        criteria_2[window_size] = temp_results_criteria_2\n",
    "\n",
    "    print(\"Done evaluating window_size: \", window_size)"
   ]
  },
  {
   "cell_type": "code",
   "execution_count": 44,
   "metadata": {},
   "outputs": [],
   "source": [
    "def tpr(TP, FN):\n",
    "    if TP + FN == 0:\n",
    "        return 1\n",
    "    return TP / (TP + FN)\n",
    "\n",
    "\n",
    "def fpr(FP, TN):\n",
    "    if FP + TN == 0:\n",
    "        return 0\n",
    "    return FP / (FP + TN)"
   ]
  },
  {
   "cell_type": "code",
   "execution_count": 45,
   "metadata": {},
   "outputs": [],
   "source": [
    "fb_periods = np.arange(0, 400, 50, dtype=int).tolist()\n",
    "# fb_periods = [0, 15, 30, 45] + fb_periods\n",
    "window_sizes = np.arange(0, 45, 5, dtype=int).tolist()\n",
    "# window_sizes = [1, 2, 3, 4, 5, 8] + window_sizes\n",
    "\n",
    "# tpr_vs_fb_period_vs_window_sizes = {}\n",
    "# fpr_vs_fb_period_vs_window_sizes = {}\n",
    "\n",
    "# for fb_period in fb_periods:\n",
    "#     print(f\"___FB_PERIOD___: {fb_period}\")\n",
    "#     criteria_2 = {}\n",
    "#     with ThreadPoolExecutor(max_workers=8) as executor:\n",
    "#         args = [(window_size, fb_period, criteria_2) for window_size in window_sizes]\n",
    "#         # for window_size in window_sizes:\n",
    "#         #     executor.submit(eval_window_size, window_size, criteria_2)\n",
    "#         executor.map(lambda p: eval_window_size(*p), args)\n",
    "\n",
    "#     df_criteria_2 = pd.DataFrame(criteria_2).T.sort_values(\"window_size\")\n",
    "#     df_criteria_2[\"TPR\"] = df_criteria_2.apply(\n",
    "#                 lambda row: tpr(row[\"TP\"], row[\"FN\"]), axis=1\n",
    "#             )\n",
    "#     df_criteria_2[\"FPR\"] = df_criteria_2.apply(\n",
    "#         lambda row: fpr(row[\"FP\"], row[\"TN\"]), axis=1\n",
    "#     )\n",
    "#     window_sizes_vs_tpr_dict = df_criteria_2.set_index(\"window_size\")[\"TPR\"].to_dict()\n",
    "#     window_sizes_vs_fpr_dict = df_criteria_2.set_index(\"window_size\")[\"FPR\"].to_dict()\n",
    "#     tpr_vs_fb_period_vs_window_sizes[fb_period] = window_sizes_vs_tpr_dict\n",
    "#     fpr_vs_fb_period_vs_window_sizes[fb_period] = window_sizes_vs_fpr_dict\n",
    "\n"
   ]
  },
  {
   "cell_type": "code",
   "execution_count": 46,
   "metadata": {},
   "outputs": [],
   "source": [
    "# df_tpr = pd.DataFrame(tpr_vs_fb_period_vs_window_sizes).T\n",
    "# df_tpr"
   ]
  },
  {
   "cell_type": "code",
   "execution_count": 47,
   "metadata": {},
   "outputs": [],
   "source": [
    "# df_fpr = pd.DataFrame(fpr_vs_fb_period_vs_window_sizes).T\n",
    "# df_fpr"
   ]
  },
  {
   "cell_type": "code",
   "execution_count": 48,
   "metadata": {},
   "outputs": [],
   "source": [
    "# df_tpr.to_csv(\"tpr_vs_fb_period_vs_window_sizes.csv\")\n",
    "# df_fpr.to_csv(\"fpr_vs_fb_period_vs_window_sizes.csv\")"
   ]
  },
  {
   "cell_type": "code",
   "execution_count": 49,
   "metadata": {},
   "outputs": [],
   "source": [
    "df_tpr = pd.read_csv(\"tpr_vs_fb_period_vs_window_sizes.csv\", index_col=0, header=0).values\n",
    "df_fpr = pd.read_csv(\"fpr_vs_fb_period_vs_window_sizes.csv\", index_col=0, header=0).values"
   ]
  },
  {
   "cell_type": "code",
   "execution_count": 50,
   "metadata": {},
   "outputs": [],
   "source": [
    "\n",
    "y, x = fb_periods, window_sizes"
   ]
  },
  {
   "cell_type": "code",
   "execution_count": 51,
   "metadata": {},
   "outputs": [
    {
     "data": {
      "application/vnd.plotly.v1+json": {
       "config": {
        "plotlyServerURL": "https://plot.ly"
       },
       "data": [
        {
         "cmax": 1,
         "cmin": 0,
         "colorbar": {
          "len": 0.8,
          "lenmode": "fraction",
          "thickness": 15
         },
         "colorscale": [
          [
           0,
           "rgb(209, 229, 240)"
          ],
          [
           0.25,
           "rgb(146, 197, 222)"
          ],
          [
           0.5,
           "rgb(67, 147, 195)"
          ],
          [
           0.75,
           "rgb(33, 102, 172)"
          ],
          [
           1,
           "rgb(5, 48, 97)"
          ]
         ],
         "type": "surface",
         "x": [
          0,
          5,
          10,
          15,
          20,
          25,
          30,
          35,
          40
         ],
         "y": [
          0,
          50,
          100,
          150,
          200,
          250,
          300,
          350
         ],
         "z": [
          [
           0,
           1,
           1,
           1,
           1,
           1,
           1,
           1,
           1
          ],
          [
           0,
           0.9629629629629628,
           0.9629629629629628,
           1,
           1,
           1,
           1,
           1,
           1
          ],
          [
           0,
           0.5740740740740741,
           0.9629629629629628,
           1,
           1,
           1,
           1,
           1,
           1
          ],
          [
           0,
           0.3333333333333333,
           0.7777777777777778,
           0.9074074074074074,
           0.9629629629629628,
           0.9814814814814816,
           1,
           1,
           1
          ],
          [
           0,
           0.1956521739130435,
           0.7608695652173914,
           0.8478260869565217,
           0.9347826086956522,
           0.9782608695652174,
           0.9782608695652174,
           1,
           1
          ],
          [
           0,
           0.1739130434782608,
           0.6304347826086957,
           0.7608695652173914,
           0.8260869565217391,
           0.8913043478260869,
           0.9565217391304348,
           1,
           1
          ],
          [
           0,
           0.108695652173913,
           0.5,
           0.6304347826086957,
           0.7391304347826086,
           0.8478260869565217,
           0.9130434782608696,
           0.9347826086956522,
           1
          ],
          [
           0,
           0.0869565217391304,
           0.4347826086956521,
           0.5652173913043478,
           0.6521739130434783,
           0.717391304347826,
           0.8478260869565217,
           0.8695652173913043,
           0.9565217391304348
          ]
         ]
        }
       ],
       "layout": {
        "autosize": false,
        "font": {
         "color": "black",
         "family": "Arial",
         "size": 12
        },
        "height": 380,
        "margin": {
         "b": 15,
         "l": 2,
         "r": 20,
         "t": 15
        },
        "scene": {
         "camera": {
          "center": {
           "x": 0,
           "y": 0,
           "z": 0
          },
          "eye": {
           "x": 1.2,
           "y": 1.2,
           "z": 1.8
          },
          "up": {
           "x": 0,
           "y": 0,
           "z": 1
          }
         },
         "xaxis": {
          "autorange": "reversed",
          "range": [
           -0.1,
           41
          ],
          "title": {
           "text": "m"
          }
         },
         "yaxis": {
          "autorange": "reversed",
          "range": [
           -0.1,
           381
          ],
          "title": {
           "text": "M"
          }
         },
         "zaxis": {
          "range": [
           -0.1,
           1.1
          ],
          "title": {
           "text": "FPR"
          }
         }
        },
        "template": {
         "data": {
          "bar": [
           {
            "error_x": {
             "color": "#2a3f5f"
            },
            "error_y": {
             "color": "#2a3f5f"
            },
            "marker": {
             "line": {
              "color": "white",
              "width": 0.5
             },
             "pattern": {
              "fillmode": "overlay",
              "size": 10,
              "solidity": 0.2
             }
            },
            "type": "bar"
           }
          ],
          "barpolar": [
           {
            "marker": {
             "line": {
              "color": "white",
              "width": 0.5
             },
             "pattern": {
              "fillmode": "overlay",
              "size": 10,
              "solidity": 0.2
             }
            },
            "type": "barpolar"
           }
          ],
          "carpet": [
           {
            "aaxis": {
             "endlinecolor": "#2a3f5f",
             "gridcolor": "#C8D4E3",
             "linecolor": "#C8D4E3",
             "minorgridcolor": "#C8D4E3",
             "startlinecolor": "#2a3f5f"
            },
            "baxis": {
             "endlinecolor": "#2a3f5f",
             "gridcolor": "#C8D4E3",
             "linecolor": "#C8D4E3",
             "minorgridcolor": "#C8D4E3",
             "startlinecolor": "#2a3f5f"
            },
            "type": "carpet"
           }
          ],
          "choropleth": [
           {
            "colorbar": {
             "outlinewidth": 0,
             "ticks": ""
            },
            "type": "choropleth"
           }
          ],
          "contour": [
           {
            "colorbar": {
             "outlinewidth": 0,
             "ticks": ""
            },
            "colorscale": [
             [
              0,
              "#0d0887"
             ],
             [
              0.1111111111111111,
              "#46039f"
             ],
             [
              0.2222222222222222,
              "#7201a8"
             ],
             [
              0.3333333333333333,
              "#9c179e"
             ],
             [
              0.4444444444444444,
              "#bd3786"
             ],
             [
              0.5555555555555556,
              "#d8576b"
             ],
             [
              0.6666666666666666,
              "#ed7953"
             ],
             [
              0.7777777777777778,
              "#fb9f3a"
             ],
             [
              0.8888888888888888,
              "#fdca26"
             ],
             [
              1,
              "#f0f921"
             ]
            ],
            "type": "contour"
           }
          ],
          "contourcarpet": [
           {
            "colorbar": {
             "outlinewidth": 0,
             "ticks": ""
            },
            "type": "contourcarpet"
           }
          ],
          "heatmap": [
           {
            "colorbar": {
             "outlinewidth": 0,
             "ticks": ""
            },
            "colorscale": [
             [
              0,
              "#0d0887"
             ],
             [
              0.1111111111111111,
              "#46039f"
             ],
             [
              0.2222222222222222,
              "#7201a8"
             ],
             [
              0.3333333333333333,
              "#9c179e"
             ],
             [
              0.4444444444444444,
              "#bd3786"
             ],
             [
              0.5555555555555556,
              "#d8576b"
             ],
             [
              0.6666666666666666,
              "#ed7953"
             ],
             [
              0.7777777777777778,
              "#fb9f3a"
             ],
             [
              0.8888888888888888,
              "#fdca26"
             ],
             [
              1,
              "#f0f921"
             ]
            ],
            "type": "heatmap"
           }
          ],
          "heatmapgl": [
           {
            "colorbar": {
             "outlinewidth": 0,
             "ticks": ""
            },
            "colorscale": [
             [
              0,
              "#0d0887"
             ],
             [
              0.1111111111111111,
              "#46039f"
             ],
             [
              0.2222222222222222,
              "#7201a8"
             ],
             [
              0.3333333333333333,
              "#9c179e"
             ],
             [
              0.4444444444444444,
              "#bd3786"
             ],
             [
              0.5555555555555556,
              "#d8576b"
             ],
             [
              0.6666666666666666,
              "#ed7953"
             ],
             [
              0.7777777777777778,
              "#fb9f3a"
             ],
             [
              0.8888888888888888,
              "#fdca26"
             ],
             [
              1,
              "#f0f921"
             ]
            ],
            "type": "heatmapgl"
           }
          ],
          "histogram": [
           {
            "marker": {
             "pattern": {
              "fillmode": "overlay",
              "size": 10,
              "solidity": 0.2
             }
            },
            "type": "histogram"
           }
          ],
          "histogram2d": [
           {
            "colorbar": {
             "outlinewidth": 0,
             "ticks": ""
            },
            "colorscale": [
             [
              0,
              "#0d0887"
             ],
             [
              0.1111111111111111,
              "#46039f"
             ],
             [
              0.2222222222222222,
              "#7201a8"
             ],
             [
              0.3333333333333333,
              "#9c179e"
             ],
             [
              0.4444444444444444,
              "#bd3786"
             ],
             [
              0.5555555555555556,
              "#d8576b"
             ],
             [
              0.6666666666666666,
              "#ed7953"
             ],
             [
              0.7777777777777778,
              "#fb9f3a"
             ],
             [
              0.8888888888888888,
              "#fdca26"
             ],
             [
              1,
              "#f0f921"
             ]
            ],
            "type": "histogram2d"
           }
          ],
          "histogram2dcontour": [
           {
            "colorbar": {
             "outlinewidth": 0,
             "ticks": ""
            },
            "colorscale": [
             [
              0,
              "#0d0887"
             ],
             [
              0.1111111111111111,
              "#46039f"
             ],
             [
              0.2222222222222222,
              "#7201a8"
             ],
             [
              0.3333333333333333,
              "#9c179e"
             ],
             [
              0.4444444444444444,
              "#bd3786"
             ],
             [
              0.5555555555555556,
              "#d8576b"
             ],
             [
              0.6666666666666666,
              "#ed7953"
             ],
             [
              0.7777777777777778,
              "#fb9f3a"
             ],
             [
              0.8888888888888888,
              "#fdca26"
             ],
             [
              1,
              "#f0f921"
             ]
            ],
            "type": "histogram2dcontour"
           }
          ],
          "mesh3d": [
           {
            "colorbar": {
             "outlinewidth": 0,
             "ticks": ""
            },
            "type": "mesh3d"
           }
          ],
          "parcoords": [
           {
            "line": {
             "colorbar": {
              "outlinewidth": 0,
              "ticks": ""
             }
            },
            "type": "parcoords"
           }
          ],
          "pie": [
           {
            "automargin": true,
            "type": "pie"
           }
          ],
          "scatter": [
           {
            "fillpattern": {
             "fillmode": "overlay",
             "size": 10,
             "solidity": 0.2
            },
            "type": "scatter"
           }
          ],
          "scatter3d": [
           {
            "line": {
             "colorbar": {
              "outlinewidth": 0,
              "ticks": ""
             }
            },
            "marker": {
             "colorbar": {
              "outlinewidth": 0,
              "ticks": ""
             }
            },
            "type": "scatter3d"
           }
          ],
          "scattercarpet": [
           {
            "marker": {
             "colorbar": {
              "outlinewidth": 0,
              "ticks": ""
             }
            },
            "type": "scattercarpet"
           }
          ],
          "scattergeo": [
           {
            "marker": {
             "colorbar": {
              "outlinewidth": 0,
              "ticks": ""
             }
            },
            "type": "scattergeo"
           }
          ],
          "scattergl": [
           {
            "marker": {
             "colorbar": {
              "outlinewidth": 0,
              "ticks": ""
             }
            },
            "type": "scattergl"
           }
          ],
          "scattermapbox": [
           {
            "marker": {
             "colorbar": {
              "outlinewidth": 0,
              "ticks": ""
             }
            },
            "type": "scattermapbox"
           }
          ],
          "scatterpolar": [
           {
            "marker": {
             "colorbar": {
              "outlinewidth": 0,
              "ticks": ""
             }
            },
            "type": "scatterpolar"
           }
          ],
          "scatterpolargl": [
           {
            "marker": {
             "colorbar": {
              "outlinewidth": 0,
              "ticks": ""
             }
            },
            "type": "scatterpolargl"
           }
          ],
          "scatterternary": [
           {
            "marker": {
             "colorbar": {
              "outlinewidth": 0,
              "ticks": ""
             }
            },
            "type": "scatterternary"
           }
          ],
          "surface": [
           {
            "colorbar": {
             "outlinewidth": 0,
             "ticks": ""
            },
            "colorscale": [
             [
              0,
              "#0d0887"
             ],
             [
              0.1111111111111111,
              "#46039f"
             ],
             [
              0.2222222222222222,
              "#7201a8"
             ],
             [
              0.3333333333333333,
              "#9c179e"
             ],
             [
              0.4444444444444444,
              "#bd3786"
             ],
             [
              0.5555555555555556,
              "#d8576b"
             ],
             [
              0.6666666666666666,
              "#ed7953"
             ],
             [
              0.7777777777777778,
              "#fb9f3a"
             ],
             [
              0.8888888888888888,
              "#fdca26"
             ],
             [
              1,
              "#f0f921"
             ]
            ],
            "type": "surface"
           }
          ],
          "table": [
           {
            "cells": {
             "fill": {
              "color": "#EBF0F8"
             },
             "line": {
              "color": "white"
             }
            },
            "header": {
             "fill": {
              "color": "#C8D4E3"
             },
             "line": {
              "color": "white"
             }
            },
            "type": "table"
           }
          ]
         },
         "layout": {
          "annotationdefaults": {
           "arrowcolor": "#2a3f5f",
           "arrowhead": 0,
           "arrowwidth": 1
          },
          "autotypenumbers": "strict",
          "coloraxis": {
           "colorbar": {
            "outlinewidth": 0,
            "ticks": ""
           }
          },
          "colorscale": {
           "diverging": [
            [
             0,
             "#8e0152"
            ],
            [
             0.1,
             "#c51b7d"
            ],
            [
             0.2,
             "#de77ae"
            ],
            [
             0.3,
             "#f1b6da"
            ],
            [
             0.4,
             "#fde0ef"
            ],
            [
             0.5,
             "#f7f7f7"
            ],
            [
             0.6,
             "#e6f5d0"
            ],
            [
             0.7,
             "#b8e186"
            ],
            [
             0.8,
             "#7fbc41"
            ],
            [
             0.9,
             "#4d9221"
            ],
            [
             1,
             "#276419"
            ]
           ],
           "sequential": [
            [
             0,
             "#0d0887"
            ],
            [
             0.1111111111111111,
             "#46039f"
            ],
            [
             0.2222222222222222,
             "#7201a8"
            ],
            [
             0.3333333333333333,
             "#9c179e"
            ],
            [
             0.4444444444444444,
             "#bd3786"
            ],
            [
             0.5555555555555556,
             "#d8576b"
            ],
            [
             0.6666666666666666,
             "#ed7953"
            ],
            [
             0.7777777777777778,
             "#fb9f3a"
            ],
            [
             0.8888888888888888,
             "#fdca26"
            ],
            [
             1,
             "#f0f921"
            ]
           ],
           "sequentialminus": [
            [
             0,
             "#0d0887"
            ],
            [
             0.1111111111111111,
             "#46039f"
            ],
            [
             0.2222222222222222,
             "#7201a8"
            ],
            [
             0.3333333333333333,
             "#9c179e"
            ],
            [
             0.4444444444444444,
             "#bd3786"
            ],
            [
             0.5555555555555556,
             "#d8576b"
            ],
            [
             0.6666666666666666,
             "#ed7953"
            ],
            [
             0.7777777777777778,
             "#fb9f3a"
            ],
            [
             0.8888888888888888,
             "#fdca26"
            ],
            [
             1,
             "#f0f921"
            ]
           ]
          },
          "colorway": [
           "#636efa",
           "#EF553B",
           "#00cc96",
           "#ab63fa",
           "#FFA15A",
           "#19d3f3",
           "#FF6692",
           "#B6E880",
           "#FF97FF",
           "#FECB52"
          ],
          "font": {
           "color": "#2a3f5f"
          },
          "geo": {
           "bgcolor": "white",
           "lakecolor": "white",
           "landcolor": "white",
           "showlakes": true,
           "showland": true,
           "subunitcolor": "#C8D4E3"
          },
          "hoverlabel": {
           "align": "left"
          },
          "hovermode": "closest",
          "mapbox": {
           "style": "light"
          },
          "paper_bgcolor": "white",
          "plot_bgcolor": "white",
          "polar": {
           "angularaxis": {
            "gridcolor": "#EBF0F8",
            "linecolor": "#EBF0F8",
            "ticks": ""
           },
           "bgcolor": "white",
           "radialaxis": {
            "gridcolor": "#EBF0F8",
            "linecolor": "#EBF0F8",
            "ticks": ""
           }
          },
          "scene": {
           "xaxis": {
            "backgroundcolor": "white",
            "gridcolor": "#DFE8F3",
            "gridwidth": 2,
            "linecolor": "#EBF0F8",
            "showbackground": true,
            "ticks": "",
            "zerolinecolor": "#EBF0F8"
           },
           "yaxis": {
            "backgroundcolor": "white",
            "gridcolor": "#DFE8F3",
            "gridwidth": 2,
            "linecolor": "#EBF0F8",
            "showbackground": true,
            "ticks": "",
            "zerolinecolor": "#EBF0F8"
           },
           "zaxis": {
            "backgroundcolor": "white",
            "gridcolor": "#DFE8F3",
            "gridwidth": 2,
            "linecolor": "#EBF0F8",
            "showbackground": true,
            "ticks": "",
            "zerolinecolor": "#EBF0F8"
           }
          },
          "shapedefaults": {
           "line": {
            "color": "#2a3f5f"
           }
          },
          "ternary": {
           "aaxis": {
            "gridcolor": "#DFE8F3",
            "linecolor": "#A2B1C6",
            "ticks": ""
           },
           "baxis": {
            "gridcolor": "#DFE8F3",
            "linecolor": "#A2B1C6",
            "ticks": ""
           },
           "bgcolor": "white",
           "caxis": {
            "gridcolor": "#DFE8F3",
            "linecolor": "#A2B1C6",
            "ticks": ""
           }
          },
          "title": {
           "x": 0.05
          },
          "xaxis": {
           "automargin": true,
           "gridcolor": "#EBF0F8",
           "linecolor": "#EBF0F8",
           "ticks": "",
           "title": {
            "standoff": 15
           },
           "zerolinecolor": "#EBF0F8",
           "zerolinewidth": 2
          },
          "yaxis": {
           "automargin": true,
           "gridcolor": "#EBF0F8",
           "linecolor": "#EBF0F8",
           "ticks": "",
           "title": {
            "standoff": 15
           },
           "zerolinecolor": "#EBF0F8",
           "zerolinewidth": 2
          }
         }
        },
        "title": {
         "x": 0.5,
         "xref": "paper",
         "y": 0.05
        },
        "width": 450
       }
      }
     },
     "metadata": {},
     "output_type": "display_data"
    }
   ],
   "source": [
    "custom_colorscale = [\n",
    "    [0, 'rgb(209, 229, 240)'],\n",
    "    [0.25, 'rgb(146, 197, 222)'],\n",
    "    [0.5, 'rgb(67, 147, 195)'],\n",
    "    [0.75, 'rgb(33, 102, 172)'],\n",
    "    [1, 'rgb(5, 48, 97)'],\n",
    "]\n",
    "fig = go.Figure(data=[go.Surface(z=df_fpr, x=x, y=y, colorscale =custom_colorscale, \n",
    "                                 colorbar=dict(lenmode='fraction', len=0.8, thickness=15), \n",
    "                                cmin=0, cmax=1\n",
    "                                 )])\n",
    "\n",
    "\n",
    "camera = dict(\n",
    "    up=dict(x=0, y=0, z=1),\n",
    "    center=dict(x=0, y=0, z=0),\n",
    "    eye=dict(x=1.2, y=1.2, z=1.8)\n",
    ")\n",
    "\n",
    "fig.update_layout(\n",
    "                    # title='FPR', \n",
    "                    autosize=False, template='plotly_white',\n",
    "                    width=450, height=380,\n",
    "                    font=dict(\n",
    "                        family=\"Arial\",\n",
    "                        size=12,\n",
    "                        color=\"black\"\n",
    "                    ),\n",
    "                    scene_camera=camera,\n",
    "                    margin=dict(l=2, r=20, b=15, t=15),\n",
    "                    title_xref=\"paper\",\n",
    "                    title_y=0.05,\n",
    "                    title_x=0.5,\n",
    "                    scene=dict(\n",
    "                        xaxis=dict(title='m', range=[-0.1, 41]),\n",
    "                        yaxis=dict(title='M', range=[-0.1, 381]),\n",
    "                        zaxis=dict(title='FPR', range=[-0.1, 1.1])\n",
    "                    )\n",
    "                )\n",
    "fig.update_scenes(xaxis_autorange=\"reversed\", yaxis_autorange=\"reversed\")\n",
    "fig.write_image(f\"images/fpr_vs_fb_period_vs_window_sizes.png\",scale=4, width=450, height=380)\n",
    "fig.show()"
   ]
  },
  {
   "cell_type": "code",
   "execution_count": 52,
   "metadata": {},
   "outputs": [
    {
     "data": {
      "application/vnd.plotly.v1+json": {
       "config": {
        "plotlyServerURL": "https://plot.ly"
       },
       "data": [
        {
         "cmax": 1,
         "cmin": 0,
         "colorbar": {
          "len": 0.8,
          "lenmode": "fraction",
          "thickness": 15
         },
         "colorscale": [
          [
           0,
           "rgb(209, 229, 240)"
          ],
          [
           0.25,
           "rgb(146, 197, 222)"
          ],
          [
           0.5,
           "rgb(67, 147, 195)"
          ],
          [
           0.75,
           "rgb(33, 102, 172)"
          ],
          [
           1,
           "rgb(5, 48, 97)"
          ]
         ],
         "type": "surface",
         "x": [
          0,
          5,
          10,
          15,
          20,
          25,
          30,
          35,
          40
         ],
         "y": [
          0,
          50,
          100,
          150,
          200,
          250,
          300,
          350
         ],
         "z": [
          [
           0,
           0.8,
           0.8,
           0.8,
           0.8,
           0.8,
           0.8,
           0.8,
           0.8
          ],
          [
           0,
           0.8,
           0.8,
           0.8,
           0.8,
           0.8,
           0.8,
           0.8,
           0.8
          ],
          [
           0,
           0.8,
           0.8,
           0.8,
           0.8,
           0.8,
           0.8,
           0.8,
           0.8
          ],
          [
           0,
           0.8,
           0.8,
           0.8,
           0.8,
           0.8,
           0.8,
           0.8,
           0.8
          ],
          [
           0,
           0.8,
           0.8,
           0.8,
           0.8,
           0.8,
           0.8,
           0.8,
           0.8
          ],
          [
           0,
           0.8,
           0.8,
           0.8,
           0.8,
           0.8,
           0.8,
           0.8,
           0.8
          ],
          [
           0,
           0.7,
           0.8,
           0.8,
           0.8,
           0.8,
           0.8,
           0.8,
           0.8
          ],
          [
           0,
           0.7,
           0.8,
           0.8,
           0.8,
           0.8,
           0.8,
           0.8,
           0.8
          ]
         ]
        }
       ],
       "layout": {
        "autosize": false,
        "font": {
         "color": "black",
         "family": "Arial",
         "size": 12
        },
        "height": 380,
        "margin": {
         "b": 15,
         "l": 2,
         "r": 20,
         "t": 15
        },
        "scene": {
         "camera": {
          "center": {
           "x": 0,
           "y": 0,
           "z": 0
          },
          "eye": {
           "x": 1.2,
           "y": 1.2,
           "z": 1.8
          },
          "up": {
           "x": 0,
           "y": 0,
           "z": 1
          }
         },
         "xaxis": {
          "autorange": "reversed",
          "range": [
           -0.1,
           41
          ],
          "title": {
           "text": "m"
          }
         },
         "yaxis": {
          "autorange": "reversed",
          "range": [
           -0.1,
           381
          ],
          "title": {
           "text": "M"
          }
         },
         "zaxis": {
          "range": [
           -0.1,
           1.1
          ],
          "title": {
           "text": "TPR"
          }
         }
        },
        "template": {
         "data": {
          "bar": [
           {
            "error_x": {
             "color": "#2a3f5f"
            },
            "error_y": {
             "color": "#2a3f5f"
            },
            "marker": {
             "line": {
              "color": "white",
              "width": 0.5
             },
             "pattern": {
              "fillmode": "overlay",
              "size": 10,
              "solidity": 0.2
             }
            },
            "type": "bar"
           }
          ],
          "barpolar": [
           {
            "marker": {
             "line": {
              "color": "white",
              "width": 0.5
             },
             "pattern": {
              "fillmode": "overlay",
              "size": 10,
              "solidity": 0.2
             }
            },
            "type": "barpolar"
           }
          ],
          "carpet": [
           {
            "aaxis": {
             "endlinecolor": "#2a3f5f",
             "gridcolor": "#C8D4E3",
             "linecolor": "#C8D4E3",
             "minorgridcolor": "#C8D4E3",
             "startlinecolor": "#2a3f5f"
            },
            "baxis": {
             "endlinecolor": "#2a3f5f",
             "gridcolor": "#C8D4E3",
             "linecolor": "#C8D4E3",
             "minorgridcolor": "#C8D4E3",
             "startlinecolor": "#2a3f5f"
            },
            "type": "carpet"
           }
          ],
          "choropleth": [
           {
            "colorbar": {
             "outlinewidth": 0,
             "ticks": ""
            },
            "type": "choropleth"
           }
          ],
          "contour": [
           {
            "colorbar": {
             "outlinewidth": 0,
             "ticks": ""
            },
            "colorscale": [
             [
              0,
              "#0d0887"
             ],
             [
              0.1111111111111111,
              "#46039f"
             ],
             [
              0.2222222222222222,
              "#7201a8"
             ],
             [
              0.3333333333333333,
              "#9c179e"
             ],
             [
              0.4444444444444444,
              "#bd3786"
             ],
             [
              0.5555555555555556,
              "#d8576b"
             ],
             [
              0.6666666666666666,
              "#ed7953"
             ],
             [
              0.7777777777777778,
              "#fb9f3a"
             ],
             [
              0.8888888888888888,
              "#fdca26"
             ],
             [
              1,
              "#f0f921"
             ]
            ],
            "type": "contour"
           }
          ],
          "contourcarpet": [
           {
            "colorbar": {
             "outlinewidth": 0,
             "ticks": ""
            },
            "type": "contourcarpet"
           }
          ],
          "heatmap": [
           {
            "colorbar": {
             "outlinewidth": 0,
             "ticks": ""
            },
            "colorscale": [
             [
              0,
              "#0d0887"
             ],
             [
              0.1111111111111111,
              "#46039f"
             ],
             [
              0.2222222222222222,
              "#7201a8"
             ],
             [
              0.3333333333333333,
              "#9c179e"
             ],
             [
              0.4444444444444444,
              "#bd3786"
             ],
             [
              0.5555555555555556,
              "#d8576b"
             ],
             [
              0.6666666666666666,
              "#ed7953"
             ],
             [
              0.7777777777777778,
              "#fb9f3a"
             ],
             [
              0.8888888888888888,
              "#fdca26"
             ],
             [
              1,
              "#f0f921"
             ]
            ],
            "type": "heatmap"
           }
          ],
          "heatmapgl": [
           {
            "colorbar": {
             "outlinewidth": 0,
             "ticks": ""
            },
            "colorscale": [
             [
              0,
              "#0d0887"
             ],
             [
              0.1111111111111111,
              "#46039f"
             ],
             [
              0.2222222222222222,
              "#7201a8"
             ],
             [
              0.3333333333333333,
              "#9c179e"
             ],
             [
              0.4444444444444444,
              "#bd3786"
             ],
             [
              0.5555555555555556,
              "#d8576b"
             ],
             [
              0.6666666666666666,
              "#ed7953"
             ],
             [
              0.7777777777777778,
              "#fb9f3a"
             ],
             [
              0.8888888888888888,
              "#fdca26"
             ],
             [
              1,
              "#f0f921"
             ]
            ],
            "type": "heatmapgl"
           }
          ],
          "histogram": [
           {
            "marker": {
             "pattern": {
              "fillmode": "overlay",
              "size": 10,
              "solidity": 0.2
             }
            },
            "type": "histogram"
           }
          ],
          "histogram2d": [
           {
            "colorbar": {
             "outlinewidth": 0,
             "ticks": ""
            },
            "colorscale": [
             [
              0,
              "#0d0887"
             ],
             [
              0.1111111111111111,
              "#46039f"
             ],
             [
              0.2222222222222222,
              "#7201a8"
             ],
             [
              0.3333333333333333,
              "#9c179e"
             ],
             [
              0.4444444444444444,
              "#bd3786"
             ],
             [
              0.5555555555555556,
              "#d8576b"
             ],
             [
              0.6666666666666666,
              "#ed7953"
             ],
             [
              0.7777777777777778,
              "#fb9f3a"
             ],
             [
              0.8888888888888888,
              "#fdca26"
             ],
             [
              1,
              "#f0f921"
             ]
            ],
            "type": "histogram2d"
           }
          ],
          "histogram2dcontour": [
           {
            "colorbar": {
             "outlinewidth": 0,
             "ticks": ""
            },
            "colorscale": [
             [
              0,
              "#0d0887"
             ],
             [
              0.1111111111111111,
              "#46039f"
             ],
             [
              0.2222222222222222,
              "#7201a8"
             ],
             [
              0.3333333333333333,
              "#9c179e"
             ],
             [
              0.4444444444444444,
              "#bd3786"
             ],
             [
              0.5555555555555556,
              "#d8576b"
             ],
             [
              0.6666666666666666,
              "#ed7953"
             ],
             [
              0.7777777777777778,
              "#fb9f3a"
             ],
             [
              0.8888888888888888,
              "#fdca26"
             ],
             [
              1,
              "#f0f921"
             ]
            ],
            "type": "histogram2dcontour"
           }
          ],
          "mesh3d": [
           {
            "colorbar": {
             "outlinewidth": 0,
             "ticks": ""
            },
            "type": "mesh3d"
           }
          ],
          "parcoords": [
           {
            "line": {
             "colorbar": {
              "outlinewidth": 0,
              "ticks": ""
             }
            },
            "type": "parcoords"
           }
          ],
          "pie": [
           {
            "automargin": true,
            "type": "pie"
           }
          ],
          "scatter": [
           {
            "fillpattern": {
             "fillmode": "overlay",
             "size": 10,
             "solidity": 0.2
            },
            "type": "scatter"
           }
          ],
          "scatter3d": [
           {
            "line": {
             "colorbar": {
              "outlinewidth": 0,
              "ticks": ""
             }
            },
            "marker": {
             "colorbar": {
              "outlinewidth": 0,
              "ticks": ""
             }
            },
            "type": "scatter3d"
           }
          ],
          "scattercarpet": [
           {
            "marker": {
             "colorbar": {
              "outlinewidth": 0,
              "ticks": ""
             }
            },
            "type": "scattercarpet"
           }
          ],
          "scattergeo": [
           {
            "marker": {
             "colorbar": {
              "outlinewidth": 0,
              "ticks": ""
             }
            },
            "type": "scattergeo"
           }
          ],
          "scattergl": [
           {
            "marker": {
             "colorbar": {
              "outlinewidth": 0,
              "ticks": ""
             }
            },
            "type": "scattergl"
           }
          ],
          "scattermapbox": [
           {
            "marker": {
             "colorbar": {
              "outlinewidth": 0,
              "ticks": ""
             }
            },
            "type": "scattermapbox"
           }
          ],
          "scatterpolar": [
           {
            "marker": {
             "colorbar": {
              "outlinewidth": 0,
              "ticks": ""
             }
            },
            "type": "scatterpolar"
           }
          ],
          "scatterpolargl": [
           {
            "marker": {
             "colorbar": {
              "outlinewidth": 0,
              "ticks": ""
             }
            },
            "type": "scatterpolargl"
           }
          ],
          "scatterternary": [
           {
            "marker": {
             "colorbar": {
              "outlinewidth": 0,
              "ticks": ""
             }
            },
            "type": "scatterternary"
           }
          ],
          "surface": [
           {
            "colorbar": {
             "outlinewidth": 0,
             "ticks": ""
            },
            "colorscale": [
             [
              0,
              "#0d0887"
             ],
             [
              0.1111111111111111,
              "#46039f"
             ],
             [
              0.2222222222222222,
              "#7201a8"
             ],
             [
              0.3333333333333333,
              "#9c179e"
             ],
             [
              0.4444444444444444,
              "#bd3786"
             ],
             [
              0.5555555555555556,
              "#d8576b"
             ],
             [
              0.6666666666666666,
              "#ed7953"
             ],
             [
              0.7777777777777778,
              "#fb9f3a"
             ],
             [
              0.8888888888888888,
              "#fdca26"
             ],
             [
              1,
              "#f0f921"
             ]
            ],
            "type": "surface"
           }
          ],
          "table": [
           {
            "cells": {
             "fill": {
              "color": "#EBF0F8"
             },
             "line": {
              "color": "white"
             }
            },
            "header": {
             "fill": {
              "color": "#C8D4E3"
             },
             "line": {
              "color": "white"
             }
            },
            "type": "table"
           }
          ]
         },
         "layout": {
          "annotationdefaults": {
           "arrowcolor": "#2a3f5f",
           "arrowhead": 0,
           "arrowwidth": 1
          },
          "autotypenumbers": "strict",
          "coloraxis": {
           "colorbar": {
            "outlinewidth": 0,
            "ticks": ""
           }
          },
          "colorscale": {
           "diverging": [
            [
             0,
             "#8e0152"
            ],
            [
             0.1,
             "#c51b7d"
            ],
            [
             0.2,
             "#de77ae"
            ],
            [
             0.3,
             "#f1b6da"
            ],
            [
             0.4,
             "#fde0ef"
            ],
            [
             0.5,
             "#f7f7f7"
            ],
            [
             0.6,
             "#e6f5d0"
            ],
            [
             0.7,
             "#b8e186"
            ],
            [
             0.8,
             "#7fbc41"
            ],
            [
             0.9,
             "#4d9221"
            ],
            [
             1,
             "#276419"
            ]
           ],
           "sequential": [
            [
             0,
             "#0d0887"
            ],
            [
             0.1111111111111111,
             "#46039f"
            ],
            [
             0.2222222222222222,
             "#7201a8"
            ],
            [
             0.3333333333333333,
             "#9c179e"
            ],
            [
             0.4444444444444444,
             "#bd3786"
            ],
            [
             0.5555555555555556,
             "#d8576b"
            ],
            [
             0.6666666666666666,
             "#ed7953"
            ],
            [
             0.7777777777777778,
             "#fb9f3a"
            ],
            [
             0.8888888888888888,
             "#fdca26"
            ],
            [
             1,
             "#f0f921"
            ]
           ],
           "sequentialminus": [
            [
             0,
             "#0d0887"
            ],
            [
             0.1111111111111111,
             "#46039f"
            ],
            [
             0.2222222222222222,
             "#7201a8"
            ],
            [
             0.3333333333333333,
             "#9c179e"
            ],
            [
             0.4444444444444444,
             "#bd3786"
            ],
            [
             0.5555555555555556,
             "#d8576b"
            ],
            [
             0.6666666666666666,
             "#ed7953"
            ],
            [
             0.7777777777777778,
             "#fb9f3a"
            ],
            [
             0.8888888888888888,
             "#fdca26"
            ],
            [
             1,
             "#f0f921"
            ]
           ]
          },
          "colorway": [
           "#636efa",
           "#EF553B",
           "#00cc96",
           "#ab63fa",
           "#FFA15A",
           "#19d3f3",
           "#FF6692",
           "#B6E880",
           "#FF97FF",
           "#FECB52"
          ],
          "font": {
           "color": "#2a3f5f"
          },
          "geo": {
           "bgcolor": "white",
           "lakecolor": "white",
           "landcolor": "white",
           "showlakes": true,
           "showland": true,
           "subunitcolor": "#C8D4E3"
          },
          "hoverlabel": {
           "align": "left"
          },
          "hovermode": "closest",
          "mapbox": {
           "style": "light"
          },
          "paper_bgcolor": "white",
          "plot_bgcolor": "white",
          "polar": {
           "angularaxis": {
            "gridcolor": "#EBF0F8",
            "linecolor": "#EBF0F8",
            "ticks": ""
           },
           "bgcolor": "white",
           "radialaxis": {
            "gridcolor": "#EBF0F8",
            "linecolor": "#EBF0F8",
            "ticks": ""
           }
          },
          "scene": {
           "xaxis": {
            "backgroundcolor": "white",
            "gridcolor": "#DFE8F3",
            "gridwidth": 2,
            "linecolor": "#EBF0F8",
            "showbackground": true,
            "ticks": "",
            "zerolinecolor": "#EBF0F8"
           },
           "yaxis": {
            "backgroundcolor": "white",
            "gridcolor": "#DFE8F3",
            "gridwidth": 2,
            "linecolor": "#EBF0F8",
            "showbackground": true,
            "ticks": "",
            "zerolinecolor": "#EBF0F8"
           },
           "zaxis": {
            "backgroundcolor": "white",
            "gridcolor": "#DFE8F3",
            "gridwidth": 2,
            "linecolor": "#EBF0F8",
            "showbackground": true,
            "ticks": "",
            "zerolinecolor": "#EBF0F8"
           }
          },
          "shapedefaults": {
           "line": {
            "color": "#2a3f5f"
           }
          },
          "ternary": {
           "aaxis": {
            "gridcolor": "#DFE8F3",
            "linecolor": "#A2B1C6",
            "ticks": ""
           },
           "baxis": {
            "gridcolor": "#DFE8F3",
            "linecolor": "#A2B1C6",
            "ticks": ""
           },
           "bgcolor": "white",
           "caxis": {
            "gridcolor": "#DFE8F3",
            "linecolor": "#A2B1C6",
            "ticks": ""
           }
          },
          "title": {
           "x": 0.05
          },
          "xaxis": {
           "automargin": true,
           "gridcolor": "#EBF0F8",
           "linecolor": "#EBF0F8",
           "ticks": "",
           "title": {
            "standoff": 15
           },
           "zerolinecolor": "#EBF0F8",
           "zerolinewidth": 2
          },
          "yaxis": {
           "automargin": true,
           "gridcolor": "#EBF0F8",
           "linecolor": "#EBF0F8",
           "ticks": "",
           "title": {
            "standoff": 15
           },
           "zerolinecolor": "#EBF0F8",
           "zerolinewidth": 2
          }
         }
        },
        "title": {
         "x": 0.5,
         "xref": "paper",
         "y": 0.05
        },
        "width": 450
       }
      }
     },
     "metadata": {},
     "output_type": "display_data"
    }
   ],
   "source": [
    "fig = go.Figure(data=[go.Surface(z=df_tpr, x=x, y=y, colorscale=custom_colorscale, \n",
    "                                 colorbar=dict(lenmode='fraction', len=0.8, thickness=15), \n",
    "                                cmin=0, cmax=1\n",
    "                                 )])\n",
    "\n",
    "\n",
    "camera = dict(\n",
    "    up=dict(x=0, y=0, z=1),\n",
    "    center=dict(x=0, y=0, z=0),\n",
    "    eye=dict(x=1.2, y=1.2, z=1.8)\n",
    ")\n",
    "\n",
    "fig.update_layout(\n",
    "                    # title='FPR', \n",
    "                    autosize=False, template='plotly_white',\n",
    "                    width=450, height=380,\n",
    "                    font=dict(\n",
    "                        family=\"Arial\",\n",
    "                        size=12,\n",
    "                        color=\"black\"\n",
    "                    ),\n",
    "                    scene_camera=camera,\n",
    "                    margin=dict(l=2, r=20, b=15, t=15),\n",
    "                    title_xref=\"paper\",\n",
    "                    title_y=0.05,\n",
    "                    title_x=0.5,\n",
    "                    scene=dict(\n",
    "                        xaxis=dict(title='m', range=[-0.1, 41]),\n",
    "                        yaxis=dict(title='M', range=[-0.1, 381]),\n",
    "                        zaxis=dict(title='TPR', range=[-0.1, 1.1])\n",
    "                    )\n",
    "                )\n",
    "fig.update_scenes(xaxis_autorange=\"reversed\", yaxis_autorange=\"reversed\")\n",
    "fig.write_image(f\"images/tpr_vs_fb_period_vs_window_sizes.png\",scale=4, width=450, height=380)\n",
    "fig.show()"
   ]
  }
 ],
 "metadata": {
  "kernelspec": {
   "display_name": ".venv",
   "language": "python",
   "name": "python3"
  },
  "language_info": {
   "codemirror_mode": {
    "name": "ipython",
    "version": 3
   },
   "file_extension": ".py",
   "mimetype": "text/x-python",
   "name": "python",
   "nbconvert_exporter": "python",
   "pygments_lexer": "ipython3",
   "version": "3.8.10"
  }
 },
 "nbformat": 4,
 "nbformat_minor": 2
}
