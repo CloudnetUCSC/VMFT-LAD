{
 "cells": [
  {
   "cell_type": "code",
   "execution_count": 97,
   "metadata": {},
   "outputs": [],
   "source": [
    "from typing import List\n",
    "import pandas as pd\n",
    "import numpy as np\n",
    "import plotly.graph_objects as go"
   ]
  },
  {
   "cell_type": "code",
   "execution_count": 98,
   "metadata": {},
   "outputs": [],
   "source": [
    "def tpr(TP, FN):\n",
    "    if TP + FN == 0:\n",
    "        return 1\n",
    "    return TP / (TP + FN)\n",
    "\n",
    "\n",
    "def fpr(FP, TN):\n",
    "    if FP + TN == 0:\n",
    "        return 0\n",
    "    return FP / (FP + TN)\n",
    "\n",
    "\n",
    "def generateROC(dataset: str, inference_provider_name: str):\n",
    "\n",
    "    fig = go.Figure()\n",
    "\n",
    "    for criteria in [1, 2]:\n",
    "        eval_res_df = (\n",
    "            pd.read_csv(\n",
    "                f\"./results/{dataset}/{inference_provider_name}/criteria{criteria}.csv\",\n",
    "                header=0,\n",
    "            )\n",
    "            .sort_values(\"threshold\")\n",
    "            .reset_index(drop=True)\n",
    "        )\n",
    "        # benign_eval_res_df = (\n",
    "        #     pd.read_csv(\n",
    "        #         f\"./results/benign/{inference_provider_name}/criteria{criteria}.csv\",\n",
    "        #         header=0,\n",
    "        #     )\n",
    "        #     .sort_values(\"threshold\")\n",
    "        #     .reset_index(drop=True)\n",
    "        # )\n",
    "        # eval_res_df = dataset_eval_res_df.add(benign_eval_res_df, fill_value=0)\n",
    "\n",
    "        if criteria == 2:\n",
    "            eval_res_df[\"FN\"] = eval_res_df[\"FN\"] + eval_res_df[\"TP_LATE\"]\n",
    "\n",
    "        eval_res_df[\"TPR\"] = eval_res_df.apply(\n",
    "            lambda row: tpr(row[\"TP\"], row[\"FN\"]), axis=1\n",
    "        )\n",
    "        eval_res_df[\"FPR\"] = eval_res_df.apply(\n",
    "            lambda row: fpr(row[\"FP\"], row[\"TN\"]), axis=1\n",
    "        )\n",
    "\n",
    "        # eval_res_df.drop(0, inplace=True)\n",
    "\n",
    "\n",
    "        # eval_res_df[\"F1\"] = eval_res_df.apply(\n",
    "        #     lambda row: 2 * row[\"TP\"] / (2 * row[\"TP\"] + row[\"FP\"] + row[\"FN\"])\n",
    "        #     if (2 * row[\"TP\"] + row[\"FP\"] + row[\"FN\"]) > 0\n",
    "        #     else 0,\n",
    "        #     axis=1,\n",
    "        # )\n",
    "\n",
    "        # print(\"Criteria: \", criteria)\n",
    "        # print(eval_res_df)\n",
    "        # print(\"\\n\")\n",
    "        \n",
    "        eval_res_df = eval_res_df.sort_values(\"FPR\").reset_index(drop=True)\n",
    "\n",
    "        fig.add_trace(go.Scatter(\n",
    "            x=eval_res_df[\"FPR\"], y=eval_res_df[\"TPR\"], name=f\"Criteria {criteria}\"))\n",
    "\n",
    "    fig.add_trace(\n",
    "        go.Scatter(x=[0, 1], y=[0, 1], line_color=\"lightgray\", name=\"Baseline\")\n",
    "    )\n",
    "\n",
    "    fig.update_layout(\n",
    "        title=f\"ROC Curve - {dataset} - {inference_provider_name}\",\n",
    "        xaxis_title=\"False Positive Rate\",\n",
    "        yaxis_title=\"True Positive Rate\",\n",
    "        yaxis_range=[0, 1],\n",
    "        xaxis_range=[0, 1],\n",
    "        height=400,\n",
    "        width=430,\n",
    "    )\n",
    "    fig.update_yaxes(\n",
    "        scaleanchor=\"x\",\n",
    "        scaleratio=1,\n",
    "    )\n",
    "\n",
    "    fig.show()"
   ]
  },
  {
   "cell_type": "code",
   "execution_count": 99,
   "metadata": {},
   "outputs": [],
   "source": [
    "\n",
    "def getAUC(x: List[float], y:List[float]) -> float:\n",
    "    \"\"\"\n",
    "    Calculates the area under the curve (AUC) using the trapezoidal rule.\n",
    "    \"\"\"\n",
    "    if len(x) != len(y):\n",
    "        raise ValueError(\"The number of x and y values must be equal\")\n",
    "\n",
    "    n = len(x)\n",
    "    area = 0.0\n",
    "\n",
    "    for i in range(1, n):\n",
    "        # Trapezoidal rule: area of trapezoid = (1/2) * (sum of parallel sides) * height\n",
    "        area += 0.5 * (x[i] - x[i-1]) * (y[i] + y[i-1])\n",
    "\n",
    "    return area // 0.0001 / 10000"
   ]
  },
  {
   "cell_type": "code",
   "execution_count": 100,
   "metadata": {},
   "outputs": [],
   "source": [
    "def generateROCForCriteria(dataset: str, criteria: int, inference_providers = [\"Fake\", \"BartLarge\", \"Falcon7B\", \"GPT3\", \"EmertonMonarch7B\"]):\n",
    "\n",
    "    fig = go.Figure()\n",
    "\n",
    "    for inference_provider_name in inference_providers:\n",
    "        eval_res_df = (\n",
    "            pd.read_csv(\n",
    "                f\"./results/{dataset}/{inference_provider_name}/criteria{criteria}.csv\",\n",
    "                header=0,\n",
    "            )\n",
    "            .sort_values(\"threshold\")\n",
    "            .reset_index(drop=True)\n",
    "        )\n",
    "\n",
    "        if criteria == 2:\n",
    "            eval_res_df[\"FN\"] = eval_res_df[\"FN\"] + eval_res_df[\"TP_LATE\"]\n",
    "\n",
    "        eval_res_df[\"TPR\"] = eval_res_df.apply(\n",
    "            lambda row: tpr(row[\"TP\"], row[\"FN\"]), axis=1\n",
    "        )\n",
    "        eval_res_df[\"FPR\"] = eval_res_df.apply(\n",
    "            lambda row: fpr(row[\"FP\"], row[\"TN\"]), axis=1\n",
    "        )\n",
    "        \n",
    "        eval_res_df = eval_res_df.sort_values(\"FPR\").reset_index(drop=True)\n",
    "\n",
    "        fin_tpr = eval_res_df[\"TPR\"].tolist()\n",
    "        fin_tpr.insert(0, 0)\n",
    "        \n",
    "        fin_fpr = eval_res_df[\"FPR\"].tolist()\n",
    "        fin_fpr.insert(0, 0)\n",
    "\n",
    "        auc = getAUC(fin_fpr, fin_tpr)\n",
    "\n",
    "        fig.add_trace(go.Scatter(\n",
    "            x=fin_fpr, y=fin_tpr, name=f\"{inference_provider_name} - AUC: {auc}\"))\n",
    "\n",
    "    fig.add_trace(\n",
    "        go.Scatter(x=[0, 1], y=[0, 1], line_color=\"lightgray\", name=\"Baseline\")\n",
    "    )\n",
    "\n",
    "    fig.update_layout(\n",
    "        title=f\"ROC Curve - {dataset} - Criteria: {criteria}\",\n",
    "        xaxis_title=\"False Positive Rate\",\n",
    "        yaxis_title=\"True Positive Rate\",\n",
    "        yaxis_range=[0, 1],\n",
    "        xaxis_range=[0, 1],\n",
    "        height=400,\n",
    "        width=580,\n",
    "    )\n",
    "    fig.update_yaxes(\n",
    "        scaleanchor=\"x\",\n",
    "        scaleratio=1,\n",
    "    )\n",
    "\n",
    "    fig.show()"
   ]
  },
  {
   "cell_type": "code",
   "execution_count": 101,
   "metadata": {},
   "outputs": [],
   "source": [
    "dataset = \"hdd\""
   ]
  },
  {
   "cell_type": "code",
   "execution_count": 102,
   "metadata": {},
   "outputs": [],
   "source": [
    "# generateROC(dataset, \"Falcon7B\")"
   ]
  },
  {
   "cell_type": "code",
   "execution_count": 103,
   "metadata": {},
   "outputs": [],
   "source": [
    "# generateROC(dataset, \"EmertonMonarch7B\")"
   ]
  },
  {
   "cell_type": "code",
   "execution_count": 104,
   "metadata": {},
   "outputs": [],
   "source": [
    "# generateROC(dataset, \"GPT3\")"
   ]
  },
  {
   "cell_type": "code",
   "execution_count": 105,
   "metadata": {},
   "outputs": [],
   "source": [
    "# generateROC(dataset, \"Fake\")"
   ]
  },
  {
   "cell_type": "code",
   "execution_count": 106,
   "metadata": {},
   "outputs": [],
   "source": [
    "inference_providers = [\"Fake\", \"GPT3\", \"Falcon7B\", \"EmertonMonarch7B\", \"BartLarge\", \"Cyrax7B\"]"
   ]
  },
  {
   "cell_type": "code",
   "execution_count": 107,
   "metadata": {},
   "outputs": [
    {
     "data": {
      "application/vnd.plotly.v1+json": {
       "config": {
        "plotlyServerURL": "https://plot.ly"
       },
       "data": [
        {
         "name": "Fake - AUC: 0.992",
         "type": "scatter",
         "x": [
          0,
          0.002127659574468085,
          0.002127659574468085,
          0.002127659574468085,
          0.002127659574468085,
          0.002127659574468085,
          0.002127659574468085,
          0.002127659574468085,
          0.00425531914893617,
          0.00425531914893617,
          0.00425531914893617,
          0.006382978723404255,
          0.010638297872340425,
          0.01702127659574468,
          0.031914893617021274,
          0.05531914893617021,
          0.10425531914893617,
          0.14468085106382977,
          0.20212765957446807,
          0.30638297872340425,
          0.4127659574468085,
          0.5553191489361702,
          0.6851063829787234,
          0.8191489361702128,
          0.8957446808510638,
          0.9382978723404255,
          0.9531914893617022,
          0.9680851063829787,
          0.9723404255319149,
          0.9829787234042553,
          0.9914893617021276,
          0.9914893617021276,
          0.9914893617021276,
          0.9914893617021276,
          0.9914893617021276,
          0.9936170212765958,
          1
         ],
         "y": [
          0,
          0.015037593984962405,
          0.05263157894736842,
          0.022556390977443608,
          0.015037593984962405,
          0.022556390977443608,
          0.015037593984962405,
          0.022556390977443608,
          0.06015037593984962,
          0.11278195488721804,
          0.3533834586466165,
          0.7518796992481203,
          0.8195488721804511,
          0.9022556390977443,
          0.9849624060150376,
          1,
          1,
          1,
          1,
          1,
          1,
          1,
          1,
          1,
          1,
          1,
          1,
          1,
          1,
          1,
          1,
          1,
          1,
          1,
          1,
          1,
          1
         ]
        },
        {
         "name": "GPT3 - AUC: 0.9999",
         "type": "scatter",
         "x": [
          0,
          0,
          0,
          0,
          0,
          0,
          0,
          0,
          0,
          0,
          0,
          0,
          0,
          0,
          0,
          0,
          0,
          0,
          0,
          0,
          0,
          0.002127659574468085,
          0.002127659574468085,
          0.002127659574468085,
          0.002127659574468085,
          0.002127659574468085,
          0.002127659574468085,
          0.00851063829787234,
          0.010638297872340425,
          0.01702127659574468,
          0.01702127659574468,
          0.01702127659574468,
          0.029787234042553193,
          0.029787234042553193,
          0.03404255319148936,
          0.04042553191489362,
          1
         ],
         "y": [
          0,
          1,
          1,
          1,
          0.9774436090225563,
          0.8796992481203008,
          0.7593984962406015,
          0.7142857142857143,
          1,
          0.3007518796992481,
          0.045112781954887216,
          0.03759398496240601,
          0.015037593984962405,
          0.015037593984962405,
          0.015037593984962405,
          0.007518796992481203,
          0.09774436090225563,
          0.007518796992481203,
          0.007518796992481203,
          1,
          1,
          1,
          1,
          1,
          1,
          1,
          1,
          1,
          1,
          1,
          1,
          1,
          1,
          1,
          1,
          1,
          1
         ]
        },
        {
         "name": "Falcon7B - AUC: 0.996",
         "type": "scatter",
         "x": [
          0,
          0,
          0,
          0,
          0,
          0,
          0,
          0,
          0.002127659574468085,
          0.002127659574468085,
          0.002127659574468085,
          0.002127659574468085,
          0.00425531914893617,
          0.006382978723404255,
          0.014893617021276596,
          0.027659574468085105,
          0.04680851063829787,
          0.07021276595744681,
          0.0851063829787234,
          0.11914893617021277,
          0.16382978723404254,
          0.2,
          0.22340425531914893,
          0.2574468085106383,
          0.2765957446808511,
          0.30425531914893617,
          0.32340425531914896,
          0.32978723404255317,
          0.3425531914893617,
          0.3425531914893617,
          0.3468085106382979,
          0.35106382978723405,
          0.3574468085106383,
          0.3617021276595745,
          0.3659574468085106,
          0.3659574468085106,
          1
         ],
         "y": [
          0,
          0.007518796992481203,
          0.045112781954887216,
          0.015037593984962405,
          0.007518796992481203,
          0.015037593984962405,
          0.007518796992481203,
          0.015037593984962405,
          0.05263157894736842,
          0.10526315789473684,
          0.7368421052631579,
          0.3308270676691729,
          0.7744360902255639,
          0.8947368421052632,
          0.9849624060150376,
          1,
          1,
          1,
          1,
          1,
          1,
          1,
          1,
          1,
          1,
          1,
          1,
          1,
          1,
          1,
          1,
          1,
          1,
          1,
          1,
          1,
          1
         ]
        },
        {
         "name": "EmertonMonarch7B - AUC: 0.9961",
         "type": "scatter",
         "x": [
          0,
          0.002127659574468085,
          0.002127659574468085,
          0.002127659574468085,
          0.002127659574468085,
          0.002127659574468085,
          0.002127659574468085,
          0.002127659574468085,
          0.002127659574468085,
          0.002127659574468085,
          0.002127659574468085,
          0.00425531914893617,
          0.00425531914893617,
          0.006382978723404255,
          0.006382978723404255,
          0.014893617021276596,
          0.036170212765957444,
          0.05319148936170213,
          0.10212765957446808,
          0.18085106382978725,
          0.2680851063829787,
          0.40638297872340423,
          0.5276595744680851,
          0.6425531914893617,
          0.7446808510638298,
          0.8191489361702128,
          0.8723404255319149,
          0.9042553191489362,
          0.9276595744680851,
          0.948936170212766,
          0.9617021276595744,
          0.9617021276595744,
          0.9617021276595744,
          0.9659574468085106,
          0.9723404255319149,
          0.9808510638297873,
          1
         ],
         "y": [
          0,
          0.015037593984962405,
          0.10526315789473684,
          0.05263157894736842,
          0.045112781954887216,
          0.3233082706766917,
          0.022556390977443608,
          0.022556390977443608,
          0.015037593984962405,
          0.022556390977443608,
          0.015037593984962405,
          0.7293233082706767,
          0.7969924812030075,
          0.8872180451127819,
          0.9774436090225563,
          1,
          1,
          1,
          1,
          1,
          1,
          1,
          1,
          1,
          1,
          1,
          1,
          1,
          1,
          1,
          1,
          1,
          1,
          1,
          1,
          1,
          1
         ]
        },
        {
         "name": "BartLarge - AUC: 0.9918",
         "type": "scatter",
         "x": [
          0,
          0,
          0.002127659574468085,
          0.002127659574468085,
          0.002127659574468085,
          0.002127659574468085,
          0.002127659574468085,
          0.002127659574468085,
          0.00425531914893617,
          0.00425531914893617,
          0.00425531914893617,
          0.006382978723404255,
          0.010638297872340425,
          0.01702127659574468,
          0.031914893617021274,
          0.04680851063829787,
          0.08936170212765958,
          0.1276595744680851,
          0.17659574468085107,
          0.2531914893617021,
          0.3276595744680851,
          0.46595744680851064,
          0.6063829787234043,
          0.7617021276595745,
          0.8489361702127659,
          0.9042553191489362,
          0.9234042553191489,
          0.9531914893617022,
          0.9574468085106383,
          0.9787234042553191,
          0.9872340425531915,
          0.9872340425531915,
          0.9872340425531915,
          0.9872340425531915,
          0.9893617021276596,
          0.9893617021276596,
          1
         ],
         "y": [
          0,
          0.007518796992481203,
          0.045112781954887216,
          0.015037593984962405,
          0.007518796992481203,
          0.015037593984962405,
          0.007518796992481203,
          0.015037593984962405,
          0.05263157894736842,
          0.10526315789473684,
          0.3308270676691729,
          0.7368421052631579,
          0.7969924812030075,
          0.8947368421052632,
          0.9849624060150376,
          1,
          1,
          1,
          1,
          1,
          1,
          1,
          1,
          1,
          1,
          1,
          1,
          1,
          1,
          1,
          1,
          1,
          1,
          1,
          1,
          1,
          1
         ]
        },
        {
         "name": "Cyrax7B - AUC: 0.9928",
         "type": "scatter",
         "x": [
          0,
          0.002127659574468085,
          0.002127659574468085,
          0.002127659574468085,
          0.002127659574468085,
          0.002127659574468085,
          0.002127659574468085,
          0.002127659574468085,
          0.00425531914893617,
          0.00425531914893617,
          0.00425531914893617,
          0.006382978723404255,
          0.010638297872340425,
          0.010638297872340425,
          0.023404255319148935,
          0.04680851063829787,
          0.07234042553191489,
          0.08723404255319149,
          0.12127659574468085,
          0.19787234042553192,
          0.2553191489361702,
          0.32978723404255317,
          0.44468085106382976,
          0.5446808510638298,
          0.6425531914893617,
          0.7510638297872341,
          0.8212765957446808,
          0.8404255319148937,
          0.8638297872340426,
          0.9340425531914893,
          0.9680851063829787,
          0.9702127659574468,
          0.9723404255319149,
          0.9723404255319149,
          0.9744680851063829,
          0.9829787234042553,
          1
         ],
         "y": [
          0,
          0.015037593984962405,
          0.045112781954887216,
          0.022556390977443608,
          0.015037593984962405,
          0.022556390977443608,
          0.015037593984962405,
          0.022556390977443608,
          0.05263157894736842,
          0.10526315789473684,
          0.3458646616541353,
          0.7443609022556391,
          0.8120300751879699,
          0.8947368421052632,
          0.9774436090225563,
          1,
          1,
          1,
          1,
          1,
          1,
          1,
          1,
          1,
          1,
          1,
          1,
          1,
          1,
          1,
          1,
          1,
          1,
          1,
          1,
          1,
          1
         ]
        },
        {
         "line": {
          "color": "lightgray"
         },
         "name": "Baseline",
         "type": "scatter",
         "x": [
          0,
          1
         ],
         "y": [
          0,
          1
         ]
        }
       ],
       "layout": {
        "height": 400,
        "template": {
         "data": {
          "bar": [
           {
            "error_x": {
             "color": "#2a3f5f"
            },
            "error_y": {
             "color": "#2a3f5f"
            },
            "marker": {
             "line": {
              "color": "#E5ECF6",
              "width": 0.5
             },
             "pattern": {
              "fillmode": "overlay",
              "size": 10,
              "solidity": 0.2
             }
            },
            "type": "bar"
           }
          ],
          "barpolar": [
           {
            "marker": {
             "line": {
              "color": "#E5ECF6",
              "width": 0.5
             },
             "pattern": {
              "fillmode": "overlay",
              "size": 10,
              "solidity": 0.2
             }
            },
            "type": "barpolar"
           }
          ],
          "carpet": [
           {
            "aaxis": {
             "endlinecolor": "#2a3f5f",
             "gridcolor": "white",
             "linecolor": "white",
             "minorgridcolor": "white",
             "startlinecolor": "#2a3f5f"
            },
            "baxis": {
             "endlinecolor": "#2a3f5f",
             "gridcolor": "white",
             "linecolor": "white",
             "minorgridcolor": "white",
             "startlinecolor": "#2a3f5f"
            },
            "type": "carpet"
           }
          ],
          "choropleth": [
           {
            "colorbar": {
             "outlinewidth": 0,
             "ticks": ""
            },
            "type": "choropleth"
           }
          ],
          "contour": [
           {
            "colorbar": {
             "outlinewidth": 0,
             "ticks": ""
            },
            "colorscale": [
             [
              0,
              "#0d0887"
             ],
             [
              0.1111111111111111,
              "#46039f"
             ],
             [
              0.2222222222222222,
              "#7201a8"
             ],
             [
              0.3333333333333333,
              "#9c179e"
             ],
             [
              0.4444444444444444,
              "#bd3786"
             ],
             [
              0.5555555555555556,
              "#d8576b"
             ],
             [
              0.6666666666666666,
              "#ed7953"
             ],
             [
              0.7777777777777778,
              "#fb9f3a"
             ],
             [
              0.8888888888888888,
              "#fdca26"
             ],
             [
              1,
              "#f0f921"
             ]
            ],
            "type": "contour"
           }
          ],
          "contourcarpet": [
           {
            "colorbar": {
             "outlinewidth": 0,
             "ticks": ""
            },
            "type": "contourcarpet"
           }
          ],
          "heatmap": [
           {
            "colorbar": {
             "outlinewidth": 0,
             "ticks": ""
            },
            "colorscale": [
             [
              0,
              "#0d0887"
             ],
             [
              0.1111111111111111,
              "#46039f"
             ],
             [
              0.2222222222222222,
              "#7201a8"
             ],
             [
              0.3333333333333333,
              "#9c179e"
             ],
             [
              0.4444444444444444,
              "#bd3786"
             ],
             [
              0.5555555555555556,
              "#d8576b"
             ],
             [
              0.6666666666666666,
              "#ed7953"
             ],
             [
              0.7777777777777778,
              "#fb9f3a"
             ],
             [
              0.8888888888888888,
              "#fdca26"
             ],
             [
              1,
              "#f0f921"
             ]
            ],
            "type": "heatmap"
           }
          ],
          "heatmapgl": [
           {
            "colorbar": {
             "outlinewidth": 0,
             "ticks": ""
            },
            "colorscale": [
             [
              0,
              "#0d0887"
             ],
             [
              0.1111111111111111,
              "#46039f"
             ],
             [
              0.2222222222222222,
              "#7201a8"
             ],
             [
              0.3333333333333333,
              "#9c179e"
             ],
             [
              0.4444444444444444,
              "#bd3786"
             ],
             [
              0.5555555555555556,
              "#d8576b"
             ],
             [
              0.6666666666666666,
              "#ed7953"
             ],
             [
              0.7777777777777778,
              "#fb9f3a"
             ],
             [
              0.8888888888888888,
              "#fdca26"
             ],
             [
              1,
              "#f0f921"
             ]
            ],
            "type": "heatmapgl"
           }
          ],
          "histogram": [
           {
            "marker": {
             "pattern": {
              "fillmode": "overlay",
              "size": 10,
              "solidity": 0.2
             }
            },
            "type": "histogram"
           }
          ],
          "histogram2d": [
           {
            "colorbar": {
             "outlinewidth": 0,
             "ticks": ""
            },
            "colorscale": [
             [
              0,
              "#0d0887"
             ],
             [
              0.1111111111111111,
              "#46039f"
             ],
             [
              0.2222222222222222,
              "#7201a8"
             ],
             [
              0.3333333333333333,
              "#9c179e"
             ],
             [
              0.4444444444444444,
              "#bd3786"
             ],
             [
              0.5555555555555556,
              "#d8576b"
             ],
             [
              0.6666666666666666,
              "#ed7953"
             ],
             [
              0.7777777777777778,
              "#fb9f3a"
             ],
             [
              0.8888888888888888,
              "#fdca26"
             ],
             [
              1,
              "#f0f921"
             ]
            ],
            "type": "histogram2d"
           }
          ],
          "histogram2dcontour": [
           {
            "colorbar": {
             "outlinewidth": 0,
             "ticks": ""
            },
            "colorscale": [
             [
              0,
              "#0d0887"
             ],
             [
              0.1111111111111111,
              "#46039f"
             ],
             [
              0.2222222222222222,
              "#7201a8"
             ],
             [
              0.3333333333333333,
              "#9c179e"
             ],
             [
              0.4444444444444444,
              "#bd3786"
             ],
             [
              0.5555555555555556,
              "#d8576b"
             ],
             [
              0.6666666666666666,
              "#ed7953"
             ],
             [
              0.7777777777777778,
              "#fb9f3a"
             ],
             [
              0.8888888888888888,
              "#fdca26"
             ],
             [
              1,
              "#f0f921"
             ]
            ],
            "type": "histogram2dcontour"
           }
          ],
          "mesh3d": [
           {
            "colorbar": {
             "outlinewidth": 0,
             "ticks": ""
            },
            "type": "mesh3d"
           }
          ],
          "parcoords": [
           {
            "line": {
             "colorbar": {
              "outlinewidth": 0,
              "ticks": ""
             }
            },
            "type": "parcoords"
           }
          ],
          "pie": [
           {
            "automargin": true,
            "type": "pie"
           }
          ],
          "scatter": [
           {
            "fillpattern": {
             "fillmode": "overlay",
             "size": 10,
             "solidity": 0.2
            },
            "type": "scatter"
           }
          ],
          "scatter3d": [
           {
            "line": {
             "colorbar": {
              "outlinewidth": 0,
              "ticks": ""
             }
            },
            "marker": {
             "colorbar": {
              "outlinewidth": 0,
              "ticks": ""
             }
            },
            "type": "scatter3d"
           }
          ],
          "scattercarpet": [
           {
            "marker": {
             "colorbar": {
              "outlinewidth": 0,
              "ticks": ""
             }
            },
            "type": "scattercarpet"
           }
          ],
          "scattergeo": [
           {
            "marker": {
             "colorbar": {
              "outlinewidth": 0,
              "ticks": ""
             }
            },
            "type": "scattergeo"
           }
          ],
          "scattergl": [
           {
            "marker": {
             "colorbar": {
              "outlinewidth": 0,
              "ticks": ""
             }
            },
            "type": "scattergl"
           }
          ],
          "scattermapbox": [
           {
            "marker": {
             "colorbar": {
              "outlinewidth": 0,
              "ticks": ""
             }
            },
            "type": "scattermapbox"
           }
          ],
          "scatterpolar": [
           {
            "marker": {
             "colorbar": {
              "outlinewidth": 0,
              "ticks": ""
             }
            },
            "type": "scatterpolar"
           }
          ],
          "scatterpolargl": [
           {
            "marker": {
             "colorbar": {
              "outlinewidth": 0,
              "ticks": ""
             }
            },
            "type": "scatterpolargl"
           }
          ],
          "scatterternary": [
           {
            "marker": {
             "colorbar": {
              "outlinewidth": 0,
              "ticks": ""
             }
            },
            "type": "scatterternary"
           }
          ],
          "surface": [
           {
            "colorbar": {
             "outlinewidth": 0,
             "ticks": ""
            },
            "colorscale": [
             [
              0,
              "#0d0887"
             ],
             [
              0.1111111111111111,
              "#46039f"
             ],
             [
              0.2222222222222222,
              "#7201a8"
             ],
             [
              0.3333333333333333,
              "#9c179e"
             ],
             [
              0.4444444444444444,
              "#bd3786"
             ],
             [
              0.5555555555555556,
              "#d8576b"
             ],
             [
              0.6666666666666666,
              "#ed7953"
             ],
             [
              0.7777777777777778,
              "#fb9f3a"
             ],
             [
              0.8888888888888888,
              "#fdca26"
             ],
             [
              1,
              "#f0f921"
             ]
            ],
            "type": "surface"
           }
          ],
          "table": [
           {
            "cells": {
             "fill": {
              "color": "#EBF0F8"
             },
             "line": {
              "color": "white"
             }
            },
            "header": {
             "fill": {
              "color": "#C8D4E3"
             },
             "line": {
              "color": "white"
             }
            },
            "type": "table"
           }
          ]
         },
         "layout": {
          "annotationdefaults": {
           "arrowcolor": "#2a3f5f",
           "arrowhead": 0,
           "arrowwidth": 1
          },
          "autotypenumbers": "strict",
          "coloraxis": {
           "colorbar": {
            "outlinewidth": 0,
            "ticks": ""
           }
          },
          "colorscale": {
           "diverging": [
            [
             0,
             "#8e0152"
            ],
            [
             0.1,
             "#c51b7d"
            ],
            [
             0.2,
             "#de77ae"
            ],
            [
             0.3,
             "#f1b6da"
            ],
            [
             0.4,
             "#fde0ef"
            ],
            [
             0.5,
             "#f7f7f7"
            ],
            [
             0.6,
             "#e6f5d0"
            ],
            [
             0.7,
             "#b8e186"
            ],
            [
             0.8,
             "#7fbc41"
            ],
            [
             0.9,
             "#4d9221"
            ],
            [
             1,
             "#276419"
            ]
           ],
           "sequential": [
            [
             0,
             "#0d0887"
            ],
            [
             0.1111111111111111,
             "#46039f"
            ],
            [
             0.2222222222222222,
             "#7201a8"
            ],
            [
             0.3333333333333333,
             "#9c179e"
            ],
            [
             0.4444444444444444,
             "#bd3786"
            ],
            [
             0.5555555555555556,
             "#d8576b"
            ],
            [
             0.6666666666666666,
             "#ed7953"
            ],
            [
             0.7777777777777778,
             "#fb9f3a"
            ],
            [
             0.8888888888888888,
             "#fdca26"
            ],
            [
             1,
             "#f0f921"
            ]
           ],
           "sequentialminus": [
            [
             0,
             "#0d0887"
            ],
            [
             0.1111111111111111,
             "#46039f"
            ],
            [
             0.2222222222222222,
             "#7201a8"
            ],
            [
             0.3333333333333333,
             "#9c179e"
            ],
            [
             0.4444444444444444,
             "#bd3786"
            ],
            [
             0.5555555555555556,
             "#d8576b"
            ],
            [
             0.6666666666666666,
             "#ed7953"
            ],
            [
             0.7777777777777778,
             "#fb9f3a"
            ],
            [
             0.8888888888888888,
             "#fdca26"
            ],
            [
             1,
             "#f0f921"
            ]
           ]
          },
          "colorway": [
           "#636efa",
           "#EF553B",
           "#00cc96",
           "#ab63fa",
           "#FFA15A",
           "#19d3f3",
           "#FF6692",
           "#B6E880",
           "#FF97FF",
           "#FECB52"
          ],
          "font": {
           "color": "#2a3f5f"
          },
          "geo": {
           "bgcolor": "white",
           "lakecolor": "white",
           "landcolor": "#E5ECF6",
           "showlakes": true,
           "showland": true,
           "subunitcolor": "white"
          },
          "hoverlabel": {
           "align": "left"
          },
          "hovermode": "closest",
          "mapbox": {
           "style": "light"
          },
          "paper_bgcolor": "white",
          "plot_bgcolor": "#E5ECF6",
          "polar": {
           "angularaxis": {
            "gridcolor": "white",
            "linecolor": "white",
            "ticks": ""
           },
           "bgcolor": "#E5ECF6",
           "radialaxis": {
            "gridcolor": "white",
            "linecolor": "white",
            "ticks": ""
           }
          },
          "scene": {
           "xaxis": {
            "backgroundcolor": "#E5ECF6",
            "gridcolor": "white",
            "gridwidth": 2,
            "linecolor": "white",
            "showbackground": true,
            "ticks": "",
            "zerolinecolor": "white"
           },
           "yaxis": {
            "backgroundcolor": "#E5ECF6",
            "gridcolor": "white",
            "gridwidth": 2,
            "linecolor": "white",
            "showbackground": true,
            "ticks": "",
            "zerolinecolor": "white"
           },
           "zaxis": {
            "backgroundcolor": "#E5ECF6",
            "gridcolor": "white",
            "gridwidth": 2,
            "linecolor": "white",
            "showbackground": true,
            "ticks": "",
            "zerolinecolor": "white"
           }
          },
          "shapedefaults": {
           "line": {
            "color": "#2a3f5f"
           }
          },
          "ternary": {
           "aaxis": {
            "gridcolor": "white",
            "linecolor": "white",
            "ticks": ""
           },
           "baxis": {
            "gridcolor": "white",
            "linecolor": "white",
            "ticks": ""
           },
           "bgcolor": "#E5ECF6",
           "caxis": {
            "gridcolor": "white",
            "linecolor": "white",
            "ticks": ""
           }
          },
          "title": {
           "x": 0.05
          },
          "xaxis": {
           "automargin": true,
           "gridcolor": "white",
           "linecolor": "white",
           "ticks": "",
           "title": {
            "standoff": 15
           },
           "zerolinecolor": "white",
           "zerolinewidth": 2
          },
          "yaxis": {
           "automargin": true,
           "gridcolor": "white",
           "linecolor": "white",
           "ticks": "",
           "title": {
            "standoff": 15
           },
           "zerolinecolor": "white",
           "zerolinewidth": 2
          }
         }
        },
        "title": {
         "text": "ROC Curve - hdd - Criteria: 1"
        },
        "width": 580,
        "xaxis": {
         "range": [
          0,
          1
         ],
         "title": {
          "text": "False Positive Rate"
         }
        },
        "yaxis": {
         "range": [
          0,
          1
         ],
         "scaleanchor": "x",
         "scaleratio": 1,
         "title": {
          "text": "True Positive Rate"
         }
        }
       }
      }
     },
     "metadata": {},
     "output_type": "display_data"
    },
    {
     "data": {
      "application/vnd.plotly.v1+json": {
       "config": {
        "plotlyServerURL": "https://plot.ly"
       },
       "data": [
        {
         "name": "Fake - AUC: 0.9875",
         "type": "scatter",
         "x": [
          0,
          0.002127659574468085,
          0.002127659574468085,
          0.002127659574468085,
          0.002127659574468085,
          0.002127659574468085,
          0.002127659574468085,
          0.002127659574468085,
          0.00425531914893617,
          0.00425531914893617,
          0.00425531914893617,
          0.006382978723404255,
          0.010638297872340425,
          0.01702127659574468,
          0.031914893617021274,
          0.05531914893617021,
          0.10425531914893617,
          0.14468085106382977,
          0.20212765957446807,
          0.30638297872340425,
          0.4127659574468085,
          0.5553191489361702,
          0.6851063829787234,
          0.8191489361702128,
          0.8957446808510638,
          0.9382978723404255,
          0.9531914893617022,
          0.9680851063829787,
          0.9723404255319149,
          0.9829787234042553,
          0.9914893617021276,
          0.9914893617021276,
          0.9914893617021276,
          0.9914893617021276,
          0.9914893617021276,
          0.9936170212765958,
          1
         ],
         "y": [
          0,
          0.015037593984962405,
          0.015037593984962405,
          0.015037593984962405,
          0.015037593984962405,
          0.015037593984962405,
          0.015037593984962405,
          0.015037593984962405,
          0.022556390977443608,
          0.022556390977443608,
          0.13533834586466165,
          0.5413533834586466,
          0.6090225563909775,
          0.7368421052631579,
          0.9473684210526315,
          1,
          1,
          1,
          1,
          1,
          1,
          1,
          1,
          1,
          1,
          1,
          1,
          1,
          1,
          1,
          1,
          1,
          1,
          1,
          1,
          1,
          1
         ]
        },
        {
         "name": "GPT3 - AUC: 0.9999",
         "type": "scatter",
         "x": [
          0,
          0,
          0,
          0,
          0,
          0,
          0,
          0,
          0,
          0,
          0,
          0,
          0,
          0,
          0,
          0,
          0,
          0,
          0,
          0,
          0,
          0.002127659574468085,
          0.002127659574468085,
          0.002127659574468085,
          0.002127659574468085,
          0.002127659574468085,
          0.002127659574468085,
          0.00851063829787234,
          0.010638297872340425,
          0.01702127659574468,
          0.01702127659574468,
          0.01702127659574468,
          0.029787234042553193,
          0.029787234042553193,
          0.03404255319148936,
          0.04042553191489362,
          1
         ],
         "y": [
          0,
          1,
          1,
          1,
          0.924812030075188,
          0.6992481203007519,
          0.5639097744360902,
          0.5263157894736842,
          1,
          0.11278195488721804,
          0.015037593984962405,
          0.007518796992481203,
          0.007518796992481203,
          0.007518796992481203,
          0.007518796992481203,
          0.007518796992481203,
          0.015037593984962405,
          0.007518796992481203,
          0.007518796992481203,
          1,
          1,
          1,
          1,
          1,
          1,
          1,
          1,
          1,
          1,
          1,
          1,
          1,
          1,
          1,
          1,
          1,
          1
         ]
        },
        {
         "name": "Falcon7B - AUC: 0.9936",
         "type": "scatter",
         "x": [
          0,
          0,
          0,
          0,
          0,
          0,
          0,
          0,
          0.002127659574468085,
          0.002127659574468085,
          0.002127659574468085,
          0.002127659574468085,
          0.00425531914893617,
          0.006382978723404255,
          0.014893617021276596,
          0.027659574468085105,
          0.04680851063829787,
          0.07021276595744681,
          0.0851063829787234,
          0.11914893617021277,
          0.16382978723404254,
          0.2,
          0.22340425531914893,
          0.2574468085106383,
          0.2765957446808511,
          0.30425531914893617,
          0.32340425531914896,
          0.32978723404255317,
          0.3425531914893617,
          0.3425531914893617,
          0.3468085106382979,
          0.35106382978723405,
          0.3574468085106383,
          0.3617021276595745,
          0.3659574468085106,
          0.3659574468085106,
          1
         ],
         "y": [
          0,
          0.007518796992481203,
          0.007518796992481203,
          0.007518796992481203,
          0.007518796992481203,
          0.007518796992481203,
          0.007518796992481203,
          0.007518796992481203,
          0.015037593984962405,
          0.015037593984962405,
          0.5263157894736842,
          0.11278195488721804,
          0.5639097744360902,
          0.6992481203007519,
          0.924812030075188,
          1,
          1,
          1,
          1,
          1,
          1,
          1,
          1,
          1,
          1,
          1,
          1,
          1,
          1,
          1,
          1,
          1,
          1,
          1,
          1,
          1,
          1
         ]
        },
        {
         "name": "EmertonMonarch7B - AUC: 0.9954",
         "type": "scatter",
         "x": [
          0,
          0.002127659574468085,
          0.002127659574468085,
          0.002127659574468085,
          0.002127659574468085,
          0.002127659574468085,
          0.002127659574468085,
          0.002127659574468085,
          0.002127659574468085,
          0.002127659574468085,
          0.002127659574468085,
          0.00425531914893617,
          0.00425531914893617,
          0.006382978723404255,
          0.006382978723404255,
          0.014893617021276596,
          0.036170212765957444,
          0.05319148936170213,
          0.10212765957446808,
          0.18085106382978725,
          0.2680851063829787,
          0.40638297872340423,
          0.5276595744680851,
          0.6425531914893617,
          0.7446808510638298,
          0.8191489361702128,
          0.8723404255319149,
          0.9042553191489362,
          0.9276595744680851,
          0.948936170212766,
          0.9617021276595744,
          0.9617021276595744,
          0.9617021276595744,
          0.9659574468085106,
          0.9723404255319149,
          0.9808510638297873,
          1
         ],
         "y": [
          0,
          0.015037593984962405,
          0.022556390977443608,
          0.022556390977443608,
          0.015037593984962405,
          0.13533834586466165,
          0.015037593984962405,
          0.015037593984962405,
          0.015037593984962405,
          0.015037593984962405,
          0.015037593984962405,
          0.5413533834586466,
          0.6090225563909775,
          0.7368421052631579,
          0.9473684210526315,
          1,
          1,
          1,
          1,
          1,
          1,
          1,
          1,
          1,
          1,
          1,
          1,
          1,
          1,
          1,
          1,
          1,
          1,
          1,
          1,
          1,
          1
         ]
        },
        {
         "name": "BartLarge - AUC: 0.9871",
         "type": "scatter",
         "x": [
          0,
          0,
          0.002127659574468085,
          0.002127659574468085,
          0.002127659574468085,
          0.002127659574468085,
          0.002127659574468085,
          0.002127659574468085,
          0.00425531914893617,
          0.00425531914893617,
          0.00425531914893617,
          0.006382978723404255,
          0.010638297872340425,
          0.01702127659574468,
          0.031914893617021274,
          0.04680851063829787,
          0.08936170212765958,
          0.1276595744680851,
          0.17659574468085107,
          0.2531914893617021,
          0.3276595744680851,
          0.46595744680851064,
          0.6063829787234043,
          0.7617021276595745,
          0.8489361702127659,
          0.9042553191489362,
          0.9234042553191489,
          0.9531914893617022,
          0.9574468085106383,
          0.9787234042553191,
          0.9872340425531915,
          0.9872340425531915,
          0.9872340425531915,
          0.9872340425531915,
          0.9893617021276596,
          0.9893617021276596,
          1
         ],
         "y": [
          0,
          0.007518796992481203,
          0.007518796992481203,
          0.007518796992481203,
          0.007518796992481203,
          0.007518796992481203,
          0.007518796992481203,
          0.007518796992481203,
          0.015037593984962405,
          0.015037593984962405,
          0.11278195488721804,
          0.5263157894736842,
          0.5789473684210527,
          0.7142857142857143,
          0.9398496240601504,
          1,
          1,
          1,
          1,
          1,
          1,
          1,
          1,
          1,
          1,
          1,
          1,
          1,
          1,
          1,
          1,
          1,
          1,
          1,
          1,
          1,
          1
         ]
        },
        {
         "name": "Cyrax7B - AUC: 0.9898",
         "type": "scatter",
         "x": [
          0,
          0.002127659574468085,
          0.002127659574468085,
          0.002127659574468085,
          0.002127659574468085,
          0.002127659574468085,
          0.002127659574468085,
          0.002127659574468085,
          0.00425531914893617,
          0.00425531914893617,
          0.00425531914893617,
          0.006382978723404255,
          0.010638297872340425,
          0.010638297872340425,
          0.023404255319148935,
          0.04680851063829787,
          0.07234042553191489,
          0.08723404255319149,
          0.12127659574468085,
          0.19787234042553192,
          0.2553191489361702,
          0.32978723404255317,
          0.44468085106382976,
          0.5446808510638298,
          0.6425531914893617,
          0.7510638297872341,
          0.8212765957446808,
          0.8404255319148937,
          0.8638297872340426,
          0.9340425531914893,
          0.9680851063829787,
          0.9702127659574468,
          0.9723404255319149,
          0.9723404255319149,
          0.9744680851063829,
          0.9829787234042553,
          1
         ],
         "y": [
          0,
          0.015037593984962405,
          0.015037593984962405,
          0.015037593984962405,
          0.015037593984962405,
          0.015037593984962405,
          0.015037593984962405,
          0.015037593984962405,
          0.022556390977443608,
          0.022556390977443608,
          0.13533834586466165,
          0.5413533834586466,
          0.6015037593984962,
          0.7293233082706767,
          0.9473684210526315,
          1,
          1,
          1,
          1,
          1,
          1,
          1,
          1,
          1,
          1,
          1,
          1,
          1,
          1,
          1,
          1,
          1,
          1,
          1,
          1,
          1,
          1
         ]
        },
        {
         "line": {
          "color": "lightgray"
         },
         "name": "Baseline",
         "type": "scatter",
         "x": [
          0,
          1
         ],
         "y": [
          0,
          1
         ]
        }
       ],
       "layout": {
        "height": 400,
        "template": {
         "data": {
          "bar": [
           {
            "error_x": {
             "color": "#2a3f5f"
            },
            "error_y": {
             "color": "#2a3f5f"
            },
            "marker": {
             "line": {
              "color": "#E5ECF6",
              "width": 0.5
             },
             "pattern": {
              "fillmode": "overlay",
              "size": 10,
              "solidity": 0.2
             }
            },
            "type": "bar"
           }
          ],
          "barpolar": [
           {
            "marker": {
             "line": {
              "color": "#E5ECF6",
              "width": 0.5
             },
             "pattern": {
              "fillmode": "overlay",
              "size": 10,
              "solidity": 0.2
             }
            },
            "type": "barpolar"
           }
          ],
          "carpet": [
           {
            "aaxis": {
             "endlinecolor": "#2a3f5f",
             "gridcolor": "white",
             "linecolor": "white",
             "minorgridcolor": "white",
             "startlinecolor": "#2a3f5f"
            },
            "baxis": {
             "endlinecolor": "#2a3f5f",
             "gridcolor": "white",
             "linecolor": "white",
             "minorgridcolor": "white",
             "startlinecolor": "#2a3f5f"
            },
            "type": "carpet"
           }
          ],
          "choropleth": [
           {
            "colorbar": {
             "outlinewidth": 0,
             "ticks": ""
            },
            "type": "choropleth"
           }
          ],
          "contour": [
           {
            "colorbar": {
             "outlinewidth": 0,
             "ticks": ""
            },
            "colorscale": [
             [
              0,
              "#0d0887"
             ],
             [
              0.1111111111111111,
              "#46039f"
             ],
             [
              0.2222222222222222,
              "#7201a8"
             ],
             [
              0.3333333333333333,
              "#9c179e"
             ],
             [
              0.4444444444444444,
              "#bd3786"
             ],
             [
              0.5555555555555556,
              "#d8576b"
             ],
             [
              0.6666666666666666,
              "#ed7953"
             ],
             [
              0.7777777777777778,
              "#fb9f3a"
             ],
             [
              0.8888888888888888,
              "#fdca26"
             ],
             [
              1,
              "#f0f921"
             ]
            ],
            "type": "contour"
           }
          ],
          "contourcarpet": [
           {
            "colorbar": {
             "outlinewidth": 0,
             "ticks": ""
            },
            "type": "contourcarpet"
           }
          ],
          "heatmap": [
           {
            "colorbar": {
             "outlinewidth": 0,
             "ticks": ""
            },
            "colorscale": [
             [
              0,
              "#0d0887"
             ],
             [
              0.1111111111111111,
              "#46039f"
             ],
             [
              0.2222222222222222,
              "#7201a8"
             ],
             [
              0.3333333333333333,
              "#9c179e"
             ],
             [
              0.4444444444444444,
              "#bd3786"
             ],
             [
              0.5555555555555556,
              "#d8576b"
             ],
             [
              0.6666666666666666,
              "#ed7953"
             ],
             [
              0.7777777777777778,
              "#fb9f3a"
             ],
             [
              0.8888888888888888,
              "#fdca26"
             ],
             [
              1,
              "#f0f921"
             ]
            ],
            "type": "heatmap"
           }
          ],
          "heatmapgl": [
           {
            "colorbar": {
             "outlinewidth": 0,
             "ticks": ""
            },
            "colorscale": [
             [
              0,
              "#0d0887"
             ],
             [
              0.1111111111111111,
              "#46039f"
             ],
             [
              0.2222222222222222,
              "#7201a8"
             ],
             [
              0.3333333333333333,
              "#9c179e"
             ],
             [
              0.4444444444444444,
              "#bd3786"
             ],
             [
              0.5555555555555556,
              "#d8576b"
             ],
             [
              0.6666666666666666,
              "#ed7953"
             ],
             [
              0.7777777777777778,
              "#fb9f3a"
             ],
             [
              0.8888888888888888,
              "#fdca26"
             ],
             [
              1,
              "#f0f921"
             ]
            ],
            "type": "heatmapgl"
           }
          ],
          "histogram": [
           {
            "marker": {
             "pattern": {
              "fillmode": "overlay",
              "size": 10,
              "solidity": 0.2
             }
            },
            "type": "histogram"
           }
          ],
          "histogram2d": [
           {
            "colorbar": {
             "outlinewidth": 0,
             "ticks": ""
            },
            "colorscale": [
             [
              0,
              "#0d0887"
             ],
             [
              0.1111111111111111,
              "#46039f"
             ],
             [
              0.2222222222222222,
              "#7201a8"
             ],
             [
              0.3333333333333333,
              "#9c179e"
             ],
             [
              0.4444444444444444,
              "#bd3786"
             ],
             [
              0.5555555555555556,
              "#d8576b"
             ],
             [
              0.6666666666666666,
              "#ed7953"
             ],
             [
              0.7777777777777778,
              "#fb9f3a"
             ],
             [
              0.8888888888888888,
              "#fdca26"
             ],
             [
              1,
              "#f0f921"
             ]
            ],
            "type": "histogram2d"
           }
          ],
          "histogram2dcontour": [
           {
            "colorbar": {
             "outlinewidth": 0,
             "ticks": ""
            },
            "colorscale": [
             [
              0,
              "#0d0887"
             ],
             [
              0.1111111111111111,
              "#46039f"
             ],
             [
              0.2222222222222222,
              "#7201a8"
             ],
             [
              0.3333333333333333,
              "#9c179e"
             ],
             [
              0.4444444444444444,
              "#bd3786"
             ],
             [
              0.5555555555555556,
              "#d8576b"
             ],
             [
              0.6666666666666666,
              "#ed7953"
             ],
             [
              0.7777777777777778,
              "#fb9f3a"
             ],
             [
              0.8888888888888888,
              "#fdca26"
             ],
             [
              1,
              "#f0f921"
             ]
            ],
            "type": "histogram2dcontour"
           }
          ],
          "mesh3d": [
           {
            "colorbar": {
             "outlinewidth": 0,
             "ticks": ""
            },
            "type": "mesh3d"
           }
          ],
          "parcoords": [
           {
            "line": {
             "colorbar": {
              "outlinewidth": 0,
              "ticks": ""
             }
            },
            "type": "parcoords"
           }
          ],
          "pie": [
           {
            "automargin": true,
            "type": "pie"
           }
          ],
          "scatter": [
           {
            "fillpattern": {
             "fillmode": "overlay",
             "size": 10,
             "solidity": 0.2
            },
            "type": "scatter"
           }
          ],
          "scatter3d": [
           {
            "line": {
             "colorbar": {
              "outlinewidth": 0,
              "ticks": ""
             }
            },
            "marker": {
             "colorbar": {
              "outlinewidth": 0,
              "ticks": ""
             }
            },
            "type": "scatter3d"
           }
          ],
          "scattercarpet": [
           {
            "marker": {
             "colorbar": {
              "outlinewidth": 0,
              "ticks": ""
             }
            },
            "type": "scattercarpet"
           }
          ],
          "scattergeo": [
           {
            "marker": {
             "colorbar": {
              "outlinewidth": 0,
              "ticks": ""
             }
            },
            "type": "scattergeo"
           }
          ],
          "scattergl": [
           {
            "marker": {
             "colorbar": {
              "outlinewidth": 0,
              "ticks": ""
             }
            },
            "type": "scattergl"
           }
          ],
          "scattermapbox": [
           {
            "marker": {
             "colorbar": {
              "outlinewidth": 0,
              "ticks": ""
             }
            },
            "type": "scattermapbox"
           }
          ],
          "scatterpolar": [
           {
            "marker": {
             "colorbar": {
              "outlinewidth": 0,
              "ticks": ""
             }
            },
            "type": "scatterpolar"
           }
          ],
          "scatterpolargl": [
           {
            "marker": {
             "colorbar": {
              "outlinewidth": 0,
              "ticks": ""
             }
            },
            "type": "scatterpolargl"
           }
          ],
          "scatterternary": [
           {
            "marker": {
             "colorbar": {
              "outlinewidth": 0,
              "ticks": ""
             }
            },
            "type": "scatterternary"
           }
          ],
          "surface": [
           {
            "colorbar": {
             "outlinewidth": 0,
             "ticks": ""
            },
            "colorscale": [
             [
              0,
              "#0d0887"
             ],
             [
              0.1111111111111111,
              "#46039f"
             ],
             [
              0.2222222222222222,
              "#7201a8"
             ],
             [
              0.3333333333333333,
              "#9c179e"
             ],
             [
              0.4444444444444444,
              "#bd3786"
             ],
             [
              0.5555555555555556,
              "#d8576b"
             ],
             [
              0.6666666666666666,
              "#ed7953"
             ],
             [
              0.7777777777777778,
              "#fb9f3a"
             ],
             [
              0.8888888888888888,
              "#fdca26"
             ],
             [
              1,
              "#f0f921"
             ]
            ],
            "type": "surface"
           }
          ],
          "table": [
           {
            "cells": {
             "fill": {
              "color": "#EBF0F8"
             },
             "line": {
              "color": "white"
             }
            },
            "header": {
             "fill": {
              "color": "#C8D4E3"
             },
             "line": {
              "color": "white"
             }
            },
            "type": "table"
           }
          ]
         },
         "layout": {
          "annotationdefaults": {
           "arrowcolor": "#2a3f5f",
           "arrowhead": 0,
           "arrowwidth": 1
          },
          "autotypenumbers": "strict",
          "coloraxis": {
           "colorbar": {
            "outlinewidth": 0,
            "ticks": ""
           }
          },
          "colorscale": {
           "diverging": [
            [
             0,
             "#8e0152"
            ],
            [
             0.1,
             "#c51b7d"
            ],
            [
             0.2,
             "#de77ae"
            ],
            [
             0.3,
             "#f1b6da"
            ],
            [
             0.4,
             "#fde0ef"
            ],
            [
             0.5,
             "#f7f7f7"
            ],
            [
             0.6,
             "#e6f5d0"
            ],
            [
             0.7,
             "#b8e186"
            ],
            [
             0.8,
             "#7fbc41"
            ],
            [
             0.9,
             "#4d9221"
            ],
            [
             1,
             "#276419"
            ]
           ],
           "sequential": [
            [
             0,
             "#0d0887"
            ],
            [
             0.1111111111111111,
             "#46039f"
            ],
            [
             0.2222222222222222,
             "#7201a8"
            ],
            [
             0.3333333333333333,
             "#9c179e"
            ],
            [
             0.4444444444444444,
             "#bd3786"
            ],
            [
             0.5555555555555556,
             "#d8576b"
            ],
            [
             0.6666666666666666,
             "#ed7953"
            ],
            [
             0.7777777777777778,
             "#fb9f3a"
            ],
            [
             0.8888888888888888,
             "#fdca26"
            ],
            [
             1,
             "#f0f921"
            ]
           ],
           "sequentialminus": [
            [
             0,
             "#0d0887"
            ],
            [
             0.1111111111111111,
             "#46039f"
            ],
            [
             0.2222222222222222,
             "#7201a8"
            ],
            [
             0.3333333333333333,
             "#9c179e"
            ],
            [
             0.4444444444444444,
             "#bd3786"
            ],
            [
             0.5555555555555556,
             "#d8576b"
            ],
            [
             0.6666666666666666,
             "#ed7953"
            ],
            [
             0.7777777777777778,
             "#fb9f3a"
            ],
            [
             0.8888888888888888,
             "#fdca26"
            ],
            [
             1,
             "#f0f921"
            ]
           ]
          },
          "colorway": [
           "#636efa",
           "#EF553B",
           "#00cc96",
           "#ab63fa",
           "#FFA15A",
           "#19d3f3",
           "#FF6692",
           "#B6E880",
           "#FF97FF",
           "#FECB52"
          ],
          "font": {
           "color": "#2a3f5f"
          },
          "geo": {
           "bgcolor": "white",
           "lakecolor": "white",
           "landcolor": "#E5ECF6",
           "showlakes": true,
           "showland": true,
           "subunitcolor": "white"
          },
          "hoverlabel": {
           "align": "left"
          },
          "hovermode": "closest",
          "mapbox": {
           "style": "light"
          },
          "paper_bgcolor": "white",
          "plot_bgcolor": "#E5ECF6",
          "polar": {
           "angularaxis": {
            "gridcolor": "white",
            "linecolor": "white",
            "ticks": ""
           },
           "bgcolor": "#E5ECF6",
           "radialaxis": {
            "gridcolor": "white",
            "linecolor": "white",
            "ticks": ""
           }
          },
          "scene": {
           "xaxis": {
            "backgroundcolor": "#E5ECF6",
            "gridcolor": "white",
            "gridwidth": 2,
            "linecolor": "white",
            "showbackground": true,
            "ticks": "",
            "zerolinecolor": "white"
           },
           "yaxis": {
            "backgroundcolor": "#E5ECF6",
            "gridcolor": "white",
            "gridwidth": 2,
            "linecolor": "white",
            "showbackground": true,
            "ticks": "",
            "zerolinecolor": "white"
           },
           "zaxis": {
            "backgroundcolor": "#E5ECF6",
            "gridcolor": "white",
            "gridwidth": 2,
            "linecolor": "white",
            "showbackground": true,
            "ticks": "",
            "zerolinecolor": "white"
           }
          },
          "shapedefaults": {
           "line": {
            "color": "#2a3f5f"
           }
          },
          "ternary": {
           "aaxis": {
            "gridcolor": "white",
            "linecolor": "white",
            "ticks": ""
           },
           "baxis": {
            "gridcolor": "white",
            "linecolor": "white",
            "ticks": ""
           },
           "bgcolor": "#E5ECF6",
           "caxis": {
            "gridcolor": "white",
            "linecolor": "white",
            "ticks": ""
           }
          },
          "title": {
           "x": 0.05
          },
          "xaxis": {
           "automargin": true,
           "gridcolor": "white",
           "linecolor": "white",
           "ticks": "",
           "title": {
            "standoff": 15
           },
           "zerolinecolor": "white",
           "zerolinewidth": 2
          },
          "yaxis": {
           "automargin": true,
           "gridcolor": "white",
           "linecolor": "white",
           "ticks": "",
           "title": {
            "standoff": 15
           },
           "zerolinecolor": "white",
           "zerolinewidth": 2
          }
         }
        },
        "title": {
         "text": "ROC Curve - hdd - Criteria: 2"
        },
        "width": 580,
        "xaxis": {
         "range": [
          0,
          1
         ],
         "title": {
          "text": "False Positive Rate"
         }
        },
        "yaxis": {
         "range": [
          0,
          1
         ],
         "scaleanchor": "x",
         "scaleratio": 1,
         "title": {
          "text": "True Positive Rate"
         }
        }
       }
      }
     },
     "metadata": {},
     "output_type": "display_data"
    }
   ],
   "source": [
    "dataset = \"hdd\"\n",
    "generateROCForCriteria(dataset, 1, inference_providers )\n",
    "generateROCForCriteria(dataset, 2, inference_providers )"
   ]
  },
  {
   "cell_type": "code",
   "execution_count": 108,
   "metadata": {},
   "outputs": [
    {
     "data": {
      "application/vnd.plotly.v1+json": {
       "config": {
        "plotlyServerURL": "https://plot.ly"
       },
       "data": [
        {
         "name": "Fake - AUC: 0.9933",
         "type": "scatter",
         "x": [
          0,
          0.004685059864653826,
          0.004685059864653826,
          0.004685059864653826,
          0.004685059864653826,
          0.004685059864653826,
          0.005726184279021343,
          0.00676730869338886,
          0.008328995314940135,
          0.008849557522123894,
          0.010931806350858927,
          0.014575741801145237,
          0.01978136387298282,
          0.026028110359187923,
          0.045288912024986985,
          0.07183758459135867,
          0.09682457053617907,
          0.1353461738677772,
          0.185320145757418,
          0.25351379489849035,
          0.3581467985424258,
          0.46330036439354505,
          0.6257157730348777,
          0.8120770432066632,
          0.9213951067152525,
          0.9625195210827694,
          0.980739198334201,
          0.9890681936491411,
          0.9947943779281624,
          0.9973971889640812,
          0.9989588755856325,
          0.9989588755856325,
          0.9989588755856325,
          0.9989588755856325,
          1,
          1,
          1
         ],
         "y": [
          0,
          0.02097902097902098,
          0.16783216783216784,
          0.02097902097902098,
          0.02097902097902098,
          0.027972027972027972,
          0.4755244755244755,
          0.6223776223776224,
          0.6783216783216783,
          0.8741258741258742,
          0.993006993006993,
          1,
          1,
          1,
          1,
          1,
          1,
          1,
          1,
          1,
          1,
          1,
          1,
          1,
          1,
          1,
          1,
          1,
          1,
          1,
          1,
          1,
          1,
          1,
          1,
          1,
          1
         ]
        },
        {
         "name": "GPT3 - AUC: 0.9997",
         "type": "scatter",
         "x": [
          0,
          0,
          0,
          0,
          0,
          0,
          0,
          0,
          0,
          0,
          0,
          0.0005205622071837585,
          0.0005205622071837585,
          0.001041124414367517,
          0.001041124414367517,
          0.001041124414367517,
          0.001041124414367517,
          0.001041124414367517,
          0.0015616866215512754,
          0.0015616866215512754,
          0.002082248828735034,
          0.0031233732431025507,
          0.0031233732431025507,
          0.0031233732431025507,
          0.004164497657470068,
          0.005726184279021343,
          0.008328995314940135,
          0.015096304008328995,
          0.01978136387298282,
          0.022904737116085372,
          0.03019260801665799,
          0.03331598125976054,
          0.0338365434669443,
          0.034877667881311816,
          0.04685059864653826,
          0.055700156168662154,
          1
         ],
         "y": [
          0,
          0.013986013986013986,
          0.013986013986013986,
          0.02097902097902098,
          0.16083916083916083,
          0.46853146853146854,
          0.6153846153846154,
          0.6783216783216783,
          0.8741258741258742,
          0.993006993006993,
          0.013986013986013986,
          1,
          1,
          1,
          1,
          1,
          1,
          1,
          1,
          1,
          1,
          1,
          1,
          1,
          1,
          1,
          1,
          1,
          1,
          1,
          1,
          1,
          1,
          1,
          1,
          1,
          1
         ]
        },
        {
         "name": "Falcon7B - AUC: 0.9785",
         "type": "scatter",
         "x": [
          0,
          0.004164497657470068,
          0.004164497657470068,
          0.004164497657470068,
          0.004164497657470068,
          0.004164497657470068,
          0.004164497657470068,
          0.004164497657470068,
          0.004164497657470068,
          0.0052056220718375845,
          0.006246746486205101,
          0.008849557522123894,
          0.011972930765226444,
          0.01717855283706403,
          0.03071317022384175,
          0.05101509630400833,
          0.07339927121290994,
          0.10619469026548672,
          0.1369078604893285,
          0.16970327954190526,
          0.2467464862051015,
          0.3107756376887038,
          0.385736595523165,
          0.5158771473191046,
          0.6267568974492452,
          0.7532535137948985,
          0.8250910983862572,
          0.8709005726184279,
          0.9255596043727226,
          0.9708485163977095,
          0.9875065070275898,
          0.9911504424778761,
          0.9921915668922436,
          0.9932326913066112,
          0.9953149401353462,
          0.9979177511712649,
          1
         ],
         "y": [
          0,
          0.013986013986013986,
          0.04895104895104895,
          0.04195804195804196,
          0.02097902097902098,
          0.013986013986013986,
          0.013986013986013986,
          0.013986013986013986,
          0.013986013986013986,
          0.1048951048951049,
          0.24475524475524477,
          0.32167832167832167,
          0.5034965034965035,
          0.6293706293706294,
          0.8321678321678322,
          0.8811188811188811,
          0.958041958041958,
          0.986013986013986,
          1,
          1,
          1,
          1,
          1,
          1,
          1,
          1,
          1,
          1,
          1,
          1,
          1,
          1,
          1,
          1,
          1,
          1,
          1
         ]
        },
        {
         "name": "EmertonMonarch7B - AUC: 0.9933",
         "type": "scatter",
         "x": [
          0,
          0.004685059864653826,
          0.004685059864653826,
          0.004685059864653826,
          0.004685059864653826,
          0.004685059864653826,
          0.005726184279021343,
          0.00676730869338886,
          0.008328995314940135,
          0.008849557522123894,
          0.010931806350858927,
          0.014575741801145237,
          0.019260801665799063,
          0.024466423737636647,
          0.041644976574700676,
          0.06611140031233732,
          0.08849557522123894,
          0.12493492972410203,
          0.16866215512753774,
          0.2358146798542426,
          0.3368037480478917,
          0.4398750650702759,
          0.5726184279021344,
          0.7381572097865695,
          0.8625715773034878,
          0.9198334200937012,
          0.9593961478396669,
          0.9750130140551796,
          0.9838625715773035,
          0.9890681936491411,
          0.9921915668922436,
          0.9937532535137948,
          0.9942738157209786,
          0.9947943779281624,
          0.9958355023425299,
          0.9963560645497137,
          1
         ],
         "y": [
          0,
          0.02097902097902098,
          0.16783216783216784,
          0.02097902097902098,
          0.02097902097902098,
          0.027972027972027972,
          0.4755244755244755,
          0.6223776223776224,
          0.6783216783216783,
          0.8741258741258742,
          0.993006993006993,
          1,
          1,
          1,
          1,
          1,
          1,
          1,
          1,
          1,
          1,
          1,
          1,
          1,
          1,
          1,
          1,
          1,
          1,
          1,
          1,
          1,
          1,
          1,
          1,
          1,
          1
         ]
        },
        {
         "name": "BartLarge - AUC: 0.9936",
         "type": "scatter",
         "x": [
          0,
          0.004164497657470068,
          0.004164497657470068,
          0.004164497657470068,
          0.004164497657470068,
          0.004164497657470068,
          0.0052056220718375845,
          0.006246746486205101,
          0.007808433107756377,
          0.008849557522123894,
          0.010931806350858927,
          0.014575741801145237,
          0.01978136387298282,
          0.026028110359187923,
          0.04372722540343571,
          0.0676730869338886,
          0.09161894846434149,
          0.12077043206663196,
          0.15512753774076002,
          0.20510150963040083,
          0.29724102030192606,
          0.39146277980218636,
          0.5413846954711088,
          0.7376366475793857,
          0.8662155127537741,
          0.9266007287870901,
          0.9604372722540343,
          0.973971889640812,
          0.9911504424778761,
          0.9963560645497137,
          0.9989588755856325,
          0.9989588755856325,
          0.9989588755856325,
          0.9989588755856325,
          0.9989588755856325,
          0.9989588755856325,
          1
         ],
         "y": [
          0,
          0.013986013986013986,
          0.16083916083916083,
          0.013986013986013986,
          0.013986013986013986,
          0.02097902097902098,
          0.46853146853146854,
          0.6223776223776224,
          0.6783216783216783,
          0.8741258741258742,
          0.993006993006993,
          1,
          1,
          1,
          1,
          1,
          1,
          1,
          1,
          1,
          1,
          1,
          1,
          1,
          1,
          1,
          1,
          1,
          1,
          1,
          1,
          1,
          1,
          1,
          1,
          1,
          1
         ]
        },
        {
         "name": "Cyrax7B - AUC: 0.9977",
         "type": "scatter",
         "x": [
          0,
          0.001041124414367517,
          0.001041124414367517,
          0.0015616866215512754,
          0.0015616866215512754,
          0.0015616866215512754,
          0.002082248828735034,
          0.002082248828735034,
          0.002082248828735034,
          0.0031233732431025507,
          0.004164497657470068,
          0.008849557522123894,
          0.01353461738677772,
          0.017699115044247787,
          0.03019260801665799,
          0.04737116085372202,
          0.061946902654867256,
          0.08381051535658511,
          0.10723581467985424,
          0.137948984903696,
          0.2056220718375846,
          0.25976054138469545,
          0.3461738677771994,
          0.4815200416449766,
          0.597084851639771,
          0.704841228526809,
          0.7969807391983342,
          0.8495575221238938,
          0.8990109318063508,
          0.9557522123893806,
          0.9817803227485684,
          0.9880270692347736,
          0.9901093180635085,
          0.9911504424778761,
          0.9947943779281624,
          0.9968766267568975,
          1
         ],
         "y": [
          0,
          0.02097902097902098,
          0.02097902097902098,
          0.027972027972027972,
          0.16783216783216784,
          0.02097902097902098,
          0.4755244755244755,
          0.6223776223776224,
          0.6783216783216783,
          0.8741258741258742,
          0.993006993006993,
          1,
          1,
          1,
          1,
          1,
          1,
          1,
          1,
          1,
          1,
          1,
          1,
          1,
          1,
          1,
          1,
          1,
          1,
          1,
          1,
          1,
          1,
          1,
          1,
          1,
          1
         ]
        },
        {
         "line": {
          "color": "lightgray"
         },
         "name": "Baseline",
         "type": "scatter",
         "x": [
          0,
          1
         ],
         "y": [
          0,
          1
         ]
        }
       ],
       "layout": {
        "height": 400,
        "template": {
         "data": {
          "bar": [
           {
            "error_x": {
             "color": "#2a3f5f"
            },
            "error_y": {
             "color": "#2a3f5f"
            },
            "marker": {
             "line": {
              "color": "#E5ECF6",
              "width": 0.5
             },
             "pattern": {
              "fillmode": "overlay",
              "size": 10,
              "solidity": 0.2
             }
            },
            "type": "bar"
           }
          ],
          "barpolar": [
           {
            "marker": {
             "line": {
              "color": "#E5ECF6",
              "width": 0.5
             },
             "pattern": {
              "fillmode": "overlay",
              "size": 10,
              "solidity": 0.2
             }
            },
            "type": "barpolar"
           }
          ],
          "carpet": [
           {
            "aaxis": {
             "endlinecolor": "#2a3f5f",
             "gridcolor": "white",
             "linecolor": "white",
             "minorgridcolor": "white",
             "startlinecolor": "#2a3f5f"
            },
            "baxis": {
             "endlinecolor": "#2a3f5f",
             "gridcolor": "white",
             "linecolor": "white",
             "minorgridcolor": "white",
             "startlinecolor": "#2a3f5f"
            },
            "type": "carpet"
           }
          ],
          "choropleth": [
           {
            "colorbar": {
             "outlinewidth": 0,
             "ticks": ""
            },
            "type": "choropleth"
           }
          ],
          "contour": [
           {
            "colorbar": {
             "outlinewidth": 0,
             "ticks": ""
            },
            "colorscale": [
             [
              0,
              "#0d0887"
             ],
             [
              0.1111111111111111,
              "#46039f"
             ],
             [
              0.2222222222222222,
              "#7201a8"
             ],
             [
              0.3333333333333333,
              "#9c179e"
             ],
             [
              0.4444444444444444,
              "#bd3786"
             ],
             [
              0.5555555555555556,
              "#d8576b"
             ],
             [
              0.6666666666666666,
              "#ed7953"
             ],
             [
              0.7777777777777778,
              "#fb9f3a"
             ],
             [
              0.8888888888888888,
              "#fdca26"
             ],
             [
              1,
              "#f0f921"
             ]
            ],
            "type": "contour"
           }
          ],
          "contourcarpet": [
           {
            "colorbar": {
             "outlinewidth": 0,
             "ticks": ""
            },
            "type": "contourcarpet"
           }
          ],
          "heatmap": [
           {
            "colorbar": {
             "outlinewidth": 0,
             "ticks": ""
            },
            "colorscale": [
             [
              0,
              "#0d0887"
             ],
             [
              0.1111111111111111,
              "#46039f"
             ],
             [
              0.2222222222222222,
              "#7201a8"
             ],
             [
              0.3333333333333333,
              "#9c179e"
             ],
             [
              0.4444444444444444,
              "#bd3786"
             ],
             [
              0.5555555555555556,
              "#d8576b"
             ],
             [
              0.6666666666666666,
              "#ed7953"
             ],
             [
              0.7777777777777778,
              "#fb9f3a"
             ],
             [
              0.8888888888888888,
              "#fdca26"
             ],
             [
              1,
              "#f0f921"
             ]
            ],
            "type": "heatmap"
           }
          ],
          "heatmapgl": [
           {
            "colorbar": {
             "outlinewidth": 0,
             "ticks": ""
            },
            "colorscale": [
             [
              0,
              "#0d0887"
             ],
             [
              0.1111111111111111,
              "#46039f"
             ],
             [
              0.2222222222222222,
              "#7201a8"
             ],
             [
              0.3333333333333333,
              "#9c179e"
             ],
             [
              0.4444444444444444,
              "#bd3786"
             ],
             [
              0.5555555555555556,
              "#d8576b"
             ],
             [
              0.6666666666666666,
              "#ed7953"
             ],
             [
              0.7777777777777778,
              "#fb9f3a"
             ],
             [
              0.8888888888888888,
              "#fdca26"
             ],
             [
              1,
              "#f0f921"
             ]
            ],
            "type": "heatmapgl"
           }
          ],
          "histogram": [
           {
            "marker": {
             "pattern": {
              "fillmode": "overlay",
              "size": 10,
              "solidity": 0.2
             }
            },
            "type": "histogram"
           }
          ],
          "histogram2d": [
           {
            "colorbar": {
             "outlinewidth": 0,
             "ticks": ""
            },
            "colorscale": [
             [
              0,
              "#0d0887"
             ],
             [
              0.1111111111111111,
              "#46039f"
             ],
             [
              0.2222222222222222,
              "#7201a8"
             ],
             [
              0.3333333333333333,
              "#9c179e"
             ],
             [
              0.4444444444444444,
              "#bd3786"
             ],
             [
              0.5555555555555556,
              "#d8576b"
             ],
             [
              0.6666666666666666,
              "#ed7953"
             ],
             [
              0.7777777777777778,
              "#fb9f3a"
             ],
             [
              0.8888888888888888,
              "#fdca26"
             ],
             [
              1,
              "#f0f921"
             ]
            ],
            "type": "histogram2d"
           }
          ],
          "histogram2dcontour": [
           {
            "colorbar": {
             "outlinewidth": 0,
             "ticks": ""
            },
            "colorscale": [
             [
              0,
              "#0d0887"
             ],
             [
              0.1111111111111111,
              "#46039f"
             ],
             [
              0.2222222222222222,
              "#7201a8"
             ],
             [
              0.3333333333333333,
              "#9c179e"
             ],
             [
              0.4444444444444444,
              "#bd3786"
             ],
             [
              0.5555555555555556,
              "#d8576b"
             ],
             [
              0.6666666666666666,
              "#ed7953"
             ],
             [
              0.7777777777777778,
              "#fb9f3a"
             ],
             [
              0.8888888888888888,
              "#fdca26"
             ],
             [
              1,
              "#f0f921"
             ]
            ],
            "type": "histogram2dcontour"
           }
          ],
          "mesh3d": [
           {
            "colorbar": {
             "outlinewidth": 0,
             "ticks": ""
            },
            "type": "mesh3d"
           }
          ],
          "parcoords": [
           {
            "line": {
             "colorbar": {
              "outlinewidth": 0,
              "ticks": ""
             }
            },
            "type": "parcoords"
           }
          ],
          "pie": [
           {
            "automargin": true,
            "type": "pie"
           }
          ],
          "scatter": [
           {
            "fillpattern": {
             "fillmode": "overlay",
             "size": 10,
             "solidity": 0.2
            },
            "type": "scatter"
           }
          ],
          "scatter3d": [
           {
            "line": {
             "colorbar": {
              "outlinewidth": 0,
              "ticks": ""
             }
            },
            "marker": {
             "colorbar": {
              "outlinewidth": 0,
              "ticks": ""
             }
            },
            "type": "scatter3d"
           }
          ],
          "scattercarpet": [
           {
            "marker": {
             "colorbar": {
              "outlinewidth": 0,
              "ticks": ""
             }
            },
            "type": "scattercarpet"
           }
          ],
          "scattergeo": [
           {
            "marker": {
             "colorbar": {
              "outlinewidth": 0,
              "ticks": ""
             }
            },
            "type": "scattergeo"
           }
          ],
          "scattergl": [
           {
            "marker": {
             "colorbar": {
              "outlinewidth": 0,
              "ticks": ""
             }
            },
            "type": "scattergl"
           }
          ],
          "scattermapbox": [
           {
            "marker": {
             "colorbar": {
              "outlinewidth": 0,
              "ticks": ""
             }
            },
            "type": "scattermapbox"
           }
          ],
          "scatterpolar": [
           {
            "marker": {
             "colorbar": {
              "outlinewidth": 0,
              "ticks": ""
             }
            },
            "type": "scatterpolar"
           }
          ],
          "scatterpolargl": [
           {
            "marker": {
             "colorbar": {
              "outlinewidth": 0,
              "ticks": ""
             }
            },
            "type": "scatterpolargl"
           }
          ],
          "scatterternary": [
           {
            "marker": {
             "colorbar": {
              "outlinewidth": 0,
              "ticks": ""
             }
            },
            "type": "scatterternary"
           }
          ],
          "surface": [
           {
            "colorbar": {
             "outlinewidth": 0,
             "ticks": ""
            },
            "colorscale": [
             [
              0,
              "#0d0887"
             ],
             [
              0.1111111111111111,
              "#46039f"
             ],
             [
              0.2222222222222222,
              "#7201a8"
             ],
             [
              0.3333333333333333,
              "#9c179e"
             ],
             [
              0.4444444444444444,
              "#bd3786"
             ],
             [
              0.5555555555555556,
              "#d8576b"
             ],
             [
              0.6666666666666666,
              "#ed7953"
             ],
             [
              0.7777777777777778,
              "#fb9f3a"
             ],
             [
              0.8888888888888888,
              "#fdca26"
             ],
             [
              1,
              "#f0f921"
             ]
            ],
            "type": "surface"
           }
          ],
          "table": [
           {
            "cells": {
             "fill": {
              "color": "#EBF0F8"
             },
             "line": {
              "color": "white"
             }
            },
            "header": {
             "fill": {
              "color": "#C8D4E3"
             },
             "line": {
              "color": "white"
             }
            },
            "type": "table"
           }
          ]
         },
         "layout": {
          "annotationdefaults": {
           "arrowcolor": "#2a3f5f",
           "arrowhead": 0,
           "arrowwidth": 1
          },
          "autotypenumbers": "strict",
          "coloraxis": {
           "colorbar": {
            "outlinewidth": 0,
            "ticks": ""
           }
          },
          "colorscale": {
           "diverging": [
            [
             0,
             "#8e0152"
            ],
            [
             0.1,
             "#c51b7d"
            ],
            [
             0.2,
             "#de77ae"
            ],
            [
             0.3,
             "#f1b6da"
            ],
            [
             0.4,
             "#fde0ef"
            ],
            [
             0.5,
             "#f7f7f7"
            ],
            [
             0.6,
             "#e6f5d0"
            ],
            [
             0.7,
             "#b8e186"
            ],
            [
             0.8,
             "#7fbc41"
            ],
            [
             0.9,
             "#4d9221"
            ],
            [
             1,
             "#276419"
            ]
           ],
           "sequential": [
            [
             0,
             "#0d0887"
            ],
            [
             0.1111111111111111,
             "#46039f"
            ],
            [
             0.2222222222222222,
             "#7201a8"
            ],
            [
             0.3333333333333333,
             "#9c179e"
            ],
            [
             0.4444444444444444,
             "#bd3786"
            ],
            [
             0.5555555555555556,
             "#d8576b"
            ],
            [
             0.6666666666666666,
             "#ed7953"
            ],
            [
             0.7777777777777778,
             "#fb9f3a"
            ],
            [
             0.8888888888888888,
             "#fdca26"
            ],
            [
             1,
             "#f0f921"
            ]
           ],
           "sequentialminus": [
            [
             0,
             "#0d0887"
            ],
            [
             0.1111111111111111,
             "#46039f"
            ],
            [
             0.2222222222222222,
             "#7201a8"
            ],
            [
             0.3333333333333333,
             "#9c179e"
            ],
            [
             0.4444444444444444,
             "#bd3786"
            ],
            [
             0.5555555555555556,
             "#d8576b"
            ],
            [
             0.6666666666666666,
             "#ed7953"
            ],
            [
             0.7777777777777778,
             "#fb9f3a"
            ],
            [
             0.8888888888888888,
             "#fdca26"
            ],
            [
             1,
             "#f0f921"
            ]
           ]
          },
          "colorway": [
           "#636efa",
           "#EF553B",
           "#00cc96",
           "#ab63fa",
           "#FFA15A",
           "#19d3f3",
           "#FF6692",
           "#B6E880",
           "#FF97FF",
           "#FECB52"
          ],
          "font": {
           "color": "#2a3f5f"
          },
          "geo": {
           "bgcolor": "white",
           "lakecolor": "white",
           "landcolor": "#E5ECF6",
           "showlakes": true,
           "showland": true,
           "subunitcolor": "white"
          },
          "hoverlabel": {
           "align": "left"
          },
          "hovermode": "closest",
          "mapbox": {
           "style": "light"
          },
          "paper_bgcolor": "white",
          "plot_bgcolor": "#E5ECF6",
          "polar": {
           "angularaxis": {
            "gridcolor": "white",
            "linecolor": "white",
            "ticks": ""
           },
           "bgcolor": "#E5ECF6",
           "radialaxis": {
            "gridcolor": "white",
            "linecolor": "white",
            "ticks": ""
           }
          },
          "scene": {
           "xaxis": {
            "backgroundcolor": "#E5ECF6",
            "gridcolor": "white",
            "gridwidth": 2,
            "linecolor": "white",
            "showbackground": true,
            "ticks": "",
            "zerolinecolor": "white"
           },
           "yaxis": {
            "backgroundcolor": "#E5ECF6",
            "gridcolor": "white",
            "gridwidth": 2,
            "linecolor": "white",
            "showbackground": true,
            "ticks": "",
            "zerolinecolor": "white"
           },
           "zaxis": {
            "backgroundcolor": "#E5ECF6",
            "gridcolor": "white",
            "gridwidth": 2,
            "linecolor": "white",
            "showbackground": true,
            "ticks": "",
            "zerolinecolor": "white"
           }
          },
          "shapedefaults": {
           "line": {
            "color": "#2a3f5f"
           }
          },
          "ternary": {
           "aaxis": {
            "gridcolor": "white",
            "linecolor": "white",
            "ticks": ""
           },
           "baxis": {
            "gridcolor": "white",
            "linecolor": "white",
            "ticks": ""
           },
           "bgcolor": "#E5ECF6",
           "caxis": {
            "gridcolor": "white",
            "linecolor": "white",
            "ticks": ""
           }
          },
          "title": {
           "x": 0.05
          },
          "xaxis": {
           "automargin": true,
           "gridcolor": "white",
           "linecolor": "white",
           "ticks": "",
           "title": {
            "standoff": 15
           },
           "zerolinecolor": "white",
           "zerolinewidth": 2
          },
          "yaxis": {
           "automargin": true,
           "gridcolor": "white",
           "linecolor": "white",
           "ticks": "",
           "title": {
            "standoff": 15
           },
           "zerolinecolor": "white",
           "zerolinewidth": 2
          }
         }
        },
        "title": {
         "text": "ROC Curve - buffer-io - Criteria: 1"
        },
        "width": 580,
        "xaxis": {
         "range": [
          0,
          1
         ],
         "title": {
          "text": "False Positive Rate"
         }
        },
        "yaxis": {
         "range": [
          0,
          1
         ],
         "scaleanchor": "x",
         "scaleratio": 1,
         "title": {
          "text": "True Positive Rate"
         }
        }
       }
      }
     },
     "metadata": {},
     "output_type": "display_data"
    },
    {
     "data": {
      "application/vnd.plotly.v1+json": {
       "config": {
        "plotlyServerURL": "https://plot.ly"
       },
       "data": [
        {
         "name": "Fake - AUC: 0.9928",
         "type": "scatter",
         "x": [
          0,
          0.004685059864653826,
          0.004685059864653826,
          0.004685059864653826,
          0.004685059864653826,
          0.004685059864653826,
          0.005726184279021343,
          0.00676730869338886,
          0.008328995314940135,
          0.008849557522123894,
          0.010931806350858927,
          0.014575741801145237,
          0.01978136387298282,
          0.026028110359187923,
          0.045288912024986985,
          0.07183758459135867,
          0.09682457053617907,
          0.1353461738677772,
          0.185320145757418,
          0.25351379489849035,
          0.3581467985424258,
          0.46330036439354505,
          0.6257157730348777,
          0.8120770432066632,
          0.9213951067152525,
          0.9625195210827694,
          0.980739198334201,
          0.9890681936491411,
          0.9947943779281624,
          0.9973971889640812,
          0.9989588755856325,
          0.9989588755856325,
          0.9989588755856325,
          0.9989588755856325,
          1,
          1,
          1
         ],
         "y": [
          0,
          0.02097902097902098,
          0.14685314685314685,
          0.02097902097902098,
          0.02097902097902098,
          0.02097902097902098,
          0.36363636363636365,
          0.5384615384615384,
          0.6013986013986014,
          0.8181818181818182,
          0.9790209790209791,
          1,
          1,
          1,
          1,
          1,
          1,
          1,
          1,
          1,
          1,
          1,
          1,
          1,
          1,
          1,
          1,
          1,
          1,
          1,
          1,
          1,
          1,
          1,
          1,
          1,
          1
         ]
        },
        {
         "name": "GPT3 - AUC: 0.9997",
         "type": "scatter",
         "x": [
          0,
          0,
          0,
          0,
          0,
          0,
          0,
          0,
          0,
          0,
          0,
          0.0005205622071837585,
          0.0005205622071837585,
          0.001041124414367517,
          0.001041124414367517,
          0.001041124414367517,
          0.001041124414367517,
          0.001041124414367517,
          0.0015616866215512754,
          0.0015616866215512754,
          0.002082248828735034,
          0.0031233732431025507,
          0.0031233732431025507,
          0.0031233732431025507,
          0.004164497657470068,
          0.005726184279021343,
          0.008328995314940135,
          0.015096304008328995,
          0.01978136387298282,
          0.022904737116085372,
          0.03019260801665799,
          0.03331598125976054,
          0.0338365434669443,
          0.034877667881311816,
          0.04685059864653826,
          0.055700156168662154,
          1
         ],
         "y": [
          0,
          0.013986013986013986,
          0.013986013986013986,
          0.013986013986013986,
          0.13986013986013987,
          0.35664335664335667,
          0.5314685314685315,
          0.5944055944055944,
          0.8111888111888111,
          0.972027972027972,
          0.013986013986013986,
          1,
          1,
          1,
          1,
          1,
          1,
          1,
          1,
          1,
          1,
          1,
          1,
          1,
          1,
          1,
          1,
          1,
          1,
          1,
          1,
          1,
          1,
          1,
          1,
          1,
          1
         ]
        },
        {
         "name": "Falcon7B - AUC: 0.9621",
         "type": "scatter",
         "x": [
          0,
          0.004164497657470068,
          0.004164497657470068,
          0.004164497657470068,
          0.004164497657470068,
          0.004164497657470068,
          0.004164497657470068,
          0.004164497657470068,
          0.004164497657470068,
          0.0052056220718375845,
          0.006246746486205101,
          0.008849557522123894,
          0.011972930765226444,
          0.01717855283706403,
          0.03071317022384175,
          0.05101509630400833,
          0.07339927121290994,
          0.10619469026548672,
          0.1369078604893285,
          0.16970327954190526,
          0.2467464862051015,
          0.3107756376887038,
          0.385736595523165,
          0.5158771473191046,
          0.6267568974492452,
          0.7532535137948985,
          0.8250910983862572,
          0.8709005726184279,
          0.9255596043727226,
          0.9708485163977095,
          0.9875065070275898,
          0.9911504424778761,
          0.9921915668922436,
          0.9932326913066112,
          0.9953149401353462,
          0.9979177511712649,
          1
         ],
         "y": [
          0,
          0.006993006993006993,
          0.04195804195804196,
          0.03496503496503497,
          0.02097902097902098,
          0.013986013986013986,
          0.013986013986013986,
          0.013986013986013986,
          0.013986013986013986,
          0.06993006993006994,
          0.13286713286713286,
          0.18181818181818182,
          0.27972027972027974,
          0.3706293706293706,
          0.6293706293706294,
          0.7272727272727273,
          0.8601398601398601,
          0.9440559440559441,
          0.972027972027972,
          0.986013986013986,
          1,
          1,
          1,
          1,
          1,
          1,
          1,
          1,
          1,
          1,
          1,
          1,
          1,
          1,
          1,
          1,
          1
         ]
        },
        {
         "name": "EmertonMonarch7B - AUC: 0.9928",
         "type": "scatter",
         "x": [
          0,
          0.004685059864653826,
          0.004685059864653826,
          0.004685059864653826,
          0.004685059864653826,
          0.004685059864653826,
          0.005726184279021343,
          0.00676730869338886,
          0.008328995314940135,
          0.008849557522123894,
          0.010931806350858927,
          0.014575741801145237,
          0.019260801665799063,
          0.024466423737636647,
          0.041644976574700676,
          0.06611140031233732,
          0.08849557522123894,
          0.12493492972410203,
          0.16866215512753774,
          0.2358146798542426,
          0.3368037480478917,
          0.4398750650702759,
          0.5726184279021344,
          0.7381572097865695,
          0.8625715773034878,
          0.9198334200937012,
          0.9593961478396669,
          0.9750130140551796,
          0.9838625715773035,
          0.9890681936491411,
          0.9921915668922436,
          0.9937532535137948,
          0.9942738157209786,
          0.9947943779281624,
          0.9958355023425299,
          0.9963560645497137,
          1
         ],
         "y": [
          0,
          0.02097902097902098,
          0.14685314685314685,
          0.02097902097902098,
          0.02097902097902098,
          0.02097902097902098,
          0.36363636363636365,
          0.5384615384615384,
          0.6013986013986014,
          0.8181818181818182,
          0.9790209790209791,
          1,
          1,
          1,
          1,
          1,
          1,
          1,
          1,
          1,
          1,
          1,
          1,
          1,
          1,
          1,
          1,
          1,
          1,
          1,
          1,
          1,
          1,
          1,
          1,
          1,
          1
         ]
        },
        {
         "name": "BartLarge - AUC: 0.9932",
         "type": "scatter",
         "x": [
          0,
          0.004164497657470068,
          0.004164497657470068,
          0.004164497657470068,
          0.004164497657470068,
          0.004164497657470068,
          0.0052056220718375845,
          0.006246746486205101,
          0.007808433107756377,
          0.008849557522123894,
          0.010931806350858927,
          0.014575741801145237,
          0.01978136387298282,
          0.026028110359187923,
          0.04372722540343571,
          0.0676730869338886,
          0.09161894846434149,
          0.12077043206663196,
          0.15512753774076002,
          0.20510150963040083,
          0.29724102030192606,
          0.39146277980218636,
          0.5413846954711088,
          0.7376366475793857,
          0.8662155127537741,
          0.9266007287870901,
          0.9604372722540343,
          0.973971889640812,
          0.9911504424778761,
          0.9963560645497137,
          0.9989588755856325,
          0.9989588755856325,
          0.9989588755856325,
          0.9989588755856325,
          0.9989588755856325,
          0.9989588755856325,
          1
         ],
         "y": [
          0,
          0.013986013986013986,
          0.13986013986013987,
          0.013986013986013986,
          0.013986013986013986,
          0.013986013986013986,
          0.35664335664335667,
          0.5384615384615384,
          0.6013986013986014,
          0.8181818181818182,
          0.9790209790209791,
          1,
          1,
          1,
          1,
          1,
          1,
          1,
          1,
          1,
          1,
          1,
          1,
          1,
          1,
          1,
          1,
          1,
          1,
          1,
          1,
          1,
          1,
          1,
          1,
          1,
          1
         ]
        },
        {
         "name": "Cyrax7B - AUC: 0.9975",
         "type": "scatter",
         "x": [
          0,
          0.001041124414367517,
          0.001041124414367517,
          0.0015616866215512754,
          0.0015616866215512754,
          0.0015616866215512754,
          0.002082248828735034,
          0.002082248828735034,
          0.002082248828735034,
          0.0031233732431025507,
          0.004164497657470068,
          0.008849557522123894,
          0.01353461738677772,
          0.017699115044247787,
          0.03019260801665799,
          0.04737116085372202,
          0.061946902654867256,
          0.08381051535658511,
          0.10723581467985424,
          0.137948984903696,
          0.2056220718375846,
          0.25976054138469545,
          0.3461738677771994,
          0.4815200416449766,
          0.597084851639771,
          0.704841228526809,
          0.7969807391983342,
          0.8495575221238938,
          0.8990109318063508,
          0.9557522123893806,
          0.9817803227485684,
          0.9880270692347736,
          0.9901093180635085,
          0.9911504424778761,
          0.9947943779281624,
          0.9968766267568975,
          1
         ],
         "y": [
          0,
          0.02097902097902098,
          0.02097902097902098,
          0.02097902097902098,
          0.14685314685314685,
          0.02097902097902098,
          0.36363636363636365,
          0.5384615384615384,
          0.6013986013986014,
          0.8181818181818182,
          0.9790209790209791,
          1,
          1,
          1,
          1,
          1,
          1,
          1,
          1,
          1,
          1,
          1,
          1,
          1,
          1,
          1,
          1,
          1,
          1,
          1,
          1,
          1,
          1,
          1,
          1,
          1,
          1
         ]
        },
        {
         "line": {
          "color": "lightgray"
         },
         "name": "Baseline",
         "type": "scatter",
         "x": [
          0,
          1
         ],
         "y": [
          0,
          1
         ]
        }
       ],
       "layout": {
        "height": 400,
        "template": {
         "data": {
          "bar": [
           {
            "error_x": {
             "color": "#2a3f5f"
            },
            "error_y": {
             "color": "#2a3f5f"
            },
            "marker": {
             "line": {
              "color": "#E5ECF6",
              "width": 0.5
             },
             "pattern": {
              "fillmode": "overlay",
              "size": 10,
              "solidity": 0.2
             }
            },
            "type": "bar"
           }
          ],
          "barpolar": [
           {
            "marker": {
             "line": {
              "color": "#E5ECF6",
              "width": 0.5
             },
             "pattern": {
              "fillmode": "overlay",
              "size": 10,
              "solidity": 0.2
             }
            },
            "type": "barpolar"
           }
          ],
          "carpet": [
           {
            "aaxis": {
             "endlinecolor": "#2a3f5f",
             "gridcolor": "white",
             "linecolor": "white",
             "minorgridcolor": "white",
             "startlinecolor": "#2a3f5f"
            },
            "baxis": {
             "endlinecolor": "#2a3f5f",
             "gridcolor": "white",
             "linecolor": "white",
             "minorgridcolor": "white",
             "startlinecolor": "#2a3f5f"
            },
            "type": "carpet"
           }
          ],
          "choropleth": [
           {
            "colorbar": {
             "outlinewidth": 0,
             "ticks": ""
            },
            "type": "choropleth"
           }
          ],
          "contour": [
           {
            "colorbar": {
             "outlinewidth": 0,
             "ticks": ""
            },
            "colorscale": [
             [
              0,
              "#0d0887"
             ],
             [
              0.1111111111111111,
              "#46039f"
             ],
             [
              0.2222222222222222,
              "#7201a8"
             ],
             [
              0.3333333333333333,
              "#9c179e"
             ],
             [
              0.4444444444444444,
              "#bd3786"
             ],
             [
              0.5555555555555556,
              "#d8576b"
             ],
             [
              0.6666666666666666,
              "#ed7953"
             ],
             [
              0.7777777777777778,
              "#fb9f3a"
             ],
             [
              0.8888888888888888,
              "#fdca26"
             ],
             [
              1,
              "#f0f921"
             ]
            ],
            "type": "contour"
           }
          ],
          "contourcarpet": [
           {
            "colorbar": {
             "outlinewidth": 0,
             "ticks": ""
            },
            "type": "contourcarpet"
           }
          ],
          "heatmap": [
           {
            "colorbar": {
             "outlinewidth": 0,
             "ticks": ""
            },
            "colorscale": [
             [
              0,
              "#0d0887"
             ],
             [
              0.1111111111111111,
              "#46039f"
             ],
             [
              0.2222222222222222,
              "#7201a8"
             ],
             [
              0.3333333333333333,
              "#9c179e"
             ],
             [
              0.4444444444444444,
              "#bd3786"
             ],
             [
              0.5555555555555556,
              "#d8576b"
             ],
             [
              0.6666666666666666,
              "#ed7953"
             ],
             [
              0.7777777777777778,
              "#fb9f3a"
             ],
             [
              0.8888888888888888,
              "#fdca26"
             ],
             [
              1,
              "#f0f921"
             ]
            ],
            "type": "heatmap"
           }
          ],
          "heatmapgl": [
           {
            "colorbar": {
             "outlinewidth": 0,
             "ticks": ""
            },
            "colorscale": [
             [
              0,
              "#0d0887"
             ],
             [
              0.1111111111111111,
              "#46039f"
             ],
             [
              0.2222222222222222,
              "#7201a8"
             ],
             [
              0.3333333333333333,
              "#9c179e"
             ],
             [
              0.4444444444444444,
              "#bd3786"
             ],
             [
              0.5555555555555556,
              "#d8576b"
             ],
             [
              0.6666666666666666,
              "#ed7953"
             ],
             [
              0.7777777777777778,
              "#fb9f3a"
             ],
             [
              0.8888888888888888,
              "#fdca26"
             ],
             [
              1,
              "#f0f921"
             ]
            ],
            "type": "heatmapgl"
           }
          ],
          "histogram": [
           {
            "marker": {
             "pattern": {
              "fillmode": "overlay",
              "size": 10,
              "solidity": 0.2
             }
            },
            "type": "histogram"
           }
          ],
          "histogram2d": [
           {
            "colorbar": {
             "outlinewidth": 0,
             "ticks": ""
            },
            "colorscale": [
             [
              0,
              "#0d0887"
             ],
             [
              0.1111111111111111,
              "#46039f"
             ],
             [
              0.2222222222222222,
              "#7201a8"
             ],
             [
              0.3333333333333333,
              "#9c179e"
             ],
             [
              0.4444444444444444,
              "#bd3786"
             ],
             [
              0.5555555555555556,
              "#d8576b"
             ],
             [
              0.6666666666666666,
              "#ed7953"
             ],
             [
              0.7777777777777778,
              "#fb9f3a"
             ],
             [
              0.8888888888888888,
              "#fdca26"
             ],
             [
              1,
              "#f0f921"
             ]
            ],
            "type": "histogram2d"
           }
          ],
          "histogram2dcontour": [
           {
            "colorbar": {
             "outlinewidth": 0,
             "ticks": ""
            },
            "colorscale": [
             [
              0,
              "#0d0887"
             ],
             [
              0.1111111111111111,
              "#46039f"
             ],
             [
              0.2222222222222222,
              "#7201a8"
             ],
             [
              0.3333333333333333,
              "#9c179e"
             ],
             [
              0.4444444444444444,
              "#bd3786"
             ],
             [
              0.5555555555555556,
              "#d8576b"
             ],
             [
              0.6666666666666666,
              "#ed7953"
             ],
             [
              0.7777777777777778,
              "#fb9f3a"
             ],
             [
              0.8888888888888888,
              "#fdca26"
             ],
             [
              1,
              "#f0f921"
             ]
            ],
            "type": "histogram2dcontour"
           }
          ],
          "mesh3d": [
           {
            "colorbar": {
             "outlinewidth": 0,
             "ticks": ""
            },
            "type": "mesh3d"
           }
          ],
          "parcoords": [
           {
            "line": {
             "colorbar": {
              "outlinewidth": 0,
              "ticks": ""
             }
            },
            "type": "parcoords"
           }
          ],
          "pie": [
           {
            "automargin": true,
            "type": "pie"
           }
          ],
          "scatter": [
           {
            "fillpattern": {
             "fillmode": "overlay",
             "size": 10,
             "solidity": 0.2
            },
            "type": "scatter"
           }
          ],
          "scatter3d": [
           {
            "line": {
             "colorbar": {
              "outlinewidth": 0,
              "ticks": ""
             }
            },
            "marker": {
             "colorbar": {
              "outlinewidth": 0,
              "ticks": ""
             }
            },
            "type": "scatter3d"
           }
          ],
          "scattercarpet": [
           {
            "marker": {
             "colorbar": {
              "outlinewidth": 0,
              "ticks": ""
             }
            },
            "type": "scattercarpet"
           }
          ],
          "scattergeo": [
           {
            "marker": {
             "colorbar": {
              "outlinewidth": 0,
              "ticks": ""
             }
            },
            "type": "scattergeo"
           }
          ],
          "scattergl": [
           {
            "marker": {
             "colorbar": {
              "outlinewidth": 0,
              "ticks": ""
             }
            },
            "type": "scattergl"
           }
          ],
          "scattermapbox": [
           {
            "marker": {
             "colorbar": {
              "outlinewidth": 0,
              "ticks": ""
             }
            },
            "type": "scattermapbox"
           }
          ],
          "scatterpolar": [
           {
            "marker": {
             "colorbar": {
              "outlinewidth": 0,
              "ticks": ""
             }
            },
            "type": "scatterpolar"
           }
          ],
          "scatterpolargl": [
           {
            "marker": {
             "colorbar": {
              "outlinewidth": 0,
              "ticks": ""
             }
            },
            "type": "scatterpolargl"
           }
          ],
          "scatterternary": [
           {
            "marker": {
             "colorbar": {
              "outlinewidth": 0,
              "ticks": ""
             }
            },
            "type": "scatterternary"
           }
          ],
          "surface": [
           {
            "colorbar": {
             "outlinewidth": 0,
             "ticks": ""
            },
            "colorscale": [
             [
              0,
              "#0d0887"
             ],
             [
              0.1111111111111111,
              "#46039f"
             ],
             [
              0.2222222222222222,
              "#7201a8"
             ],
             [
              0.3333333333333333,
              "#9c179e"
             ],
             [
              0.4444444444444444,
              "#bd3786"
             ],
             [
              0.5555555555555556,
              "#d8576b"
             ],
             [
              0.6666666666666666,
              "#ed7953"
             ],
             [
              0.7777777777777778,
              "#fb9f3a"
             ],
             [
              0.8888888888888888,
              "#fdca26"
             ],
             [
              1,
              "#f0f921"
             ]
            ],
            "type": "surface"
           }
          ],
          "table": [
           {
            "cells": {
             "fill": {
              "color": "#EBF0F8"
             },
             "line": {
              "color": "white"
             }
            },
            "header": {
             "fill": {
              "color": "#C8D4E3"
             },
             "line": {
              "color": "white"
             }
            },
            "type": "table"
           }
          ]
         },
         "layout": {
          "annotationdefaults": {
           "arrowcolor": "#2a3f5f",
           "arrowhead": 0,
           "arrowwidth": 1
          },
          "autotypenumbers": "strict",
          "coloraxis": {
           "colorbar": {
            "outlinewidth": 0,
            "ticks": ""
           }
          },
          "colorscale": {
           "diverging": [
            [
             0,
             "#8e0152"
            ],
            [
             0.1,
             "#c51b7d"
            ],
            [
             0.2,
             "#de77ae"
            ],
            [
             0.3,
             "#f1b6da"
            ],
            [
             0.4,
             "#fde0ef"
            ],
            [
             0.5,
             "#f7f7f7"
            ],
            [
             0.6,
             "#e6f5d0"
            ],
            [
             0.7,
             "#b8e186"
            ],
            [
             0.8,
             "#7fbc41"
            ],
            [
             0.9,
             "#4d9221"
            ],
            [
             1,
             "#276419"
            ]
           ],
           "sequential": [
            [
             0,
             "#0d0887"
            ],
            [
             0.1111111111111111,
             "#46039f"
            ],
            [
             0.2222222222222222,
             "#7201a8"
            ],
            [
             0.3333333333333333,
             "#9c179e"
            ],
            [
             0.4444444444444444,
             "#bd3786"
            ],
            [
             0.5555555555555556,
             "#d8576b"
            ],
            [
             0.6666666666666666,
             "#ed7953"
            ],
            [
             0.7777777777777778,
             "#fb9f3a"
            ],
            [
             0.8888888888888888,
             "#fdca26"
            ],
            [
             1,
             "#f0f921"
            ]
           ],
           "sequentialminus": [
            [
             0,
             "#0d0887"
            ],
            [
             0.1111111111111111,
             "#46039f"
            ],
            [
             0.2222222222222222,
             "#7201a8"
            ],
            [
             0.3333333333333333,
             "#9c179e"
            ],
            [
             0.4444444444444444,
             "#bd3786"
            ],
            [
             0.5555555555555556,
             "#d8576b"
            ],
            [
             0.6666666666666666,
             "#ed7953"
            ],
            [
             0.7777777777777778,
             "#fb9f3a"
            ],
            [
             0.8888888888888888,
             "#fdca26"
            ],
            [
             1,
             "#f0f921"
            ]
           ]
          },
          "colorway": [
           "#636efa",
           "#EF553B",
           "#00cc96",
           "#ab63fa",
           "#FFA15A",
           "#19d3f3",
           "#FF6692",
           "#B6E880",
           "#FF97FF",
           "#FECB52"
          ],
          "font": {
           "color": "#2a3f5f"
          },
          "geo": {
           "bgcolor": "white",
           "lakecolor": "white",
           "landcolor": "#E5ECF6",
           "showlakes": true,
           "showland": true,
           "subunitcolor": "white"
          },
          "hoverlabel": {
           "align": "left"
          },
          "hovermode": "closest",
          "mapbox": {
           "style": "light"
          },
          "paper_bgcolor": "white",
          "plot_bgcolor": "#E5ECF6",
          "polar": {
           "angularaxis": {
            "gridcolor": "white",
            "linecolor": "white",
            "ticks": ""
           },
           "bgcolor": "#E5ECF6",
           "radialaxis": {
            "gridcolor": "white",
            "linecolor": "white",
            "ticks": ""
           }
          },
          "scene": {
           "xaxis": {
            "backgroundcolor": "#E5ECF6",
            "gridcolor": "white",
            "gridwidth": 2,
            "linecolor": "white",
            "showbackground": true,
            "ticks": "",
            "zerolinecolor": "white"
           },
           "yaxis": {
            "backgroundcolor": "#E5ECF6",
            "gridcolor": "white",
            "gridwidth": 2,
            "linecolor": "white",
            "showbackground": true,
            "ticks": "",
            "zerolinecolor": "white"
           },
           "zaxis": {
            "backgroundcolor": "#E5ECF6",
            "gridcolor": "white",
            "gridwidth": 2,
            "linecolor": "white",
            "showbackground": true,
            "ticks": "",
            "zerolinecolor": "white"
           }
          },
          "shapedefaults": {
           "line": {
            "color": "#2a3f5f"
           }
          },
          "ternary": {
           "aaxis": {
            "gridcolor": "white",
            "linecolor": "white",
            "ticks": ""
           },
           "baxis": {
            "gridcolor": "white",
            "linecolor": "white",
            "ticks": ""
           },
           "bgcolor": "#E5ECF6",
           "caxis": {
            "gridcolor": "white",
            "linecolor": "white",
            "ticks": ""
           }
          },
          "title": {
           "x": 0.05
          },
          "xaxis": {
           "automargin": true,
           "gridcolor": "white",
           "linecolor": "white",
           "ticks": "",
           "title": {
            "standoff": 15
           },
           "zerolinecolor": "white",
           "zerolinewidth": 2
          },
          "yaxis": {
           "automargin": true,
           "gridcolor": "white",
           "linecolor": "white",
           "ticks": "",
           "title": {
            "standoff": 15
           },
           "zerolinecolor": "white",
           "zerolinewidth": 2
          }
         }
        },
        "title": {
         "text": "ROC Curve - buffer-io - Criteria: 2"
        },
        "width": 580,
        "xaxis": {
         "range": [
          0,
          1
         ],
         "title": {
          "text": "False Positive Rate"
         }
        },
        "yaxis": {
         "range": [
          0,
          1
         ],
         "scaleanchor": "x",
         "scaleratio": 1,
         "title": {
          "text": "True Positive Rate"
         }
        }
       }
      }
     },
     "metadata": {},
     "output_type": "display_data"
    }
   ],
   "source": [
    "dataset = \"buffer-io\"\n",
    "generateROCForCriteria(dataset, 1, inference_providers )\n",
    "generateROCForCriteria(dataset, 2, inference_providers )"
   ]
  },
  {
   "cell_type": "code",
   "execution_count": 109,
   "metadata": {},
   "outputs": [
    {
     "data": {
      "application/vnd.plotly.v1+json": {
       "config": {
        "plotlyServerURL": "https://plot.ly"
       },
       "data": [
        {
         "name": "Fake - AUC: 0.9036",
         "type": "scatter",
         "x": [
          0,
          0,
          0,
          0,
          0,
          0,
          0.0037243947858473,
          0.0037243947858473,
          0.00558659217877095,
          0.020484171322160148,
          0.0335195530726257,
          0.06890130353817504,
          0.0893854748603352,
          0.2942271880819367,
          0.35940409683426444,
          0.3817504655493482,
          0.4264432029795158,
          0.43947858472998136,
          0.5847299813780261,
          0.6554934823091247,
          0.6908752327746741,
          0.7467411545623837,
          0.9757914338919925,
          1,
          1,
          1,
          1,
          1,
          1,
          1,
          1,
          1,
          1,
          1,
          1,
          1,
          1
         ],
         "y": [
          0,
          0,
          0.022058823529411766,
          0,
          0,
          0.007352941176470588,
          0.04411764705882353,
          0.051470588235294115,
          0.058823529411764705,
          0.2647058823529412,
          0.36764705882352944,
          0.5514705882352942,
          0.7426470588235294,
          0.875,
          1,
          1,
          1,
          1,
          1,
          1,
          1,
          1,
          1,
          1,
          1,
          1,
          1,
          1,
          1,
          1,
          1,
          1,
          1,
          1,
          1,
          1,
          1
         ]
        },
        {
         "name": "GPT3 - AUC: 0.9999",
         "type": "scatter",
         "x": [
          0,
          0,
          0,
          0,
          0,
          0,
          0,
          0,
          0,
          0,
          0,
          0,
          0,
          0,
          0,
          0,
          0,
          0,
          0,
          0,
          0.00186219739292365,
          0.00186219739292365,
          0.0037243947858473,
          0.00558659217877095,
          0.00558659217877095,
          0.0074487895716946,
          0.00931098696461825,
          0.00931098696461825,
          0.00931098696461825,
          0.00931098696461825,
          0.0111731843575419,
          0.0111731843575419,
          0.01303538175046555,
          0.0186219739292365,
          0.0223463687150838,
          0.148975791433892,
          1
         ],
         "y": [
          0,
          0,
          1,
          1,
          0.9779411764705882,
          0.9632352941176471,
          0.9191176470588235,
          0.7205882352941176,
          0.5808823529411765,
          0,
          0.49264705882352944,
          0.23529411764705882,
          0.03676470588235294,
          0.029411764705882353,
          0.022058823529411766,
          0,
          0,
          0,
          0.33088235294117646,
          1,
          1,
          1,
          1,
          1,
          1,
          1,
          1,
          1,
          1,
          1,
          1,
          1,
          1,
          1,
          1,
          1,
          1
         ]
        },
        {
         "name": "Falcon7B - AUC: 0.9657",
         "type": "scatter",
         "x": [
          0,
          0,
          0,
          0,
          0,
          0,
          0.00186219739292365,
          0.00186219739292365,
          0.00186219739292365,
          0.0148975791433892,
          0.0260707635009311,
          0.037243947858473,
          0.0446927374301676,
          0.055865921787709494,
          0.06890130353817504,
          0.1527001862197393,
          0.15828677839851024,
          0.2048417132216015,
          0.22346368715083798,
          0.22905027932960895,
          0.24394785847299813,
          0.48789571694599626,
          0.7467411545623837,
          0.750465549348231,
          0.7541899441340782,
          0.7541899441340782,
          0.7541899441340782,
          0.7560521415270018,
          0.9981378026070763,
          1,
          1,
          1,
          1,
          1,
          1,
          1,
          1
         ],
         "y": [
          0,
          0,
          0.022058823529411766,
          0,
          0,
          0.007352941176470588,
          0.04411764705882353,
          0.051470588235294115,
          0.058823529411764705,
          0.2647058823529412,
          0.36764705882352944,
          0.5514705882352942,
          0.7279411764705882,
          0.8161764705882353,
          0.9779411764705882,
          0.9926470588235294,
          1,
          1,
          1,
          1,
          1,
          1,
          1,
          1,
          1,
          1,
          1,
          1,
          1,
          1,
          1,
          1,
          1,
          1,
          1,
          1,
          1
         ]
        },
        {
         "name": "EmertonMonarch7B - AUC: 0.9096",
         "type": "scatter",
         "x": [
          0,
          0,
          0,
          0,
          0,
          0,
          0.0037243947858473,
          0.0037243947858473,
          0.00558659217877095,
          0.0186219739292365,
          0.03165735567970205,
          0.0633147113594041,
          0.074487895716946,
          0.2774674115456238,
          0.3463687150837989,
          0.37243947858473,
          0.4208566108007449,
          0.43575418994413406,
          0.5828677839851024,
          0.6536312849162011,
          0.6890130353817505,
          0.7467411545623837,
          0.7653631284916201,
          0.9888268156424581,
          0.9981378026070763,
          0.9981378026070763,
          1,
          1,
          1,
          1,
          1,
          1,
          1,
          1,
          1,
          1,
          1
         ],
         "y": [
          0,
          0,
          0.022058823529411766,
          0,
          0,
          0.007352941176470588,
          0.04411764705882353,
          0.051470588235294115,
          0.058823529411764705,
          0.2647058823529412,
          0.36764705882352944,
          0.5441176470588235,
          0.7352941176470589,
          0.875,
          1,
          1,
          1,
          1,
          1,
          1,
          1,
          1,
          1,
          1,
          1,
          1,
          1,
          1,
          1,
          1,
          1,
          1,
          1,
          1,
          1,
          1,
          1
         ]
        },
        {
         "name": "BartLarge - AUC: 0.8366",
         "type": "scatter",
         "x": [
          0,
          0,
          0,
          0,
          0,
          0,
          0,
          0,
          0.00186219739292365,
          0.0037243947858473,
          0.0148975791433892,
          0.03165735567970205,
          0.04283054003724395,
          0.2532588454376164,
          0.3407821229050279,
          0.36685288640595903,
          0.41527001862197394,
          0.4245810055865922,
          0.5661080074487895,
          0.638733705772812,
          0.6778398510242085,
          0.7337057728119181,
          0.9739292364990689,
          0.9962756052141527,
          0.9981378026070763,
          1,
          1,
          1,
          1,
          1,
          1,
          1,
          1,
          1,
          1,
          1,
          1
         ],
         "y": [
          0,
          0,
          0.029411764705882353,
          0.022058823529411766,
          0,
          0,
          0,
          0,
          0.03676470588235294,
          0.07352941176470588,
          0.10294117647058823,
          0.19852941176470587,
          0.39705882352941174,
          0.625,
          0.9191176470588235,
          0.9558823529411765,
          0.9779411764705882,
          0.9926470588235294,
          0.9926470588235294,
          1,
          1,
          1,
          1,
          1,
          1,
          1,
          1,
          1,
          1,
          1,
          1,
          1,
          1,
          1,
          1,
          1,
          1
         ]
        },
        {
         "name": "Cyrax7B - AUC: 0.9745",
         "type": "scatter",
         "x": [
          0,
          0,
          0,
          0,
          0,
          0,
          0.0037243947858473,
          0.0037243947858473,
          0.0037243947858473,
          0.01675977653631285,
          0.020484171322160148,
          0.0223463687150838,
          0.0297951582867784,
          0.03910614525139665,
          0.03910614525139665,
          0.04655493482309125,
          0.054003724394785846,
          0.06890130353817504,
          0.10614525139664804,
          0.1303538175046555,
          0.1340782122905028,
          0.3891992551210428,
          0.664804469273743,
          0.6983240223463687,
          0.9404096834264432,
          0.9404096834264432,
          0.9422718808193669,
          0.9422718808193669,
          0.9553072625698324,
          0.9981378026070763,
          0.9981378026070763,
          0.9981378026070763,
          0.9981378026070763,
          0.9981378026070763,
          0.9981378026070763,
          0.9981378026070763,
          1
         ],
         "y": [
          0,
          0,
          0.022058823529411766,
          0,
          0,
          0.007352941176470588,
          0.04411764705882353,
          0.051470588235294115,
          0.058823529411764705,
          0.25735294117647056,
          0.35294117647058826,
          0.5073529411764706,
          0.5955882352941176,
          0.7426470588235294,
          0.9191176470588235,
          0.9632352941176471,
          0.9779411764705882,
          1,
          1,
          1,
          1,
          1,
          1,
          1,
          1,
          1,
          1,
          1,
          1,
          1,
          1,
          1,
          1,
          1,
          1,
          1,
          1
         ]
        },
        {
         "line": {
          "color": "lightgray"
         },
         "name": "Baseline",
         "type": "scatter",
         "x": [
          0,
          1
         ],
         "y": [
          0,
          1
         ]
        }
       ],
       "layout": {
        "height": 400,
        "template": {
         "data": {
          "bar": [
           {
            "error_x": {
             "color": "#2a3f5f"
            },
            "error_y": {
             "color": "#2a3f5f"
            },
            "marker": {
             "line": {
              "color": "#E5ECF6",
              "width": 0.5
             },
             "pattern": {
              "fillmode": "overlay",
              "size": 10,
              "solidity": 0.2
             }
            },
            "type": "bar"
           }
          ],
          "barpolar": [
           {
            "marker": {
             "line": {
              "color": "#E5ECF6",
              "width": 0.5
             },
             "pattern": {
              "fillmode": "overlay",
              "size": 10,
              "solidity": 0.2
             }
            },
            "type": "barpolar"
           }
          ],
          "carpet": [
           {
            "aaxis": {
             "endlinecolor": "#2a3f5f",
             "gridcolor": "white",
             "linecolor": "white",
             "minorgridcolor": "white",
             "startlinecolor": "#2a3f5f"
            },
            "baxis": {
             "endlinecolor": "#2a3f5f",
             "gridcolor": "white",
             "linecolor": "white",
             "minorgridcolor": "white",
             "startlinecolor": "#2a3f5f"
            },
            "type": "carpet"
           }
          ],
          "choropleth": [
           {
            "colorbar": {
             "outlinewidth": 0,
             "ticks": ""
            },
            "type": "choropleth"
           }
          ],
          "contour": [
           {
            "colorbar": {
             "outlinewidth": 0,
             "ticks": ""
            },
            "colorscale": [
             [
              0,
              "#0d0887"
             ],
             [
              0.1111111111111111,
              "#46039f"
             ],
             [
              0.2222222222222222,
              "#7201a8"
             ],
             [
              0.3333333333333333,
              "#9c179e"
             ],
             [
              0.4444444444444444,
              "#bd3786"
             ],
             [
              0.5555555555555556,
              "#d8576b"
             ],
             [
              0.6666666666666666,
              "#ed7953"
             ],
             [
              0.7777777777777778,
              "#fb9f3a"
             ],
             [
              0.8888888888888888,
              "#fdca26"
             ],
             [
              1,
              "#f0f921"
             ]
            ],
            "type": "contour"
           }
          ],
          "contourcarpet": [
           {
            "colorbar": {
             "outlinewidth": 0,
             "ticks": ""
            },
            "type": "contourcarpet"
           }
          ],
          "heatmap": [
           {
            "colorbar": {
             "outlinewidth": 0,
             "ticks": ""
            },
            "colorscale": [
             [
              0,
              "#0d0887"
             ],
             [
              0.1111111111111111,
              "#46039f"
             ],
             [
              0.2222222222222222,
              "#7201a8"
             ],
             [
              0.3333333333333333,
              "#9c179e"
             ],
             [
              0.4444444444444444,
              "#bd3786"
             ],
             [
              0.5555555555555556,
              "#d8576b"
             ],
             [
              0.6666666666666666,
              "#ed7953"
             ],
             [
              0.7777777777777778,
              "#fb9f3a"
             ],
             [
              0.8888888888888888,
              "#fdca26"
             ],
             [
              1,
              "#f0f921"
             ]
            ],
            "type": "heatmap"
           }
          ],
          "heatmapgl": [
           {
            "colorbar": {
             "outlinewidth": 0,
             "ticks": ""
            },
            "colorscale": [
             [
              0,
              "#0d0887"
             ],
             [
              0.1111111111111111,
              "#46039f"
             ],
             [
              0.2222222222222222,
              "#7201a8"
             ],
             [
              0.3333333333333333,
              "#9c179e"
             ],
             [
              0.4444444444444444,
              "#bd3786"
             ],
             [
              0.5555555555555556,
              "#d8576b"
             ],
             [
              0.6666666666666666,
              "#ed7953"
             ],
             [
              0.7777777777777778,
              "#fb9f3a"
             ],
             [
              0.8888888888888888,
              "#fdca26"
             ],
             [
              1,
              "#f0f921"
             ]
            ],
            "type": "heatmapgl"
           }
          ],
          "histogram": [
           {
            "marker": {
             "pattern": {
              "fillmode": "overlay",
              "size": 10,
              "solidity": 0.2
             }
            },
            "type": "histogram"
           }
          ],
          "histogram2d": [
           {
            "colorbar": {
             "outlinewidth": 0,
             "ticks": ""
            },
            "colorscale": [
             [
              0,
              "#0d0887"
             ],
             [
              0.1111111111111111,
              "#46039f"
             ],
             [
              0.2222222222222222,
              "#7201a8"
             ],
             [
              0.3333333333333333,
              "#9c179e"
             ],
             [
              0.4444444444444444,
              "#bd3786"
             ],
             [
              0.5555555555555556,
              "#d8576b"
             ],
             [
              0.6666666666666666,
              "#ed7953"
             ],
             [
              0.7777777777777778,
              "#fb9f3a"
             ],
             [
              0.8888888888888888,
              "#fdca26"
             ],
             [
              1,
              "#f0f921"
             ]
            ],
            "type": "histogram2d"
           }
          ],
          "histogram2dcontour": [
           {
            "colorbar": {
             "outlinewidth": 0,
             "ticks": ""
            },
            "colorscale": [
             [
              0,
              "#0d0887"
             ],
             [
              0.1111111111111111,
              "#46039f"
             ],
             [
              0.2222222222222222,
              "#7201a8"
             ],
             [
              0.3333333333333333,
              "#9c179e"
             ],
             [
              0.4444444444444444,
              "#bd3786"
             ],
             [
              0.5555555555555556,
              "#d8576b"
             ],
             [
              0.6666666666666666,
              "#ed7953"
             ],
             [
              0.7777777777777778,
              "#fb9f3a"
             ],
             [
              0.8888888888888888,
              "#fdca26"
             ],
             [
              1,
              "#f0f921"
             ]
            ],
            "type": "histogram2dcontour"
           }
          ],
          "mesh3d": [
           {
            "colorbar": {
             "outlinewidth": 0,
             "ticks": ""
            },
            "type": "mesh3d"
           }
          ],
          "parcoords": [
           {
            "line": {
             "colorbar": {
              "outlinewidth": 0,
              "ticks": ""
             }
            },
            "type": "parcoords"
           }
          ],
          "pie": [
           {
            "automargin": true,
            "type": "pie"
           }
          ],
          "scatter": [
           {
            "fillpattern": {
             "fillmode": "overlay",
             "size": 10,
             "solidity": 0.2
            },
            "type": "scatter"
           }
          ],
          "scatter3d": [
           {
            "line": {
             "colorbar": {
              "outlinewidth": 0,
              "ticks": ""
             }
            },
            "marker": {
             "colorbar": {
              "outlinewidth": 0,
              "ticks": ""
             }
            },
            "type": "scatter3d"
           }
          ],
          "scattercarpet": [
           {
            "marker": {
             "colorbar": {
              "outlinewidth": 0,
              "ticks": ""
             }
            },
            "type": "scattercarpet"
           }
          ],
          "scattergeo": [
           {
            "marker": {
             "colorbar": {
              "outlinewidth": 0,
              "ticks": ""
             }
            },
            "type": "scattergeo"
           }
          ],
          "scattergl": [
           {
            "marker": {
             "colorbar": {
              "outlinewidth": 0,
              "ticks": ""
             }
            },
            "type": "scattergl"
           }
          ],
          "scattermapbox": [
           {
            "marker": {
             "colorbar": {
              "outlinewidth": 0,
              "ticks": ""
             }
            },
            "type": "scattermapbox"
           }
          ],
          "scatterpolar": [
           {
            "marker": {
             "colorbar": {
              "outlinewidth": 0,
              "ticks": ""
             }
            },
            "type": "scatterpolar"
           }
          ],
          "scatterpolargl": [
           {
            "marker": {
             "colorbar": {
              "outlinewidth": 0,
              "ticks": ""
             }
            },
            "type": "scatterpolargl"
           }
          ],
          "scatterternary": [
           {
            "marker": {
             "colorbar": {
              "outlinewidth": 0,
              "ticks": ""
             }
            },
            "type": "scatterternary"
           }
          ],
          "surface": [
           {
            "colorbar": {
             "outlinewidth": 0,
             "ticks": ""
            },
            "colorscale": [
             [
              0,
              "#0d0887"
             ],
             [
              0.1111111111111111,
              "#46039f"
             ],
             [
              0.2222222222222222,
              "#7201a8"
             ],
             [
              0.3333333333333333,
              "#9c179e"
             ],
             [
              0.4444444444444444,
              "#bd3786"
             ],
             [
              0.5555555555555556,
              "#d8576b"
             ],
             [
              0.6666666666666666,
              "#ed7953"
             ],
             [
              0.7777777777777778,
              "#fb9f3a"
             ],
             [
              0.8888888888888888,
              "#fdca26"
             ],
             [
              1,
              "#f0f921"
             ]
            ],
            "type": "surface"
           }
          ],
          "table": [
           {
            "cells": {
             "fill": {
              "color": "#EBF0F8"
             },
             "line": {
              "color": "white"
             }
            },
            "header": {
             "fill": {
              "color": "#C8D4E3"
             },
             "line": {
              "color": "white"
             }
            },
            "type": "table"
           }
          ]
         },
         "layout": {
          "annotationdefaults": {
           "arrowcolor": "#2a3f5f",
           "arrowhead": 0,
           "arrowwidth": 1
          },
          "autotypenumbers": "strict",
          "coloraxis": {
           "colorbar": {
            "outlinewidth": 0,
            "ticks": ""
           }
          },
          "colorscale": {
           "diverging": [
            [
             0,
             "#8e0152"
            ],
            [
             0.1,
             "#c51b7d"
            ],
            [
             0.2,
             "#de77ae"
            ],
            [
             0.3,
             "#f1b6da"
            ],
            [
             0.4,
             "#fde0ef"
            ],
            [
             0.5,
             "#f7f7f7"
            ],
            [
             0.6,
             "#e6f5d0"
            ],
            [
             0.7,
             "#b8e186"
            ],
            [
             0.8,
             "#7fbc41"
            ],
            [
             0.9,
             "#4d9221"
            ],
            [
             1,
             "#276419"
            ]
           ],
           "sequential": [
            [
             0,
             "#0d0887"
            ],
            [
             0.1111111111111111,
             "#46039f"
            ],
            [
             0.2222222222222222,
             "#7201a8"
            ],
            [
             0.3333333333333333,
             "#9c179e"
            ],
            [
             0.4444444444444444,
             "#bd3786"
            ],
            [
             0.5555555555555556,
             "#d8576b"
            ],
            [
             0.6666666666666666,
             "#ed7953"
            ],
            [
             0.7777777777777778,
             "#fb9f3a"
            ],
            [
             0.8888888888888888,
             "#fdca26"
            ],
            [
             1,
             "#f0f921"
            ]
           ],
           "sequentialminus": [
            [
             0,
             "#0d0887"
            ],
            [
             0.1111111111111111,
             "#46039f"
            ],
            [
             0.2222222222222222,
             "#7201a8"
            ],
            [
             0.3333333333333333,
             "#9c179e"
            ],
            [
             0.4444444444444444,
             "#bd3786"
            ],
            [
             0.5555555555555556,
             "#d8576b"
            ],
            [
             0.6666666666666666,
             "#ed7953"
            ],
            [
             0.7777777777777778,
             "#fb9f3a"
            ],
            [
             0.8888888888888888,
             "#fdca26"
            ],
            [
             1,
             "#f0f921"
            ]
           ]
          },
          "colorway": [
           "#636efa",
           "#EF553B",
           "#00cc96",
           "#ab63fa",
           "#FFA15A",
           "#19d3f3",
           "#FF6692",
           "#B6E880",
           "#FF97FF",
           "#FECB52"
          ],
          "font": {
           "color": "#2a3f5f"
          },
          "geo": {
           "bgcolor": "white",
           "lakecolor": "white",
           "landcolor": "#E5ECF6",
           "showlakes": true,
           "showland": true,
           "subunitcolor": "white"
          },
          "hoverlabel": {
           "align": "left"
          },
          "hovermode": "closest",
          "mapbox": {
           "style": "light"
          },
          "paper_bgcolor": "white",
          "plot_bgcolor": "#E5ECF6",
          "polar": {
           "angularaxis": {
            "gridcolor": "white",
            "linecolor": "white",
            "ticks": ""
           },
           "bgcolor": "#E5ECF6",
           "radialaxis": {
            "gridcolor": "white",
            "linecolor": "white",
            "ticks": ""
           }
          },
          "scene": {
           "xaxis": {
            "backgroundcolor": "#E5ECF6",
            "gridcolor": "white",
            "gridwidth": 2,
            "linecolor": "white",
            "showbackground": true,
            "ticks": "",
            "zerolinecolor": "white"
           },
           "yaxis": {
            "backgroundcolor": "#E5ECF6",
            "gridcolor": "white",
            "gridwidth": 2,
            "linecolor": "white",
            "showbackground": true,
            "ticks": "",
            "zerolinecolor": "white"
           },
           "zaxis": {
            "backgroundcolor": "#E5ECF6",
            "gridcolor": "white",
            "gridwidth": 2,
            "linecolor": "white",
            "showbackground": true,
            "ticks": "",
            "zerolinecolor": "white"
           }
          },
          "shapedefaults": {
           "line": {
            "color": "#2a3f5f"
           }
          },
          "ternary": {
           "aaxis": {
            "gridcolor": "white",
            "linecolor": "white",
            "ticks": ""
           },
           "baxis": {
            "gridcolor": "white",
            "linecolor": "white",
            "ticks": ""
           },
           "bgcolor": "#E5ECF6",
           "caxis": {
            "gridcolor": "white",
            "linecolor": "white",
            "ticks": ""
           }
          },
          "title": {
           "x": 0.05
          },
          "xaxis": {
           "automargin": true,
           "gridcolor": "white",
           "linecolor": "white",
           "ticks": "",
           "title": {
            "standoff": 15
           },
           "zerolinecolor": "white",
           "zerolinewidth": 2
          },
          "yaxis": {
           "automargin": true,
           "gridcolor": "white",
           "linecolor": "white",
           "ticks": "",
           "title": {
            "standoff": 15
           },
           "zerolinecolor": "white",
           "zerolinewidth": 2
          }
         }
        },
        "title": {
         "text": "ROC Curve - oom - Criteria: 1"
        },
        "width": 580,
        "xaxis": {
         "range": [
          0,
          1
         ],
         "title": {
          "text": "False Positive Rate"
         }
        },
        "yaxis": {
         "range": [
          0,
          1
         ],
         "scaleanchor": "x",
         "scaleratio": 1,
         "title": {
          "text": "True Positive Rate"
         }
        }
       }
      }
     },
     "metadata": {},
     "output_type": "display_data"
    },
    {
     "data": {
      "application/vnd.plotly.v1+json": {
       "config": {
        "plotlyServerURL": "https://plot.ly"
       },
       "data": [
        {
         "name": "Fake - AUC: 0.6577",
         "type": "scatter",
         "x": [
          0,
          0,
          0,
          0,
          0,
          0,
          0.0037243947858473,
          0.0037243947858473,
          0.00558659217877095,
          0.020484171322160148,
          0.0335195530726257,
          0.06890130353817504,
          0.0893854748603352,
          0.2942271880819367,
          0.35940409683426444,
          0.3817504655493482,
          0.4264432029795158,
          0.43947858472998136,
          0.5847299813780261,
          0.6554934823091247,
          0.6908752327746741,
          0.7467411545623837,
          0.9757914338919925,
          1,
          1,
          1,
          1,
          1,
          1,
          1,
          1,
          1,
          1,
          1,
          1,
          1,
          1
         ],
         "y": [
          0,
          0,
          0.022058823529411766,
          0,
          0,
          0.007352941176470588,
          0.03676470588235294,
          0.04411764705882353,
          0.051470588235294115,
          0.058823529411764705,
          0.0661764705882353,
          0.08088235294117647,
          0.09558823529411764,
          0.29411764705882354,
          0.5441176470588235,
          0.5808823529411765,
          0.6397058823529411,
          0.8161764705882353,
          0.9264705882352942,
          0.9632352941176471,
          0.9926470588235294,
          0.9926470588235294,
          0.9926470588235294,
          1,
          1,
          1,
          1,
          1,
          1,
          1,
          1,
          1,
          1,
          1,
          1,
          1,
          1
         ]
        },
        {
         "name": "GPT3 - AUC: 0.9988",
         "type": "scatter",
         "x": [
          0,
          0,
          0,
          0,
          0,
          0,
          0,
          0,
          0,
          0,
          0,
          0,
          0,
          0,
          0,
          0,
          0,
          0,
          0,
          0,
          0.00186219739292365,
          0.00186219739292365,
          0.0037243947858473,
          0.00558659217877095,
          0.00558659217877095,
          0.0074487895716946,
          0.00931098696461825,
          0.00931098696461825,
          0.00931098696461825,
          0.00931098696461825,
          0.0111731843575419,
          0.0111731843575419,
          0.01303538175046555,
          0.0186219739292365,
          0.0223463687150838,
          0.148975791433892,
          1
         ],
         "y": [
          0,
          0,
          0.8602941176470589,
          0.5073529411764706,
          0.22058823529411764,
          0.16911764705882354,
          0.08823529411764706,
          0.07352941176470588,
          0.0661764705882353,
          0,
          0.04411764705882353,
          0.03676470588235294,
          0.029411764705882353,
          0.022058823529411766,
          0.014705882352941176,
          0,
          0,
          0,
          0.03676470588235294,
          0.6617647058823529,
          0.7794117647058824,
          0.9191176470588235,
          0.8970588235294118,
          0.9779411764705882,
          1,
          0.9558823529411765,
          1,
          1,
          1,
          1,
          0.9485294117647058,
          0.9632352941176471,
          1,
          0.9632352941176471,
          1,
          1,
          1
         ]
        },
        {
         "name": "Falcon7B - AUC: 0.7673",
         "type": "scatter",
         "x": [
          0,
          0,
          0,
          0,
          0,
          0,
          0.00186219739292365,
          0.00186219739292365,
          0.00186219739292365,
          0.0148975791433892,
          0.0260707635009311,
          0.037243947858473,
          0.0446927374301676,
          0.055865921787709494,
          0.06890130353817504,
          0.1527001862197393,
          0.15828677839851024,
          0.2048417132216015,
          0.22346368715083798,
          0.22905027932960895,
          0.24394785847299813,
          0.48789571694599626,
          0.7467411545623837,
          0.750465549348231,
          0.7541899441340782,
          0.7541899441340782,
          0.7541899441340782,
          0.7560521415270018,
          0.9981378026070763,
          1,
          1,
          1,
          1,
          1,
          1,
          1,
          1
         ],
         "y": [
          0,
          0,
          0.022058823529411766,
          0,
          0,
          0.007352941176470588,
          0.03676470588235294,
          0.04411764705882353,
          0.051470588235294115,
          0.058823529411764705,
          0.0661764705882353,
          0.07352941176470588,
          0.08823529411764706,
          0.09558823529411764,
          0.11764705882352941,
          0.18382352941176472,
          0.25735294117647056,
          0.4117647058823529,
          0.5147058823529411,
          0.6838235294117647,
          0.8823529411764706,
          0.9191176470588235,
          0.9411764705882353,
          0.9705882352941176,
          0.9705882352941176,
          0.9705882352941176,
          0.9852941176470589,
          0.9632352941176471,
          1,
          1,
          1,
          1,
          1,
          1,
          1,
          1,
          1
         ]
        },
        {
         "name": "EmertonMonarch7B - AUC: 0.6677",
         "type": "scatter",
         "x": [
          0,
          0,
          0,
          0,
          0,
          0,
          0.0037243947858473,
          0.0037243947858473,
          0.00558659217877095,
          0.0186219739292365,
          0.03165735567970205,
          0.0633147113594041,
          0.074487895716946,
          0.2774674115456238,
          0.3463687150837989,
          0.37243947858473,
          0.4208566108007449,
          0.43575418994413406,
          0.5828677839851024,
          0.6536312849162011,
          0.6890130353817505,
          0.7467411545623837,
          0.7653631284916201,
          0.9888268156424581,
          0.9981378026070763,
          0.9981378026070763,
          1,
          1,
          1,
          1,
          1,
          1,
          1,
          1,
          1,
          1,
          1
         ],
         "y": [
          0,
          0,
          0.022058823529411766,
          0,
          0,
          0.007352941176470588,
          0.03676470588235294,
          0.04411764705882353,
          0.051470588235294115,
          0.058823529411764705,
          0.0661764705882353,
          0.08088235294117647,
          0.09558823529411764,
          0.29411764705882354,
          0.5441176470588235,
          0.5808823529411765,
          0.6397058823529411,
          0.8161764705882353,
          0.9264705882352942,
          0.9632352941176471,
          0.9926470588235294,
          0.9926470588235294,
          0.9926470588235294,
          1,
          1,
          1,
          1,
          1,
          1,
          1,
          1,
          1,
          1,
          1,
          1,
          1,
          1
         ]
        },
        {
         "name": "BartLarge - AUC: 0.6212",
         "type": "scatter",
         "x": [
          0,
          0,
          0,
          0,
          0,
          0,
          0,
          0,
          0.00186219739292365,
          0.0037243947858473,
          0.0148975791433892,
          0.03165735567970205,
          0.04283054003724395,
          0.2532588454376164,
          0.3407821229050279,
          0.36685288640595903,
          0.41527001862197394,
          0.4245810055865922,
          0.5661080074487895,
          0.638733705772812,
          0.6778398510242085,
          0.7337057728119181,
          0.9739292364990689,
          0.9962756052141527,
          0.9981378026070763,
          1,
          1,
          1,
          1,
          1,
          1,
          1,
          1,
          1,
          1,
          1,
          1
         ],
         "y": [
          0,
          0,
          0.022058823529411766,
          0.014705882352941176,
          0,
          0,
          0,
          0,
          0.029411764705882353,
          0.029411764705882353,
          0.029411764705882353,
          0.04411764705882353,
          0.058823529411764705,
          0.2647058823529412,
          0.5073529411764706,
          0.5073529411764706,
          0.5661764705882353,
          0.6544117647058824,
          0.7132352941176471,
          0.8676470588235294,
          0.9632352941176471,
          0.9852941176470589,
          0.9852941176470589,
          0.9926470588235294,
          1,
          1,
          1,
          1,
          1,
          1,
          1,
          1,
          1,
          1,
          1,
          1,
          1
         ]
        },
        {
         "name": "Cyrax7B - AUC: 0.8996",
         "type": "scatter",
         "x": [
          0,
          0,
          0,
          0,
          0,
          0,
          0.0037243947858473,
          0.0037243947858473,
          0.0037243947858473,
          0.01675977653631285,
          0.020484171322160148,
          0.0223463687150838,
          0.0297951582867784,
          0.03910614525139665,
          0.03910614525139665,
          0.04655493482309125,
          0.054003724394785846,
          0.06890130353817504,
          0.10614525139664804,
          0.1303538175046555,
          0.1340782122905028,
          0.3891992551210428,
          0.664804469273743,
          0.6983240223463687,
          0.9404096834264432,
          0.9404096834264432,
          0.9422718808193669,
          0.9422718808193669,
          0.9553072625698324,
          0.9981378026070763,
          0.9981378026070763,
          0.9981378026070763,
          0.9981378026070763,
          0.9981378026070763,
          0.9981378026070763,
          0.9981378026070763,
          1
         ],
         "y": [
          0,
          0,
          0.022058823529411766,
          0,
          0,
          0.007352941176470588,
          0.03676470588235294,
          0.04411764705882353,
          0.051470588235294115,
          0.058823529411764705,
          0.0661764705882353,
          0.07352941176470588,
          0.08088235294117647,
          0.125,
          0.1323529411764706,
          0.19852941176470587,
          0.2426470588235294,
          0.5514705882352942,
          0.7279411764705882,
          0.8308823529411765,
          0.9338235294117647,
          0.9632352941176471,
          0.9705882352941176,
          0.9926470588235294,
          1,
          1,
          1,
          1,
          1,
          1,
          1,
          1,
          1,
          1,
          1,
          1,
          1
         ]
        },
        {
         "line": {
          "color": "lightgray"
         },
         "name": "Baseline",
         "type": "scatter",
         "x": [
          0,
          1
         ],
         "y": [
          0,
          1
         ]
        }
       ],
       "layout": {
        "height": 400,
        "template": {
         "data": {
          "bar": [
           {
            "error_x": {
             "color": "#2a3f5f"
            },
            "error_y": {
             "color": "#2a3f5f"
            },
            "marker": {
             "line": {
              "color": "#E5ECF6",
              "width": 0.5
             },
             "pattern": {
              "fillmode": "overlay",
              "size": 10,
              "solidity": 0.2
             }
            },
            "type": "bar"
           }
          ],
          "barpolar": [
           {
            "marker": {
             "line": {
              "color": "#E5ECF6",
              "width": 0.5
             },
             "pattern": {
              "fillmode": "overlay",
              "size": 10,
              "solidity": 0.2
             }
            },
            "type": "barpolar"
           }
          ],
          "carpet": [
           {
            "aaxis": {
             "endlinecolor": "#2a3f5f",
             "gridcolor": "white",
             "linecolor": "white",
             "minorgridcolor": "white",
             "startlinecolor": "#2a3f5f"
            },
            "baxis": {
             "endlinecolor": "#2a3f5f",
             "gridcolor": "white",
             "linecolor": "white",
             "minorgridcolor": "white",
             "startlinecolor": "#2a3f5f"
            },
            "type": "carpet"
           }
          ],
          "choropleth": [
           {
            "colorbar": {
             "outlinewidth": 0,
             "ticks": ""
            },
            "type": "choropleth"
           }
          ],
          "contour": [
           {
            "colorbar": {
             "outlinewidth": 0,
             "ticks": ""
            },
            "colorscale": [
             [
              0,
              "#0d0887"
             ],
             [
              0.1111111111111111,
              "#46039f"
             ],
             [
              0.2222222222222222,
              "#7201a8"
             ],
             [
              0.3333333333333333,
              "#9c179e"
             ],
             [
              0.4444444444444444,
              "#bd3786"
             ],
             [
              0.5555555555555556,
              "#d8576b"
             ],
             [
              0.6666666666666666,
              "#ed7953"
             ],
             [
              0.7777777777777778,
              "#fb9f3a"
             ],
             [
              0.8888888888888888,
              "#fdca26"
             ],
             [
              1,
              "#f0f921"
             ]
            ],
            "type": "contour"
           }
          ],
          "contourcarpet": [
           {
            "colorbar": {
             "outlinewidth": 0,
             "ticks": ""
            },
            "type": "contourcarpet"
           }
          ],
          "heatmap": [
           {
            "colorbar": {
             "outlinewidth": 0,
             "ticks": ""
            },
            "colorscale": [
             [
              0,
              "#0d0887"
             ],
             [
              0.1111111111111111,
              "#46039f"
             ],
             [
              0.2222222222222222,
              "#7201a8"
             ],
             [
              0.3333333333333333,
              "#9c179e"
             ],
             [
              0.4444444444444444,
              "#bd3786"
             ],
             [
              0.5555555555555556,
              "#d8576b"
             ],
             [
              0.6666666666666666,
              "#ed7953"
             ],
             [
              0.7777777777777778,
              "#fb9f3a"
             ],
             [
              0.8888888888888888,
              "#fdca26"
             ],
             [
              1,
              "#f0f921"
             ]
            ],
            "type": "heatmap"
           }
          ],
          "heatmapgl": [
           {
            "colorbar": {
             "outlinewidth": 0,
             "ticks": ""
            },
            "colorscale": [
             [
              0,
              "#0d0887"
             ],
             [
              0.1111111111111111,
              "#46039f"
             ],
             [
              0.2222222222222222,
              "#7201a8"
             ],
             [
              0.3333333333333333,
              "#9c179e"
             ],
             [
              0.4444444444444444,
              "#bd3786"
             ],
             [
              0.5555555555555556,
              "#d8576b"
             ],
             [
              0.6666666666666666,
              "#ed7953"
             ],
             [
              0.7777777777777778,
              "#fb9f3a"
             ],
             [
              0.8888888888888888,
              "#fdca26"
             ],
             [
              1,
              "#f0f921"
             ]
            ],
            "type": "heatmapgl"
           }
          ],
          "histogram": [
           {
            "marker": {
             "pattern": {
              "fillmode": "overlay",
              "size": 10,
              "solidity": 0.2
             }
            },
            "type": "histogram"
           }
          ],
          "histogram2d": [
           {
            "colorbar": {
             "outlinewidth": 0,
             "ticks": ""
            },
            "colorscale": [
             [
              0,
              "#0d0887"
             ],
             [
              0.1111111111111111,
              "#46039f"
             ],
             [
              0.2222222222222222,
              "#7201a8"
             ],
             [
              0.3333333333333333,
              "#9c179e"
             ],
             [
              0.4444444444444444,
              "#bd3786"
             ],
             [
              0.5555555555555556,
              "#d8576b"
             ],
             [
              0.6666666666666666,
              "#ed7953"
             ],
             [
              0.7777777777777778,
              "#fb9f3a"
             ],
             [
              0.8888888888888888,
              "#fdca26"
             ],
             [
              1,
              "#f0f921"
             ]
            ],
            "type": "histogram2d"
           }
          ],
          "histogram2dcontour": [
           {
            "colorbar": {
             "outlinewidth": 0,
             "ticks": ""
            },
            "colorscale": [
             [
              0,
              "#0d0887"
             ],
             [
              0.1111111111111111,
              "#46039f"
             ],
             [
              0.2222222222222222,
              "#7201a8"
             ],
             [
              0.3333333333333333,
              "#9c179e"
             ],
             [
              0.4444444444444444,
              "#bd3786"
             ],
             [
              0.5555555555555556,
              "#d8576b"
             ],
             [
              0.6666666666666666,
              "#ed7953"
             ],
             [
              0.7777777777777778,
              "#fb9f3a"
             ],
             [
              0.8888888888888888,
              "#fdca26"
             ],
             [
              1,
              "#f0f921"
             ]
            ],
            "type": "histogram2dcontour"
           }
          ],
          "mesh3d": [
           {
            "colorbar": {
             "outlinewidth": 0,
             "ticks": ""
            },
            "type": "mesh3d"
           }
          ],
          "parcoords": [
           {
            "line": {
             "colorbar": {
              "outlinewidth": 0,
              "ticks": ""
             }
            },
            "type": "parcoords"
           }
          ],
          "pie": [
           {
            "automargin": true,
            "type": "pie"
           }
          ],
          "scatter": [
           {
            "fillpattern": {
             "fillmode": "overlay",
             "size": 10,
             "solidity": 0.2
            },
            "type": "scatter"
           }
          ],
          "scatter3d": [
           {
            "line": {
             "colorbar": {
              "outlinewidth": 0,
              "ticks": ""
             }
            },
            "marker": {
             "colorbar": {
              "outlinewidth": 0,
              "ticks": ""
             }
            },
            "type": "scatter3d"
           }
          ],
          "scattercarpet": [
           {
            "marker": {
             "colorbar": {
              "outlinewidth": 0,
              "ticks": ""
             }
            },
            "type": "scattercarpet"
           }
          ],
          "scattergeo": [
           {
            "marker": {
             "colorbar": {
              "outlinewidth": 0,
              "ticks": ""
             }
            },
            "type": "scattergeo"
           }
          ],
          "scattergl": [
           {
            "marker": {
             "colorbar": {
              "outlinewidth": 0,
              "ticks": ""
             }
            },
            "type": "scattergl"
           }
          ],
          "scattermapbox": [
           {
            "marker": {
             "colorbar": {
              "outlinewidth": 0,
              "ticks": ""
             }
            },
            "type": "scattermapbox"
           }
          ],
          "scatterpolar": [
           {
            "marker": {
             "colorbar": {
              "outlinewidth": 0,
              "ticks": ""
             }
            },
            "type": "scatterpolar"
           }
          ],
          "scatterpolargl": [
           {
            "marker": {
             "colorbar": {
              "outlinewidth": 0,
              "ticks": ""
             }
            },
            "type": "scatterpolargl"
           }
          ],
          "scatterternary": [
           {
            "marker": {
             "colorbar": {
              "outlinewidth": 0,
              "ticks": ""
             }
            },
            "type": "scatterternary"
           }
          ],
          "surface": [
           {
            "colorbar": {
             "outlinewidth": 0,
             "ticks": ""
            },
            "colorscale": [
             [
              0,
              "#0d0887"
             ],
             [
              0.1111111111111111,
              "#46039f"
             ],
             [
              0.2222222222222222,
              "#7201a8"
             ],
             [
              0.3333333333333333,
              "#9c179e"
             ],
             [
              0.4444444444444444,
              "#bd3786"
             ],
             [
              0.5555555555555556,
              "#d8576b"
             ],
             [
              0.6666666666666666,
              "#ed7953"
             ],
             [
              0.7777777777777778,
              "#fb9f3a"
             ],
             [
              0.8888888888888888,
              "#fdca26"
             ],
             [
              1,
              "#f0f921"
             ]
            ],
            "type": "surface"
           }
          ],
          "table": [
           {
            "cells": {
             "fill": {
              "color": "#EBF0F8"
             },
             "line": {
              "color": "white"
             }
            },
            "header": {
             "fill": {
              "color": "#C8D4E3"
             },
             "line": {
              "color": "white"
             }
            },
            "type": "table"
           }
          ]
         },
         "layout": {
          "annotationdefaults": {
           "arrowcolor": "#2a3f5f",
           "arrowhead": 0,
           "arrowwidth": 1
          },
          "autotypenumbers": "strict",
          "coloraxis": {
           "colorbar": {
            "outlinewidth": 0,
            "ticks": ""
           }
          },
          "colorscale": {
           "diverging": [
            [
             0,
             "#8e0152"
            ],
            [
             0.1,
             "#c51b7d"
            ],
            [
             0.2,
             "#de77ae"
            ],
            [
             0.3,
             "#f1b6da"
            ],
            [
             0.4,
             "#fde0ef"
            ],
            [
             0.5,
             "#f7f7f7"
            ],
            [
             0.6,
             "#e6f5d0"
            ],
            [
             0.7,
             "#b8e186"
            ],
            [
             0.8,
             "#7fbc41"
            ],
            [
             0.9,
             "#4d9221"
            ],
            [
             1,
             "#276419"
            ]
           ],
           "sequential": [
            [
             0,
             "#0d0887"
            ],
            [
             0.1111111111111111,
             "#46039f"
            ],
            [
             0.2222222222222222,
             "#7201a8"
            ],
            [
             0.3333333333333333,
             "#9c179e"
            ],
            [
             0.4444444444444444,
             "#bd3786"
            ],
            [
             0.5555555555555556,
             "#d8576b"
            ],
            [
             0.6666666666666666,
             "#ed7953"
            ],
            [
             0.7777777777777778,
             "#fb9f3a"
            ],
            [
             0.8888888888888888,
             "#fdca26"
            ],
            [
             1,
             "#f0f921"
            ]
           ],
           "sequentialminus": [
            [
             0,
             "#0d0887"
            ],
            [
             0.1111111111111111,
             "#46039f"
            ],
            [
             0.2222222222222222,
             "#7201a8"
            ],
            [
             0.3333333333333333,
             "#9c179e"
            ],
            [
             0.4444444444444444,
             "#bd3786"
            ],
            [
             0.5555555555555556,
             "#d8576b"
            ],
            [
             0.6666666666666666,
             "#ed7953"
            ],
            [
             0.7777777777777778,
             "#fb9f3a"
            ],
            [
             0.8888888888888888,
             "#fdca26"
            ],
            [
             1,
             "#f0f921"
            ]
           ]
          },
          "colorway": [
           "#636efa",
           "#EF553B",
           "#00cc96",
           "#ab63fa",
           "#FFA15A",
           "#19d3f3",
           "#FF6692",
           "#B6E880",
           "#FF97FF",
           "#FECB52"
          ],
          "font": {
           "color": "#2a3f5f"
          },
          "geo": {
           "bgcolor": "white",
           "lakecolor": "white",
           "landcolor": "#E5ECF6",
           "showlakes": true,
           "showland": true,
           "subunitcolor": "white"
          },
          "hoverlabel": {
           "align": "left"
          },
          "hovermode": "closest",
          "mapbox": {
           "style": "light"
          },
          "paper_bgcolor": "white",
          "plot_bgcolor": "#E5ECF6",
          "polar": {
           "angularaxis": {
            "gridcolor": "white",
            "linecolor": "white",
            "ticks": ""
           },
           "bgcolor": "#E5ECF6",
           "radialaxis": {
            "gridcolor": "white",
            "linecolor": "white",
            "ticks": ""
           }
          },
          "scene": {
           "xaxis": {
            "backgroundcolor": "#E5ECF6",
            "gridcolor": "white",
            "gridwidth": 2,
            "linecolor": "white",
            "showbackground": true,
            "ticks": "",
            "zerolinecolor": "white"
           },
           "yaxis": {
            "backgroundcolor": "#E5ECF6",
            "gridcolor": "white",
            "gridwidth": 2,
            "linecolor": "white",
            "showbackground": true,
            "ticks": "",
            "zerolinecolor": "white"
           },
           "zaxis": {
            "backgroundcolor": "#E5ECF6",
            "gridcolor": "white",
            "gridwidth": 2,
            "linecolor": "white",
            "showbackground": true,
            "ticks": "",
            "zerolinecolor": "white"
           }
          },
          "shapedefaults": {
           "line": {
            "color": "#2a3f5f"
           }
          },
          "ternary": {
           "aaxis": {
            "gridcolor": "white",
            "linecolor": "white",
            "ticks": ""
           },
           "baxis": {
            "gridcolor": "white",
            "linecolor": "white",
            "ticks": ""
           },
           "bgcolor": "#E5ECF6",
           "caxis": {
            "gridcolor": "white",
            "linecolor": "white",
            "ticks": ""
           }
          },
          "title": {
           "x": 0.05
          },
          "xaxis": {
           "automargin": true,
           "gridcolor": "white",
           "linecolor": "white",
           "ticks": "",
           "title": {
            "standoff": 15
           },
           "zerolinecolor": "white",
           "zerolinewidth": 2
          },
          "yaxis": {
           "automargin": true,
           "gridcolor": "white",
           "linecolor": "white",
           "ticks": "",
           "title": {
            "standoff": 15
           },
           "zerolinecolor": "white",
           "zerolinewidth": 2
          }
         }
        },
        "title": {
         "text": "ROC Curve - oom - Criteria: 2"
        },
        "width": 580,
        "xaxis": {
         "range": [
          0,
          1
         ],
         "title": {
          "text": "False Positive Rate"
         }
        },
        "yaxis": {
         "range": [
          0,
          1
         ],
         "scaleanchor": "x",
         "scaleratio": 1,
         "title": {
          "text": "True Positive Rate"
         }
        }
       }
      }
     },
     "metadata": {},
     "output_type": "display_data"
    }
   ],
   "source": [
    "dataset = \"oom\"\n",
    "generateROCForCriteria(dataset, 1, inference_providers )\n",
    "generateROCForCriteria(dataset, 2, inference_providers )"
   ]
  },
  {
   "cell_type": "code",
   "execution_count": 110,
   "metadata": {},
   "outputs": [
    {
     "data": {
      "application/vnd.plotly.v1+json": {
       "config": {
        "plotlyServerURL": "https://plot.ly"
       },
       "data": [
        {
         "name": "Fake - AUC: 0.6784",
         "type": "scatter",
         "x": [
          0,
          0.35170603674540685,
          0.3779527559055118,
          0.3937007874015748,
          0.4304461942257218,
          0.46194225721784776,
          0.5039370078740157,
          0.5275590551181102,
          0.5931758530183727,
          0.6482939632545932,
          0.6902887139107612,
          0.6955380577427821,
          0.7086614173228346,
          0.7427821522309711,
          0.7611548556430446,
          0.7821522309711286,
          0.7926509186351706,
          0.8398950131233596,
          0.8556430446194225,
          0.868766404199475,
          0.868766404199475,
          0.8871391076115486,
          0.9002624671916011,
          0.9186351706036745,
          0.931758530183727,
          0.9396325459317585,
          0.952755905511811,
          0.9606299212598425,
          0.968503937007874,
          0.968503937007874,
          0.968503937007874,
          0.968503937007874,
          0.9711286089238845,
          0.9711286089238845,
          0.9711286089238845,
          0.9711286089238845,
          1
         ],
         "y": [
          0,
          0.5078125,
          0.5625,
          0.625,
          0.65625,
          0.7421875,
          0.859375,
          0.8984375,
          0.96875,
          0.984375,
          0.984375,
          0.984375,
          0.9921875,
          1,
          1,
          1,
          1,
          1,
          1,
          1,
          1,
          1,
          1,
          1,
          1,
          1,
          1,
          1,
          1,
          1,
          1,
          1,
          1,
          1,
          1,
          1,
          1
         ]
        },
        {
         "name": "GPT3 - AUC: 0.9999",
         "type": "scatter",
         "x": [
          0,
          0,
          0,
          0,
          0,
          0,
          0,
          0,
          0,
          0,
          0,
          0,
          0,
          0,
          0,
          0,
          0,
          0,
          0,
          0,
          0,
          0,
          0,
          0,
          0,
          0,
          0,
          0,
          0,
          0,
          0,
          0,
          0.0026246719160104987,
          0.0026246719160104987,
          0.0026246719160104987,
          0.010498687664041995,
          1
         ],
         "y": [
          0,
          1,
          1,
          1,
          0.9765625,
          0.9609375,
          0.9609375,
          0.9296875,
          1,
          0.84375,
          0.75,
          0.625,
          0.5703125,
          0.4609375,
          0.3984375,
          0.3671875,
          0.8125,
          0.3671875,
          0.3515625,
          1,
          1,
          1,
          1,
          1,
          1,
          1,
          1,
          1,
          1,
          1,
          1,
          1,
          1,
          0.875,
          1,
          1,
          1
         ]
        },
        {
         "name": "Falcon7B - AUC: 0.6784",
         "type": "scatter",
         "x": [
          0,
          0.35170603674540685,
          0.3779527559055118,
          0.3937007874015748,
          0.4304461942257218,
          0.46194225721784776,
          0.5039370078740157,
          0.5275590551181102,
          0.5931758530183727,
          0.6482939632545932,
          0.6902887139107612,
          0.6955380577427821,
          0.7086614173228346,
          0.7427821522309711,
          0.7611548556430446,
          0.7821522309711286,
          0.7926509186351706,
          0.8398950131233596,
          0.8556430446194225,
          0.868766404199475,
          0.868766404199475,
          0.8871391076115486,
          0.9002624671916011,
          0.9186351706036745,
          0.931758530183727,
          0.9396325459317585,
          0.952755905511811,
          0.9606299212598425,
          0.968503937007874,
          0.968503937007874,
          0.968503937007874,
          0.968503937007874,
          0.9711286089238845,
          0.9711286089238845,
          0.9711286089238845,
          0.9711286089238845,
          1
         ],
         "y": [
          0,
          0.5078125,
          0.5625,
          0.625,
          0.65625,
          0.7421875,
          0.859375,
          0.8984375,
          0.96875,
          0.984375,
          0.984375,
          0.984375,
          0.9921875,
          1,
          1,
          1,
          1,
          1,
          1,
          1,
          1,
          1,
          1,
          1,
          1,
          1,
          1,
          1,
          1,
          1,
          1,
          1,
          1,
          1,
          1,
          1,
          1
         ]
        },
        {
         "name": "EmertonMonarch7B - AUC: 0.8172",
         "type": "scatter",
         "x": [
          0,
          0.1837270341207349,
          0.19160104986876642,
          0.2125984251968504,
          0.2152230971128609,
          0.23097112860892388,
          0.25984251968503935,
          0.2755905511811024,
          0.29658792650918636,
          0.3359580052493438,
          0.3543307086614173,
          0.3648293963254593,
          0.38320209973753283,
          0.4094488188976378,
          0.46981627296587924,
          0.5118110236220472,
          0.5406824146981627,
          0.6036745406824147,
          0.6509186351706037,
          0.7086614173228346,
          0.7139107611548556,
          0.7322834645669292,
          0.7637795275590551,
          0.7742782152230971,
          0.7979002624671916,
          0.8083989501312336,
          0.8188976377952756,
          0.8346456692913385,
          0.8451443569553806,
          0.8503937007874016,
          0.8503937007874016,
          0.8503937007874016,
          0.8530183727034121,
          0.8556430446194225,
          0.8582677165354331,
          0.8582677165354331,
          1
         ],
         "y": [
          0,
          0.4609375,
          0.53125,
          0.5625,
          0.578125,
          0.671875,
          0.8046875,
          0.828125,
          0.90625,
          0.9296875,
          0.9296875,
          0.9296875,
          0.96875,
          0.9921875,
          0.9921875,
          0.9921875,
          1,
          1,
          1,
          1,
          1,
          1,
          1,
          1,
          1,
          1,
          1,
          1,
          1,
          1,
          1,
          1,
          1,
          1,
          1,
          1,
          1
         ]
        },
        {
         "name": "BartLarge - AUC: 0.7253",
         "type": "scatter",
         "x": [
          0,
          0.2204724409448819,
          0.24146981627296588,
          0.2572178477690289,
          0.2782152230971129,
          0.30971128608923887,
          0.34120734908136485,
          0.3543307086614173,
          0.3884514435695538,
          0.4356955380577428,
          0.5013123359580053,
          0.5065616797900262,
          0.5065616797900262,
          0.5354330708661418,
          0.5774278215223098,
          0.6272965879265092,
          0.6377952755905512,
          0.6561679790026247,
          0.6745406824146981,
          0.6824146981627297,
          0.6824146981627297,
          0.6929133858267716,
          0.6981627296587927,
          0.7139107611548556,
          0.7139107611548556,
          0.7191601049868767,
          0.7217847769028871,
          0.7244094488188977,
          0.7244094488188977,
          0.7296587926509186,
          0.7296587926509186,
          0.7296587926509186,
          0.7296587926509186,
          0.7322834645669292,
          0.7322834645669292,
          0.7322834645669292,
          1
         ],
         "y": [
          0,
          0.40625,
          0.4453125,
          0.5078125,
          0.5390625,
          0.609375,
          0.6484375,
          0.671875,
          0.7421875,
          0.7890625,
          0.8046875,
          0.8515625,
          0.921875,
          0.96875,
          0.9765625,
          0.984375,
          1,
          1,
          1,
          1,
          1,
          1,
          1,
          1,
          1,
          1,
          1,
          1,
          1,
          1,
          1,
          1,
          1,
          1,
          1,
          1,
          1
         ]
        },
        {
         "name": "Cyrax7B - AUC: 0.7546",
         "type": "scatter",
         "x": [
          0,
          0.2440944881889764,
          0.25984251968503935,
          0.2782152230971129,
          0.29133858267716534,
          0.31496062992125984,
          0.35170603674540685,
          0.3674540682414698,
          0.3937007874015748,
          0.4435695538057743,
          0.47506561679790027,
          0.48556430446194226,
          0.49868766404199477,
          0.5144356955380578,
          0.5590551181102362,
          0.5774278215223098,
          0.5905511811023622,
          0.6351706036745407,
          0.6692913385826772,
          0.7139107611548556,
          0.7165354330708661,
          0.7270341207349081,
          0.7559055118110236,
          0.7664041994750657,
          0.7847769028871391,
          0.7952755905511811,
          0.8083989501312336,
          0.821522309711286,
          0.8372703412073491,
          0.84251968503937,
          0.84251968503937,
          0.84251968503937,
          0.8451443569553806,
          0.847769028871391,
          0.8530183727034121,
          0.8530183727034121,
          1
         ],
         "y": [
          0,
          0.453125,
          0.5078125,
          0.5390625,
          0.5703125,
          0.6640625,
          0.8046875,
          0.828125,
          0.90625,
          0.9296875,
          0.9296875,
          0.9296875,
          0.96875,
          0.9921875,
          0.9921875,
          0.9921875,
          1,
          1,
          1,
          1,
          1,
          1,
          1,
          1,
          1,
          1,
          1,
          1,
          1,
          1,
          1,
          1,
          1,
          1,
          1,
          1,
          1
         ]
        },
        {
         "line": {
          "color": "lightgray"
         },
         "name": "Baseline",
         "type": "scatter",
         "x": [
          0,
          1
         ],
         "y": [
          0,
          1
         ]
        }
       ],
       "layout": {
        "height": 400,
        "template": {
         "data": {
          "bar": [
           {
            "error_x": {
             "color": "#2a3f5f"
            },
            "error_y": {
             "color": "#2a3f5f"
            },
            "marker": {
             "line": {
              "color": "#E5ECF6",
              "width": 0.5
             },
             "pattern": {
              "fillmode": "overlay",
              "size": 10,
              "solidity": 0.2
             }
            },
            "type": "bar"
           }
          ],
          "barpolar": [
           {
            "marker": {
             "line": {
              "color": "#E5ECF6",
              "width": 0.5
             },
             "pattern": {
              "fillmode": "overlay",
              "size": 10,
              "solidity": 0.2
             }
            },
            "type": "barpolar"
           }
          ],
          "carpet": [
           {
            "aaxis": {
             "endlinecolor": "#2a3f5f",
             "gridcolor": "white",
             "linecolor": "white",
             "minorgridcolor": "white",
             "startlinecolor": "#2a3f5f"
            },
            "baxis": {
             "endlinecolor": "#2a3f5f",
             "gridcolor": "white",
             "linecolor": "white",
             "minorgridcolor": "white",
             "startlinecolor": "#2a3f5f"
            },
            "type": "carpet"
           }
          ],
          "choropleth": [
           {
            "colorbar": {
             "outlinewidth": 0,
             "ticks": ""
            },
            "type": "choropleth"
           }
          ],
          "contour": [
           {
            "colorbar": {
             "outlinewidth": 0,
             "ticks": ""
            },
            "colorscale": [
             [
              0,
              "#0d0887"
             ],
             [
              0.1111111111111111,
              "#46039f"
             ],
             [
              0.2222222222222222,
              "#7201a8"
             ],
             [
              0.3333333333333333,
              "#9c179e"
             ],
             [
              0.4444444444444444,
              "#bd3786"
             ],
             [
              0.5555555555555556,
              "#d8576b"
             ],
             [
              0.6666666666666666,
              "#ed7953"
             ],
             [
              0.7777777777777778,
              "#fb9f3a"
             ],
             [
              0.8888888888888888,
              "#fdca26"
             ],
             [
              1,
              "#f0f921"
             ]
            ],
            "type": "contour"
           }
          ],
          "contourcarpet": [
           {
            "colorbar": {
             "outlinewidth": 0,
             "ticks": ""
            },
            "type": "contourcarpet"
           }
          ],
          "heatmap": [
           {
            "colorbar": {
             "outlinewidth": 0,
             "ticks": ""
            },
            "colorscale": [
             [
              0,
              "#0d0887"
             ],
             [
              0.1111111111111111,
              "#46039f"
             ],
             [
              0.2222222222222222,
              "#7201a8"
             ],
             [
              0.3333333333333333,
              "#9c179e"
             ],
             [
              0.4444444444444444,
              "#bd3786"
             ],
             [
              0.5555555555555556,
              "#d8576b"
             ],
             [
              0.6666666666666666,
              "#ed7953"
             ],
             [
              0.7777777777777778,
              "#fb9f3a"
             ],
             [
              0.8888888888888888,
              "#fdca26"
             ],
             [
              1,
              "#f0f921"
             ]
            ],
            "type": "heatmap"
           }
          ],
          "heatmapgl": [
           {
            "colorbar": {
             "outlinewidth": 0,
             "ticks": ""
            },
            "colorscale": [
             [
              0,
              "#0d0887"
             ],
             [
              0.1111111111111111,
              "#46039f"
             ],
             [
              0.2222222222222222,
              "#7201a8"
             ],
             [
              0.3333333333333333,
              "#9c179e"
             ],
             [
              0.4444444444444444,
              "#bd3786"
             ],
             [
              0.5555555555555556,
              "#d8576b"
             ],
             [
              0.6666666666666666,
              "#ed7953"
             ],
             [
              0.7777777777777778,
              "#fb9f3a"
             ],
             [
              0.8888888888888888,
              "#fdca26"
             ],
             [
              1,
              "#f0f921"
             ]
            ],
            "type": "heatmapgl"
           }
          ],
          "histogram": [
           {
            "marker": {
             "pattern": {
              "fillmode": "overlay",
              "size": 10,
              "solidity": 0.2
             }
            },
            "type": "histogram"
           }
          ],
          "histogram2d": [
           {
            "colorbar": {
             "outlinewidth": 0,
             "ticks": ""
            },
            "colorscale": [
             [
              0,
              "#0d0887"
             ],
             [
              0.1111111111111111,
              "#46039f"
             ],
             [
              0.2222222222222222,
              "#7201a8"
             ],
             [
              0.3333333333333333,
              "#9c179e"
             ],
             [
              0.4444444444444444,
              "#bd3786"
             ],
             [
              0.5555555555555556,
              "#d8576b"
             ],
             [
              0.6666666666666666,
              "#ed7953"
             ],
             [
              0.7777777777777778,
              "#fb9f3a"
             ],
             [
              0.8888888888888888,
              "#fdca26"
             ],
             [
              1,
              "#f0f921"
             ]
            ],
            "type": "histogram2d"
           }
          ],
          "histogram2dcontour": [
           {
            "colorbar": {
             "outlinewidth": 0,
             "ticks": ""
            },
            "colorscale": [
             [
              0,
              "#0d0887"
             ],
             [
              0.1111111111111111,
              "#46039f"
             ],
             [
              0.2222222222222222,
              "#7201a8"
             ],
             [
              0.3333333333333333,
              "#9c179e"
             ],
             [
              0.4444444444444444,
              "#bd3786"
             ],
             [
              0.5555555555555556,
              "#d8576b"
             ],
             [
              0.6666666666666666,
              "#ed7953"
             ],
             [
              0.7777777777777778,
              "#fb9f3a"
             ],
             [
              0.8888888888888888,
              "#fdca26"
             ],
             [
              1,
              "#f0f921"
             ]
            ],
            "type": "histogram2dcontour"
           }
          ],
          "mesh3d": [
           {
            "colorbar": {
             "outlinewidth": 0,
             "ticks": ""
            },
            "type": "mesh3d"
           }
          ],
          "parcoords": [
           {
            "line": {
             "colorbar": {
              "outlinewidth": 0,
              "ticks": ""
             }
            },
            "type": "parcoords"
           }
          ],
          "pie": [
           {
            "automargin": true,
            "type": "pie"
           }
          ],
          "scatter": [
           {
            "fillpattern": {
             "fillmode": "overlay",
             "size": 10,
             "solidity": 0.2
            },
            "type": "scatter"
           }
          ],
          "scatter3d": [
           {
            "line": {
             "colorbar": {
              "outlinewidth": 0,
              "ticks": ""
             }
            },
            "marker": {
             "colorbar": {
              "outlinewidth": 0,
              "ticks": ""
             }
            },
            "type": "scatter3d"
           }
          ],
          "scattercarpet": [
           {
            "marker": {
             "colorbar": {
              "outlinewidth": 0,
              "ticks": ""
             }
            },
            "type": "scattercarpet"
           }
          ],
          "scattergeo": [
           {
            "marker": {
             "colorbar": {
              "outlinewidth": 0,
              "ticks": ""
             }
            },
            "type": "scattergeo"
           }
          ],
          "scattergl": [
           {
            "marker": {
             "colorbar": {
              "outlinewidth": 0,
              "ticks": ""
             }
            },
            "type": "scattergl"
           }
          ],
          "scattermapbox": [
           {
            "marker": {
             "colorbar": {
              "outlinewidth": 0,
              "ticks": ""
             }
            },
            "type": "scattermapbox"
           }
          ],
          "scatterpolar": [
           {
            "marker": {
             "colorbar": {
              "outlinewidth": 0,
              "ticks": ""
             }
            },
            "type": "scatterpolar"
           }
          ],
          "scatterpolargl": [
           {
            "marker": {
             "colorbar": {
              "outlinewidth": 0,
              "ticks": ""
             }
            },
            "type": "scatterpolargl"
           }
          ],
          "scatterternary": [
           {
            "marker": {
             "colorbar": {
              "outlinewidth": 0,
              "ticks": ""
             }
            },
            "type": "scatterternary"
           }
          ],
          "surface": [
           {
            "colorbar": {
             "outlinewidth": 0,
             "ticks": ""
            },
            "colorscale": [
             [
              0,
              "#0d0887"
             ],
             [
              0.1111111111111111,
              "#46039f"
             ],
             [
              0.2222222222222222,
              "#7201a8"
             ],
             [
              0.3333333333333333,
              "#9c179e"
             ],
             [
              0.4444444444444444,
              "#bd3786"
             ],
             [
              0.5555555555555556,
              "#d8576b"
             ],
             [
              0.6666666666666666,
              "#ed7953"
             ],
             [
              0.7777777777777778,
              "#fb9f3a"
             ],
             [
              0.8888888888888888,
              "#fdca26"
             ],
             [
              1,
              "#f0f921"
             ]
            ],
            "type": "surface"
           }
          ],
          "table": [
           {
            "cells": {
             "fill": {
              "color": "#EBF0F8"
             },
             "line": {
              "color": "white"
             }
            },
            "header": {
             "fill": {
              "color": "#C8D4E3"
             },
             "line": {
              "color": "white"
             }
            },
            "type": "table"
           }
          ]
         },
         "layout": {
          "annotationdefaults": {
           "arrowcolor": "#2a3f5f",
           "arrowhead": 0,
           "arrowwidth": 1
          },
          "autotypenumbers": "strict",
          "coloraxis": {
           "colorbar": {
            "outlinewidth": 0,
            "ticks": ""
           }
          },
          "colorscale": {
           "diverging": [
            [
             0,
             "#8e0152"
            ],
            [
             0.1,
             "#c51b7d"
            ],
            [
             0.2,
             "#de77ae"
            ],
            [
             0.3,
             "#f1b6da"
            ],
            [
             0.4,
             "#fde0ef"
            ],
            [
             0.5,
             "#f7f7f7"
            ],
            [
             0.6,
             "#e6f5d0"
            ],
            [
             0.7,
             "#b8e186"
            ],
            [
             0.8,
             "#7fbc41"
            ],
            [
             0.9,
             "#4d9221"
            ],
            [
             1,
             "#276419"
            ]
           ],
           "sequential": [
            [
             0,
             "#0d0887"
            ],
            [
             0.1111111111111111,
             "#46039f"
            ],
            [
             0.2222222222222222,
             "#7201a8"
            ],
            [
             0.3333333333333333,
             "#9c179e"
            ],
            [
             0.4444444444444444,
             "#bd3786"
            ],
            [
             0.5555555555555556,
             "#d8576b"
            ],
            [
             0.6666666666666666,
             "#ed7953"
            ],
            [
             0.7777777777777778,
             "#fb9f3a"
            ],
            [
             0.8888888888888888,
             "#fdca26"
            ],
            [
             1,
             "#f0f921"
            ]
           ],
           "sequentialminus": [
            [
             0,
             "#0d0887"
            ],
            [
             0.1111111111111111,
             "#46039f"
            ],
            [
             0.2222222222222222,
             "#7201a8"
            ],
            [
             0.3333333333333333,
             "#9c179e"
            ],
            [
             0.4444444444444444,
             "#bd3786"
            ],
            [
             0.5555555555555556,
             "#d8576b"
            ],
            [
             0.6666666666666666,
             "#ed7953"
            ],
            [
             0.7777777777777778,
             "#fb9f3a"
            ],
            [
             0.8888888888888888,
             "#fdca26"
            ],
            [
             1,
             "#f0f921"
            ]
           ]
          },
          "colorway": [
           "#636efa",
           "#EF553B",
           "#00cc96",
           "#ab63fa",
           "#FFA15A",
           "#19d3f3",
           "#FF6692",
           "#B6E880",
           "#FF97FF",
           "#FECB52"
          ],
          "font": {
           "color": "#2a3f5f"
          },
          "geo": {
           "bgcolor": "white",
           "lakecolor": "white",
           "landcolor": "#E5ECF6",
           "showlakes": true,
           "showland": true,
           "subunitcolor": "white"
          },
          "hoverlabel": {
           "align": "left"
          },
          "hovermode": "closest",
          "mapbox": {
           "style": "light"
          },
          "paper_bgcolor": "white",
          "plot_bgcolor": "#E5ECF6",
          "polar": {
           "angularaxis": {
            "gridcolor": "white",
            "linecolor": "white",
            "ticks": ""
           },
           "bgcolor": "#E5ECF6",
           "radialaxis": {
            "gridcolor": "white",
            "linecolor": "white",
            "ticks": ""
           }
          },
          "scene": {
           "xaxis": {
            "backgroundcolor": "#E5ECF6",
            "gridcolor": "white",
            "gridwidth": 2,
            "linecolor": "white",
            "showbackground": true,
            "ticks": "",
            "zerolinecolor": "white"
           },
           "yaxis": {
            "backgroundcolor": "#E5ECF6",
            "gridcolor": "white",
            "gridwidth": 2,
            "linecolor": "white",
            "showbackground": true,
            "ticks": "",
            "zerolinecolor": "white"
           },
           "zaxis": {
            "backgroundcolor": "#E5ECF6",
            "gridcolor": "white",
            "gridwidth": 2,
            "linecolor": "white",
            "showbackground": true,
            "ticks": "",
            "zerolinecolor": "white"
           }
          },
          "shapedefaults": {
           "line": {
            "color": "#2a3f5f"
           }
          },
          "ternary": {
           "aaxis": {
            "gridcolor": "white",
            "linecolor": "white",
            "ticks": ""
           },
           "baxis": {
            "gridcolor": "white",
            "linecolor": "white",
            "ticks": ""
           },
           "bgcolor": "#E5ECF6",
           "caxis": {
            "gridcolor": "white",
            "linecolor": "white",
            "ticks": ""
           }
          },
          "title": {
           "x": 0.05
          },
          "xaxis": {
           "automargin": true,
           "gridcolor": "white",
           "linecolor": "white",
           "ticks": "",
           "title": {
            "standoff": 15
           },
           "zerolinecolor": "white",
           "zerolinewidth": 2
          },
          "yaxis": {
           "automargin": true,
           "gridcolor": "white",
           "linecolor": "white",
           "ticks": "",
           "title": {
            "standoff": 15
           },
           "zerolinecolor": "white",
           "zerolinewidth": 2
          }
         }
        },
        "title": {
         "text": "ROC Curve - cpu - Criteria: 1"
        },
        "width": 580,
        "xaxis": {
         "range": [
          0,
          1
         ],
         "title": {
          "text": "False Positive Rate"
         }
        },
        "yaxis": {
         "range": [
          0,
          1
         ],
         "scaleanchor": "x",
         "scaleratio": 1,
         "title": {
          "text": "True Positive Rate"
         }
        }
       }
      }
     },
     "metadata": {},
     "output_type": "display_data"
    },
    {
     "data": {
      "application/vnd.plotly.v1+json": {
       "config": {
        "plotlyServerURL": "https://plot.ly"
       },
       "data": [
        {
         "name": "Fake - AUC: 0.5883",
         "type": "scatter",
         "x": [
          0,
          0.35170603674540685,
          0.3779527559055118,
          0.3937007874015748,
          0.4304461942257218,
          0.46194225721784776,
          0.5039370078740157,
          0.5275590551181102,
          0.5931758530183727,
          0.6482939632545932,
          0.6902887139107612,
          0.6955380577427821,
          0.7086614173228346,
          0.7427821522309711,
          0.7611548556430446,
          0.7821522309711286,
          0.7926509186351706,
          0.8398950131233596,
          0.8556430446194225,
          0.868766404199475,
          0.868766404199475,
          0.8871391076115486,
          0.9002624671916011,
          0.9186351706036745,
          0.931758530183727,
          0.9396325459317585,
          0.952755905511811,
          0.9606299212598425,
          0.968503937007874,
          0.968503937007874,
          0.968503937007874,
          0.968503937007874,
          0.9711286089238845,
          0.9711286089238845,
          0.9711286089238845,
          0.9711286089238845,
          1
         ],
         "y": [
          0,
          0.3515625,
          0.359375,
          0.4296875,
          0.484375,
          0.5546875,
          0.6484375,
          0.7109375,
          0.8203125,
          0.859375,
          0.875,
          0.90625,
          0.9140625,
          0.9375,
          0.953125,
          0.9765625,
          1,
          1,
          1,
          1,
          1,
          1,
          1,
          1,
          1,
          1,
          1,
          1,
          1,
          1,
          1,
          1,
          1,
          1,
          1,
          1,
          1
         ]
        },
        {
         "name": "GPT3 - AUC: 0.9999",
         "type": "scatter",
         "x": [
          0,
          0,
          0,
          0,
          0,
          0,
          0,
          0,
          0,
          0,
          0,
          0,
          0,
          0,
          0,
          0,
          0,
          0,
          0,
          0,
          0,
          0,
          0,
          0,
          0,
          0,
          0,
          0,
          0,
          0,
          0,
          0,
          0.0026246719160104987,
          0.0026246719160104987,
          0.0026246719160104987,
          0.010498687664041995,
          1
         ],
         "y": [
          0,
          0.9375,
          0.78125,
          0.7265625,
          0.640625,
          0.5859375,
          0.53125,
          0.453125,
          0.8359375,
          0.3515625,
          0.265625,
          0.2578125,
          0.234375,
          0.1875,
          0.125,
          0.09375,
          0.2890625,
          0.09375,
          0.078125,
          0.9453125,
          0.9609375,
          1,
          1,
          1,
          1,
          1,
          1,
          0.9453125,
          1,
          1,
          1,
          1,
          1,
          0.40625,
          1,
          1,
          1
         ]
        },
        {
         "name": "Falcon7B - AUC: 0.5883",
         "type": "scatter",
         "x": [
          0,
          0.35170603674540685,
          0.3779527559055118,
          0.3937007874015748,
          0.4304461942257218,
          0.46194225721784776,
          0.5039370078740157,
          0.5275590551181102,
          0.5931758530183727,
          0.6482939632545932,
          0.6902887139107612,
          0.6955380577427821,
          0.7086614173228346,
          0.7427821522309711,
          0.7611548556430446,
          0.7821522309711286,
          0.7926509186351706,
          0.8398950131233596,
          0.8556430446194225,
          0.868766404199475,
          0.868766404199475,
          0.8871391076115486,
          0.9002624671916011,
          0.9186351706036745,
          0.931758530183727,
          0.9396325459317585,
          0.952755905511811,
          0.9606299212598425,
          0.968503937007874,
          0.968503937007874,
          0.968503937007874,
          0.968503937007874,
          0.9711286089238845,
          0.9711286089238845,
          0.9711286089238845,
          0.9711286089238845,
          1
         ],
         "y": [
          0,
          0.3515625,
          0.359375,
          0.4296875,
          0.484375,
          0.5546875,
          0.6484375,
          0.7109375,
          0.8203125,
          0.859375,
          0.875,
          0.90625,
          0.9140625,
          0.9375,
          0.953125,
          0.9765625,
          1,
          1,
          1,
          1,
          1,
          1,
          1,
          1,
          1,
          1,
          1,
          1,
          1,
          1,
          1,
          1,
          1,
          1,
          1,
          1,
          1
         ]
        },
        {
         "name": "EmertonMonarch7B - AUC: 0.6699",
         "type": "scatter",
         "x": [
          0,
          0.1837270341207349,
          0.19160104986876642,
          0.2125984251968504,
          0.2152230971128609,
          0.23097112860892388,
          0.25984251968503935,
          0.2755905511811024,
          0.29658792650918636,
          0.3359580052493438,
          0.3543307086614173,
          0.3648293963254593,
          0.38320209973753283,
          0.4094488188976378,
          0.46981627296587924,
          0.5118110236220472,
          0.5406824146981627,
          0.6036745406824147,
          0.6509186351706037,
          0.7086614173228346,
          0.7139107611548556,
          0.7322834645669292,
          0.7637795275590551,
          0.7742782152230971,
          0.7979002624671916,
          0.8083989501312336,
          0.8188976377952756,
          0.8346456692913385,
          0.8451443569553806,
          0.8503937007874016,
          0.8503937007874016,
          0.8503937007874016,
          0.8530183727034121,
          0.8556430446194225,
          0.8582677165354331,
          0.8582677165354331,
          1
         ],
         "y": [
          0,
          0.1875,
          0.2109375,
          0.2265625,
          0.25,
          0.3203125,
          0.3984375,
          0.4296875,
          0.453125,
          0.484375,
          0.5546875,
          0.59375,
          0.6328125,
          0.7265625,
          0.765625,
          0.828125,
          0.8828125,
          0.9375,
          0.9609375,
          0.984375,
          0.984375,
          0.984375,
          0.9921875,
          1,
          1,
          1,
          1,
          1,
          1,
          1,
          1,
          1,
          1,
          1,
          1,
          1,
          1
         ]
        },
        {
         "name": "BartLarge - AUC: 0.6346",
         "type": "scatter",
         "x": [
          0,
          0.2204724409448819,
          0.24146981627296588,
          0.2572178477690289,
          0.2782152230971129,
          0.30971128608923887,
          0.34120734908136485,
          0.3543307086614173,
          0.3884514435695538,
          0.4356955380577428,
          0.5013123359580053,
          0.5065616797900262,
          0.5065616797900262,
          0.5354330708661418,
          0.5774278215223098,
          0.6272965879265092,
          0.6377952755905512,
          0.6561679790026247,
          0.6745406824146981,
          0.6824146981627297,
          0.6824146981627297,
          0.6929133858267716,
          0.6981627296587927,
          0.7139107611548556,
          0.7139107611548556,
          0.7191601049868767,
          0.7217847769028871,
          0.7244094488188977,
          0.7244094488188977,
          0.7296587926509186,
          0.7296587926509186,
          0.7296587926509186,
          0.7296587926509186,
          0.7322834645669292,
          0.7322834645669292,
          0.7322834645669292,
          1
         ],
         "y": [
          0,
          0.1953125,
          0.203125,
          0.28125,
          0.296875,
          0.3984375,
          0.4453125,
          0.515625,
          0.59375,
          0.625,
          0.6875,
          0.7421875,
          0.78125,
          0.8515625,
          0.859375,
          0.90625,
          0.953125,
          0.9609375,
          0.9765625,
          1,
          1,
          1,
          1,
          1,
          1,
          1,
          1,
          1,
          1,
          1,
          1,
          1,
          1,
          1,
          1,
          1,
          1
         ]
        },
        {
         "name": "Cyrax7B - AUC: 0.5945",
         "type": "scatter",
         "x": [
          0,
          0.2440944881889764,
          0.25984251968503935,
          0.2782152230971129,
          0.29133858267716534,
          0.31496062992125984,
          0.35170603674540685,
          0.3674540682414698,
          0.3937007874015748,
          0.4435695538057743,
          0.47506561679790027,
          0.48556430446194226,
          0.49868766404199477,
          0.5144356955380578,
          0.5590551181102362,
          0.5774278215223098,
          0.5905511811023622,
          0.6351706036745407,
          0.6692913385826772,
          0.7139107611548556,
          0.7165354330708661,
          0.7270341207349081,
          0.7559055118110236,
          0.7664041994750657,
          0.7847769028871391,
          0.7952755905511811,
          0.8083989501312336,
          0.821522309711286,
          0.8372703412073491,
          0.84251968503937,
          0.84251968503937,
          0.84251968503937,
          0.8451443569553806,
          0.847769028871391,
          0.8530183727034121,
          0.8530183727034121,
          1
         ],
         "y": [
          0,
          0.1875,
          0.2109375,
          0.2265625,
          0.25,
          0.3203125,
          0.390625,
          0.421875,
          0.4453125,
          0.46875,
          0.546875,
          0.5859375,
          0.625,
          0.71875,
          0.7578125,
          0.8203125,
          0.8828125,
          0.9375,
          0.9609375,
          0.984375,
          0.984375,
          0.984375,
          0.9921875,
          1,
          1,
          1,
          1,
          1,
          1,
          1,
          1,
          1,
          1,
          1,
          1,
          1,
          1
         ]
        },
        {
         "line": {
          "color": "lightgray"
         },
         "name": "Baseline",
         "type": "scatter",
         "x": [
          0,
          1
         ],
         "y": [
          0,
          1
         ]
        }
       ],
       "layout": {
        "height": 400,
        "template": {
         "data": {
          "bar": [
           {
            "error_x": {
             "color": "#2a3f5f"
            },
            "error_y": {
             "color": "#2a3f5f"
            },
            "marker": {
             "line": {
              "color": "#E5ECF6",
              "width": 0.5
             },
             "pattern": {
              "fillmode": "overlay",
              "size": 10,
              "solidity": 0.2
             }
            },
            "type": "bar"
           }
          ],
          "barpolar": [
           {
            "marker": {
             "line": {
              "color": "#E5ECF6",
              "width": 0.5
             },
             "pattern": {
              "fillmode": "overlay",
              "size": 10,
              "solidity": 0.2
             }
            },
            "type": "barpolar"
           }
          ],
          "carpet": [
           {
            "aaxis": {
             "endlinecolor": "#2a3f5f",
             "gridcolor": "white",
             "linecolor": "white",
             "minorgridcolor": "white",
             "startlinecolor": "#2a3f5f"
            },
            "baxis": {
             "endlinecolor": "#2a3f5f",
             "gridcolor": "white",
             "linecolor": "white",
             "minorgridcolor": "white",
             "startlinecolor": "#2a3f5f"
            },
            "type": "carpet"
           }
          ],
          "choropleth": [
           {
            "colorbar": {
             "outlinewidth": 0,
             "ticks": ""
            },
            "type": "choropleth"
           }
          ],
          "contour": [
           {
            "colorbar": {
             "outlinewidth": 0,
             "ticks": ""
            },
            "colorscale": [
             [
              0,
              "#0d0887"
             ],
             [
              0.1111111111111111,
              "#46039f"
             ],
             [
              0.2222222222222222,
              "#7201a8"
             ],
             [
              0.3333333333333333,
              "#9c179e"
             ],
             [
              0.4444444444444444,
              "#bd3786"
             ],
             [
              0.5555555555555556,
              "#d8576b"
             ],
             [
              0.6666666666666666,
              "#ed7953"
             ],
             [
              0.7777777777777778,
              "#fb9f3a"
             ],
             [
              0.8888888888888888,
              "#fdca26"
             ],
             [
              1,
              "#f0f921"
             ]
            ],
            "type": "contour"
           }
          ],
          "contourcarpet": [
           {
            "colorbar": {
             "outlinewidth": 0,
             "ticks": ""
            },
            "type": "contourcarpet"
           }
          ],
          "heatmap": [
           {
            "colorbar": {
             "outlinewidth": 0,
             "ticks": ""
            },
            "colorscale": [
             [
              0,
              "#0d0887"
             ],
             [
              0.1111111111111111,
              "#46039f"
             ],
             [
              0.2222222222222222,
              "#7201a8"
             ],
             [
              0.3333333333333333,
              "#9c179e"
             ],
             [
              0.4444444444444444,
              "#bd3786"
             ],
             [
              0.5555555555555556,
              "#d8576b"
             ],
             [
              0.6666666666666666,
              "#ed7953"
             ],
             [
              0.7777777777777778,
              "#fb9f3a"
             ],
             [
              0.8888888888888888,
              "#fdca26"
             ],
             [
              1,
              "#f0f921"
             ]
            ],
            "type": "heatmap"
           }
          ],
          "heatmapgl": [
           {
            "colorbar": {
             "outlinewidth": 0,
             "ticks": ""
            },
            "colorscale": [
             [
              0,
              "#0d0887"
             ],
             [
              0.1111111111111111,
              "#46039f"
             ],
             [
              0.2222222222222222,
              "#7201a8"
             ],
             [
              0.3333333333333333,
              "#9c179e"
             ],
             [
              0.4444444444444444,
              "#bd3786"
             ],
             [
              0.5555555555555556,
              "#d8576b"
             ],
             [
              0.6666666666666666,
              "#ed7953"
             ],
             [
              0.7777777777777778,
              "#fb9f3a"
             ],
             [
              0.8888888888888888,
              "#fdca26"
             ],
             [
              1,
              "#f0f921"
             ]
            ],
            "type": "heatmapgl"
           }
          ],
          "histogram": [
           {
            "marker": {
             "pattern": {
              "fillmode": "overlay",
              "size": 10,
              "solidity": 0.2
             }
            },
            "type": "histogram"
           }
          ],
          "histogram2d": [
           {
            "colorbar": {
             "outlinewidth": 0,
             "ticks": ""
            },
            "colorscale": [
             [
              0,
              "#0d0887"
             ],
             [
              0.1111111111111111,
              "#46039f"
             ],
             [
              0.2222222222222222,
              "#7201a8"
             ],
             [
              0.3333333333333333,
              "#9c179e"
             ],
             [
              0.4444444444444444,
              "#bd3786"
             ],
             [
              0.5555555555555556,
              "#d8576b"
             ],
             [
              0.6666666666666666,
              "#ed7953"
             ],
             [
              0.7777777777777778,
              "#fb9f3a"
             ],
             [
              0.8888888888888888,
              "#fdca26"
             ],
             [
              1,
              "#f0f921"
             ]
            ],
            "type": "histogram2d"
           }
          ],
          "histogram2dcontour": [
           {
            "colorbar": {
             "outlinewidth": 0,
             "ticks": ""
            },
            "colorscale": [
             [
              0,
              "#0d0887"
             ],
             [
              0.1111111111111111,
              "#46039f"
             ],
             [
              0.2222222222222222,
              "#7201a8"
             ],
             [
              0.3333333333333333,
              "#9c179e"
             ],
             [
              0.4444444444444444,
              "#bd3786"
             ],
             [
              0.5555555555555556,
              "#d8576b"
             ],
             [
              0.6666666666666666,
              "#ed7953"
             ],
             [
              0.7777777777777778,
              "#fb9f3a"
             ],
             [
              0.8888888888888888,
              "#fdca26"
             ],
             [
              1,
              "#f0f921"
             ]
            ],
            "type": "histogram2dcontour"
           }
          ],
          "mesh3d": [
           {
            "colorbar": {
             "outlinewidth": 0,
             "ticks": ""
            },
            "type": "mesh3d"
           }
          ],
          "parcoords": [
           {
            "line": {
             "colorbar": {
              "outlinewidth": 0,
              "ticks": ""
             }
            },
            "type": "parcoords"
           }
          ],
          "pie": [
           {
            "automargin": true,
            "type": "pie"
           }
          ],
          "scatter": [
           {
            "fillpattern": {
             "fillmode": "overlay",
             "size": 10,
             "solidity": 0.2
            },
            "type": "scatter"
           }
          ],
          "scatter3d": [
           {
            "line": {
             "colorbar": {
              "outlinewidth": 0,
              "ticks": ""
             }
            },
            "marker": {
             "colorbar": {
              "outlinewidth": 0,
              "ticks": ""
             }
            },
            "type": "scatter3d"
           }
          ],
          "scattercarpet": [
           {
            "marker": {
             "colorbar": {
              "outlinewidth": 0,
              "ticks": ""
             }
            },
            "type": "scattercarpet"
           }
          ],
          "scattergeo": [
           {
            "marker": {
             "colorbar": {
              "outlinewidth": 0,
              "ticks": ""
             }
            },
            "type": "scattergeo"
           }
          ],
          "scattergl": [
           {
            "marker": {
             "colorbar": {
              "outlinewidth": 0,
              "ticks": ""
             }
            },
            "type": "scattergl"
           }
          ],
          "scattermapbox": [
           {
            "marker": {
             "colorbar": {
              "outlinewidth": 0,
              "ticks": ""
             }
            },
            "type": "scattermapbox"
           }
          ],
          "scatterpolar": [
           {
            "marker": {
             "colorbar": {
              "outlinewidth": 0,
              "ticks": ""
             }
            },
            "type": "scatterpolar"
           }
          ],
          "scatterpolargl": [
           {
            "marker": {
             "colorbar": {
              "outlinewidth": 0,
              "ticks": ""
             }
            },
            "type": "scatterpolargl"
           }
          ],
          "scatterternary": [
           {
            "marker": {
             "colorbar": {
              "outlinewidth": 0,
              "ticks": ""
             }
            },
            "type": "scatterternary"
           }
          ],
          "surface": [
           {
            "colorbar": {
             "outlinewidth": 0,
             "ticks": ""
            },
            "colorscale": [
             [
              0,
              "#0d0887"
             ],
             [
              0.1111111111111111,
              "#46039f"
             ],
             [
              0.2222222222222222,
              "#7201a8"
             ],
             [
              0.3333333333333333,
              "#9c179e"
             ],
             [
              0.4444444444444444,
              "#bd3786"
             ],
             [
              0.5555555555555556,
              "#d8576b"
             ],
             [
              0.6666666666666666,
              "#ed7953"
             ],
             [
              0.7777777777777778,
              "#fb9f3a"
             ],
             [
              0.8888888888888888,
              "#fdca26"
             ],
             [
              1,
              "#f0f921"
             ]
            ],
            "type": "surface"
           }
          ],
          "table": [
           {
            "cells": {
             "fill": {
              "color": "#EBF0F8"
             },
             "line": {
              "color": "white"
             }
            },
            "header": {
             "fill": {
              "color": "#C8D4E3"
             },
             "line": {
              "color": "white"
             }
            },
            "type": "table"
           }
          ]
         },
         "layout": {
          "annotationdefaults": {
           "arrowcolor": "#2a3f5f",
           "arrowhead": 0,
           "arrowwidth": 1
          },
          "autotypenumbers": "strict",
          "coloraxis": {
           "colorbar": {
            "outlinewidth": 0,
            "ticks": ""
           }
          },
          "colorscale": {
           "diverging": [
            [
             0,
             "#8e0152"
            ],
            [
             0.1,
             "#c51b7d"
            ],
            [
             0.2,
             "#de77ae"
            ],
            [
             0.3,
             "#f1b6da"
            ],
            [
             0.4,
             "#fde0ef"
            ],
            [
             0.5,
             "#f7f7f7"
            ],
            [
             0.6,
             "#e6f5d0"
            ],
            [
             0.7,
             "#b8e186"
            ],
            [
             0.8,
             "#7fbc41"
            ],
            [
             0.9,
             "#4d9221"
            ],
            [
             1,
             "#276419"
            ]
           ],
           "sequential": [
            [
             0,
             "#0d0887"
            ],
            [
             0.1111111111111111,
             "#46039f"
            ],
            [
             0.2222222222222222,
             "#7201a8"
            ],
            [
             0.3333333333333333,
             "#9c179e"
            ],
            [
             0.4444444444444444,
             "#bd3786"
            ],
            [
             0.5555555555555556,
             "#d8576b"
            ],
            [
             0.6666666666666666,
             "#ed7953"
            ],
            [
             0.7777777777777778,
             "#fb9f3a"
            ],
            [
             0.8888888888888888,
             "#fdca26"
            ],
            [
             1,
             "#f0f921"
            ]
           ],
           "sequentialminus": [
            [
             0,
             "#0d0887"
            ],
            [
             0.1111111111111111,
             "#46039f"
            ],
            [
             0.2222222222222222,
             "#7201a8"
            ],
            [
             0.3333333333333333,
             "#9c179e"
            ],
            [
             0.4444444444444444,
             "#bd3786"
            ],
            [
             0.5555555555555556,
             "#d8576b"
            ],
            [
             0.6666666666666666,
             "#ed7953"
            ],
            [
             0.7777777777777778,
             "#fb9f3a"
            ],
            [
             0.8888888888888888,
             "#fdca26"
            ],
            [
             1,
             "#f0f921"
            ]
           ]
          },
          "colorway": [
           "#636efa",
           "#EF553B",
           "#00cc96",
           "#ab63fa",
           "#FFA15A",
           "#19d3f3",
           "#FF6692",
           "#B6E880",
           "#FF97FF",
           "#FECB52"
          ],
          "font": {
           "color": "#2a3f5f"
          },
          "geo": {
           "bgcolor": "white",
           "lakecolor": "white",
           "landcolor": "#E5ECF6",
           "showlakes": true,
           "showland": true,
           "subunitcolor": "white"
          },
          "hoverlabel": {
           "align": "left"
          },
          "hovermode": "closest",
          "mapbox": {
           "style": "light"
          },
          "paper_bgcolor": "white",
          "plot_bgcolor": "#E5ECF6",
          "polar": {
           "angularaxis": {
            "gridcolor": "white",
            "linecolor": "white",
            "ticks": ""
           },
           "bgcolor": "#E5ECF6",
           "radialaxis": {
            "gridcolor": "white",
            "linecolor": "white",
            "ticks": ""
           }
          },
          "scene": {
           "xaxis": {
            "backgroundcolor": "#E5ECF6",
            "gridcolor": "white",
            "gridwidth": 2,
            "linecolor": "white",
            "showbackground": true,
            "ticks": "",
            "zerolinecolor": "white"
           },
           "yaxis": {
            "backgroundcolor": "#E5ECF6",
            "gridcolor": "white",
            "gridwidth": 2,
            "linecolor": "white",
            "showbackground": true,
            "ticks": "",
            "zerolinecolor": "white"
           },
           "zaxis": {
            "backgroundcolor": "#E5ECF6",
            "gridcolor": "white",
            "gridwidth": 2,
            "linecolor": "white",
            "showbackground": true,
            "ticks": "",
            "zerolinecolor": "white"
           }
          },
          "shapedefaults": {
           "line": {
            "color": "#2a3f5f"
           }
          },
          "ternary": {
           "aaxis": {
            "gridcolor": "white",
            "linecolor": "white",
            "ticks": ""
           },
           "baxis": {
            "gridcolor": "white",
            "linecolor": "white",
            "ticks": ""
           },
           "bgcolor": "#E5ECF6",
           "caxis": {
            "gridcolor": "white",
            "linecolor": "white",
            "ticks": ""
           }
          },
          "title": {
           "x": 0.05
          },
          "xaxis": {
           "automargin": true,
           "gridcolor": "white",
           "linecolor": "white",
           "ticks": "",
           "title": {
            "standoff": 15
           },
           "zerolinecolor": "white",
           "zerolinewidth": 2
          },
          "yaxis": {
           "automargin": true,
           "gridcolor": "white",
           "linecolor": "white",
           "ticks": "",
           "title": {
            "standoff": 15
           },
           "zerolinecolor": "white",
           "zerolinewidth": 2
          }
         }
        },
        "title": {
         "text": "ROC Curve - cpu - Criteria: 2"
        },
        "width": 580,
        "xaxis": {
         "range": [
          0,
          1
         ],
         "title": {
          "text": "False Positive Rate"
         }
        },
        "yaxis": {
         "range": [
          0,
          1
         ],
         "scaleanchor": "x",
         "scaleratio": 1,
         "title": {
          "text": "True Positive Rate"
         }
        }
       }
      }
     },
     "metadata": {},
     "output_type": "display_data"
    }
   ],
   "source": [
    "dataset = \"cpu\"\n",
    "generateROCForCriteria(dataset, 1, inference_providers )\n",
    "generateROCForCriteria(dataset, 2, inference_providers )"
   ]
  }
 ],
 "metadata": {
  "kernelspec": {
   "display_name": ".venv",
   "language": "python",
   "name": "python3"
  },
  "language_info": {
   "codemirror_mode": {
    "name": "ipython",
    "version": 3
   },
   "file_extension": ".py",
   "mimetype": "text/x-python",
   "name": "python",
   "nbconvert_exporter": "python",
   "pygments_lexer": "ipython3",
   "version": "3.8.10"
  }
 },
 "nbformat": 4,
 "nbformat_minor": 2
}
