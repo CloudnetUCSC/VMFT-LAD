{
 "cells": [
  {
   "cell_type": "code",
   "execution_count": 2,
   "metadata": {},
   "outputs": [],
   "source": [
    "import pandas as pd\n",
    "from tqdm import tqdm\n",
    "import json\n",
    "import os\n",
    "\n",
    "from vmft_lad.BaseDetector import BaseDetector\n",
    "from heap_providers.SubsequenceMaxHeap import SubsequenceMaxHeap\n",
    "from log_inference_providers.FakeLogInferenceProvider import FakeLogInferenceProvider\n",
    "from log_inference_providers.BartLarge import FastBartLargeZeroShotLogInference\n",
    "from log_inference_providers.EmertonMonarch7B import FastEmertonMonarch7BFewShotLogInference\n",
    "from log_inference_providers.Cyrax7B import FastCyrax7BFewShotLogInference\n",
    "from log_inference_providers.Falcon7B import Falcon7BFewShotLogInference\n",
    "from log_inference_providers.GPT3.FastGPT3FewShotLogInference import FastGPT3FewShotLogInference"
   ]
  },
  {
   "cell_type": "code",
   "execution_count": 3,
   "metadata": {},
   "outputs": [],
   "source": [
    "inference_providers = {\n",
    "    \"Fake\": FakeLogInferenceProvider,\n",
    "    \"BartLarge\": FastBartLargeZeroShotLogInference,\n",
    "    \"Falcon7B\": Falcon7BFewShotLogInference,\n",
    "    \"Cyrax7B\": FastCyrax7BFewShotLogInference,\n",
    "    \"GPT3\": FastGPT3FewShotLogInference,\n",
    "    \"EmertonMonarch7B\": FastEmertonMonarch7BFewShotLogInference,\n",
    "}"
   ]
  },
  {
   "cell_type": "code",
   "execution_count": 4,
   "metadata": {},
   "outputs": [],
   "source": [
    "window_size = 4\n",
    "anomaly_threshold = 0.15\n",
    "subsequence_match_threshold = 0.05\n",
    "probationary_period = 150\n",
    "\n",
    "\n",
    "inference_provider_name = \"GPT3\"\n",
    "inference_provider = inference_providers[inference_provider_name]()\n",
    "\n",
    "dataset_name = \"cpu\""
   ]
  },
  {
   "cell_type": "code",
   "execution_count": 5,
   "metadata": {},
   "outputs": [],
   "source": [
    "dataset_dir = f\"../../data/{dataset_name}\"\n",
    "dataset_metadata = json.load(open(f\"{dataset_dir}/dataset_metadata.json\"))\n",
    "\n",
    "# output_dir = f\"./output/{dataset_name}/{inference_provider_name}\"\n",
    "output_dir = f\"../../results/vmft-lad/{dataset_name}\" # CHANGE THIS LATER\n",
    "os.makedirs(output_dir, exist_ok=True)"
   ]
  },
  {
   "cell_type": "code",
   "execution_count": 6,
   "metadata": {},
   "outputs": [],
   "source": [
    "for datasetFile in os.scandir(dataset_dir):\n",
    "    if not datasetFile.name.endswith(\".csv\"):\n",
    "        continue\n",
    "\n",
    "    dataset_df = pd.read_csv(datasetFile.path, header=0)\n",
    "    data = dataset_df[\"value\"].tolist()\n",
    "\n",
    "    dataset_name = datasetFile.name.split(\".\")[0]\n",
    "\n",
    "    label_index = dataset_metadata[dataset_name][\"label_region\"]\n",
    "\n",
    "    max_heap_provider = SubsequenceMaxHeap()\n",
    "    model = BaseDetector(\n",
    "        inferenceProvider=inference_provider,\n",
    "        maxHeapProvider=max_heap_provider,\n",
    "        data=data,\n",
    "        windowSize=window_size,\n",
    "        probationaryPeriod=probationary_period,\n",
    "        subsequenceMatchThreshold=subsequence_match_threshold,\n",
    "        anomalyThreshold=anomaly_threshold)\n",
    "    \n",
    "    out_df = dataset_df.copy()\n",
    "\n",
    "    for i in range(len(data)):\n",
    "        anomaly_score = model.handleRecord(i)\n",
    "        out_df.at[i, 'anomaly_score'] = anomaly_score\n",
    "        if label_index == 0:\n",
    "            out_df.at[i, 'label'] = 0\n",
    "        else:\n",
    "            out_df.at[i, 'label'] = 1 if i >= label_index else 0\n",
    "    \n",
    "    # out_df.loc[len(out_df)] = {\"timestamp\": \"2025-01-01 12:12:12.000000\",\n",
    "    #                            \"value\": 0,\n",
    "    #                            \"anomaly_score\": 1.0,\n",
    "    #                            \"label\": 1.0,}\n",
    "    \n",
    "    out_df.to_csv(f\"{output_dir}/vmft-lad_{dataset_name}.csv\", index=False)"
   ]
  }
 ],
 "metadata": {
  "kernelspec": {
   "display_name": ".venv",
   "language": "python",
   "name": "python3"
  },
  "language_info": {
   "codemirror_mode": {
    "name": "ipython",
    "version": 3
   },
   "file_extension": ".py",
   "mimetype": "text/x-python",
   "name": "python",
   "nbconvert_exporter": "python",
   "pygments_lexer": "ipython3",
   "version": "3.8.10"
  }
 },
 "nbformat": 4,
 "nbformat_minor": 2
}
