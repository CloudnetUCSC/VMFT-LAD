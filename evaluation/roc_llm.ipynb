{
 "cells": [
  {
   "cell_type": "code",
   "execution_count": 10,
   "metadata": {},
   "outputs": [],
   "source": [
    "import pandas as pd"
   ]
  },
  {
   "cell_type": "code",
   "execution_count": 11,
   "metadata": {},
   "outputs": [],
   "source": [
    "def tpr(TP, FN):\n",
    "    if TP + FN == 0:\n",
    "        return 1\n",
    "    return TP / (TP + FN)\n",
    "\n",
    "\n",
    "def fpr(FP, TN):\n",
    "    if FP + TN == 0:\n",
    "        return 0\n",
    "    return FP / (FP + TN)"
   ]
  },
  {
   "cell_type": "code",
   "execution_count": 12,
   "metadata": {},
   "outputs": [],
   "source": [
    "from typing import List\n",
    "\n",
    "\n",
    "def getAUC(x: List[float], y:List[float]) -> float:\n",
    "    \"\"\"\n",
    "    Calculates the area under the curve (AUC) using the trapezoidal rule.\n",
    "    \"\"\"\n",
    "    if len(x) != len(y):\n",
    "        raise ValueError(\"The number of x and y values must be equal\")\n",
    "\n",
    "    n = len(x)\n",
    "    area = 0.0\n",
    "\n",
    "    for i in range(1, n):\n",
    "        # Trapezoidal rule: area of trapezoid = (1/2) * (sum of parallel sides) * height\n",
    "        area += 0.5 * (x[i] - x[i-1]) * (y[i] + y[i-1])\n",
    "\n",
    "    return area // 0.001 / 1000"
   ]
  },
  {
   "cell_type": "code",
   "execution_count": 13,
   "metadata": {},
   "outputs": [],
   "source": [
    "def getFPRAndTPR(dataset, model_name, criteria):\n",
    "    eval_res_df = (\n",
    "        pd.read_csv(\n",
    "            f\"./results_llm/{dataset}/{model_name}/criteria{criteria}.csv\",\n",
    "            header=0,\n",
    "        )\n",
    "        .sort_values(\"threshold\")\n",
    "        .reset_index(drop=True)\n",
    "    )\n",
    "\n",
    "    if criteria == 2:\n",
    "        eval_res_df[\"FN\"] = eval_res_df[\"FN\"] + eval_res_df[\"TP_LATE\"]\n",
    "\n",
    "    eval_res_df[\"TPR\"] = eval_res_df.apply(\n",
    "        lambda row: tpr(row[\"TP\"], row[\"FN\"]), axis=1\n",
    "    )\n",
    "    eval_res_df[\"FPR\"] = eval_res_df.apply(\n",
    "        lambda row: fpr(row[\"FP\"], row[\"TN\"]), axis=1\n",
    "    )\n",
    "    \n",
    "    eval_res_df = eval_res_df.sort_values(\"FPR\").reset_index(drop=True)\n",
    "\n",
    "    fin_tpr = eval_res_df[\"TPR\"].tolist()\n",
    "    fin_tpr.insert(0, 0)\n",
    "    fin_tpr.append(1)\n",
    "    \n",
    "    fin_fpr = eval_res_df[\"FPR\"].tolist()\n",
    "    fin_fpr.insert(0, 0)\n",
    "    fin_fpr.append(1)\n",
    "\n",
    "    return fin_fpr, fin_tpr"
   ]
  },
  {
   "cell_type": "code",
   "execution_count": 14,
   "metadata": {},
   "outputs": [],
   "source": [
    "def getAUCForDataset(dataset: str, models = [\"LLM-Falcon7B\", \"LLM-Cyrax7B\", \"LLM-EmertonMonarch7B\", \"LLM-BartLarge\",  \"LLM-GPT3\"]):\n",
    "        # print(f\"{model_name}\\t\", end=\"\")\n",
    "    for criteria in [1, 2]:\n",
    "        # print(f\"Criteria {criteria}\")\n",
    "        for model_name in models:\n",
    "            # print(f\"{model_name}\")\n",
    "            fin_fpr, fin_tpr = getFPRAndTPR(dataset, model_name, criteria)\n",
    "            print(f\"{getAUC(fin_fpr, fin_tpr)}\")\n",
    "        # print()\n"
   ]
  },
  {
   "cell_type": "code",
   "execution_count": 15,
   "metadata": {},
   "outputs": [
    {
     "name": "stdout",
     "output_type": "stream",
     "text": [
      "0.517\n",
      "0.506\n",
      "0.518\n",
      "0.513\n",
      "0.999\n",
      "0.517\n",
      "0.506\n",
      "0.518\n",
      "0.513\n",
      "0.999\n"
     ]
    }
   ],
   "source": [
    "getAUCForDataset(\"hdd\")"
   ]
  },
  {
   "cell_type": "code",
   "execution_count": 16,
   "metadata": {},
   "outputs": [
    {
     "name": "stdout",
     "output_type": "stream",
     "text": [
      "0.505\n",
      "0.501\n",
      "0.502\n",
      "0.501\n",
      "0.999\n",
      "0.487\n",
      "0.501\n",
      "0.502\n",
      "0.501\n",
      "0.999\n"
     ]
    }
   ],
   "source": [
    "getAUCForDataset(\"buffer-io\")"
   ]
  },
  {
   "cell_type": "code",
   "execution_count": 17,
   "metadata": {},
   "outputs": [
    {
     "name": "stdout",
     "output_type": "stream",
     "text": [
      "0.499\n",
      "0.5\n",
      "0.499\n",
      "0.499\n",
      "0.87\n",
      "0.499\n",
      "0.5\n",
      "0.499\n",
      "0.499\n",
      "0.87\n"
     ]
    }
   ],
   "source": [
    "getAUCForDataset(\"oom\")"
   ]
  },
  {
   "cell_type": "code",
   "execution_count": 18,
   "metadata": {},
   "outputs": [
    {
     "name": "stdout",
     "output_type": "stream",
     "text": [
      "0.534\n",
      "0.515\n",
      "0.515\n",
      "0.524\n",
      "0.999\n",
      "0.534\n",
      "0.515\n",
      "0.515\n",
      "0.524\n",
      "0.999\n"
     ]
    }
   ],
   "source": [
    "getAUCForDataset(\"cpu\")"
   ]
  }
 ],
 "metadata": {
  "kernelspec": {
   "display_name": ".venv",
   "language": "python",
   "name": "python3"
  },
  "language_info": {
   "codemirror_mode": {
    "name": "ipython",
    "version": 3
   },
   "file_extension": ".py",
   "mimetype": "text/x-python",
   "name": "python",
   "nbconvert_exporter": "python",
   "pygments_lexer": "ipython3",
   "version": "3.8.10"
  }
 },
 "nbformat": 4,
 "nbformat_minor": 2
}
